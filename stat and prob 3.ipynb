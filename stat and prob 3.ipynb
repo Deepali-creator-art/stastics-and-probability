{
 "cells": [
  {
   "cell_type": "markdown",
   "id": "51cf0c68",
   "metadata": {},
   "source": [
    "# Pandas Library"
   ]
  },
  {
   "cell_type": "markdown",
   "id": "be4ec582",
   "metadata": {},
   "source": [
    "Pandas stands for Panel Data and Python Data Analysis.\n",
    "\n",
    "Pandas we have three data structure: Series: 1-dimesional data DataFrame :2 -dimesional data Panel: more than 3 dimesional data"
   ]
  },
  {
   "cell_type": "code",
   "execution_count": 1,
   "id": "452d7d75",
   "metadata": {},
   "outputs": [
    {
     "data": {
      "text/plain": [
       "'1.4.2'"
      ]
     },
     "execution_count": 1,
     "metadata": {},
     "output_type": "execute_result"
    }
   ],
   "source": [
    "import pandas as pd\n",
    "pd.__version__"
   ]
  },
  {
   "cell_type": "code",
   "execution_count": 2,
   "id": "e2ddaf97",
   "metadata": {},
   "outputs": [
    {
     "name": "stdout",
     "output_type": "stream",
     "text": [
      "0    20\n",
      "1    12\n",
      "2    45\n",
      "3    67\n",
      "4    89\n",
      "5    90\n",
      "dtype: int64\n"
     ]
    }
   ],
   "source": [
    "#one dimesional data\n",
    "num=pd.Series([20,12,45,67,89,90])\n",
    "print(num)"
   ]
  },
  {
   "cell_type": "code",
   "execution_count": null,
   "id": "a7e3edf3",
   "metadata": {},
   "outputs": [],
   "source": [
    "Pandas we have 3 types of data types:\n",
    "    integer:\n",
    "        int8 :1 Byte\n",
    "        int16 :2 Byte\n",
    "        int32 :4 Byte\n",
    "        int64 :8 Byte\n",
    "    float:\n",
    "        float8 :1 Byte\n",
    "        float16 :2 Byte\n",
    "        float32 :4 Byte\n",
    "        float64 :8 Byte        \n",
    "    object:\n",
    "        string data type\n",
    "    "
   ]
  },
  {
   "cell_type": "code",
   "execution_count": 3,
   "id": "5a578b19",
   "metadata": {},
   "outputs": [
    {
     "data": {
      "text/html": [
       "<div>\n",
       "<style scoped>\n",
       "    .dataframe tbody tr th:only-of-type {\n",
       "        vertical-align: middle;\n",
       "    }\n",
       "\n",
       "    .dataframe tbody tr th {\n",
       "        vertical-align: top;\n",
       "    }\n",
       "\n",
       "    .dataframe thead th {\n",
       "        text-align: right;\n",
       "    }\n",
       "</style>\n",
       "<table border=\"1\" class=\"dataframe\">\n",
       "  <thead>\n",
       "    <tr style=\"text-align: right;\">\n",
       "      <th></th>\n",
       "      <th>employee_name</th>\n",
       "      <th>company_name</th>\n",
       "      <th>salary</th>\n",
       "    </tr>\n",
       "  </thead>\n",
       "  <tbody>\n",
       "    <tr>\n",
       "      <th>0</th>\n",
       "      <td>Prathmesh</td>\n",
       "      <td>TCS</td>\n",
       "      <td>35000</td>\n",
       "    </tr>\n",
       "    <tr>\n",
       "      <th>1</th>\n",
       "      <td>Mayur</td>\n",
       "      <td>Tech-Mahindra</td>\n",
       "      <td>25000</td>\n",
       "    </tr>\n",
       "    <tr>\n",
       "      <th>2</th>\n",
       "      <td>Sujit</td>\n",
       "      <td>Infosys</td>\n",
       "      <td>40000</td>\n",
       "    </tr>\n",
       "    <tr>\n",
       "      <th>3</th>\n",
       "      <td>Abhijeet</td>\n",
       "      <td>SalesForce</td>\n",
       "      <td>45000</td>\n",
       "    </tr>\n",
       "  </tbody>\n",
       "</table>\n",
       "</div>"
      ],
      "text/plain": [
       "  employee_name   company_name  salary\n",
       "0     Prathmesh            TCS   35000\n",
       "1         Mayur  Tech-Mahindra   25000\n",
       "2         Sujit        Infosys   40000\n",
       "3      Abhijeet     SalesForce   45000"
      ]
     },
     "execution_count": 3,
     "metadata": {},
     "output_type": "execute_result"
    }
   ],
   "source": [
    "#2 dimesional data\n",
    "#Dataframe:collection of series\n",
    "employee_data={'employee_name':['Prathmesh','Mayur','Sujit','Abhijeet'],\n",
    "               'company_name':['TCS','Tech-Mahindra','Infosys','SalesForce'],\n",
    "               'salary':[35000,25000,40000,45000]}\n",
    "emp_data=pd.DataFrame(employee_data)   \n",
    "emp_data\n"
   ]
  },
  {
   "cell_type": "code",
   "execution_count": 4,
   "id": "54ca0fab",
   "metadata": {},
   "outputs": [
    {
     "data": {
      "text/plain": [
       "0    Prathmesh\n",
       "1        Mayur\n",
       "2        Sujit\n",
       "3     Abhijeet\n",
       "Name: employee_name, dtype: object"
      ]
     },
     "execution_count": 4,
     "metadata": {},
     "output_type": "execute_result"
    }
   ],
   "source": [
    "#column selection\n",
    "emp_data['employee_name']"
   ]
  },
  {
   "cell_type": "code",
   "execution_count": 5,
   "id": "71a3fe22",
   "metadata": {},
   "outputs": [
    {
     "name": "stdout",
     "output_type": "stream",
     "text": [
      "<class 'pandas.core.frame.DataFrame'>\n",
      "RangeIndex: 4 entries, 0 to 3\n",
      "Data columns (total 3 columns):\n",
      " #   Column         Non-Null Count  Dtype \n",
      "---  ------         --------------  ----- \n",
      " 0   employee_name  4 non-null      object\n",
      " 1   company_name   4 non-null      object\n",
      " 2   salary         4 non-null      int64 \n",
      "dtypes: int64(1), object(2)\n",
      "memory usage: 224.0+ bytes\n"
     ]
    }
   ],
   "source": [
    "emp_data.info()"
   ]
  },
  {
   "cell_type": "code",
   "execution_count": 7,
   "id": "c12fc7d5",
   "metadata": {},
   "outputs": [
    {
     "data": {
      "text/plain": [
       "36250.0"
      ]
     },
     "execution_count": 7,
     "metadata": {},
     "output_type": "execute_result"
    }
   ],
   "source": [
    "emp_data['salary'].mean()"
   ]
  },
  {
   "cell_type": "code",
   "execution_count": 8,
   "id": "3becd5b2",
   "metadata": {},
   "outputs": [
    {
     "data": {
      "text/plain": [
       "37500.0"
      ]
     },
     "execution_count": 8,
     "metadata": {},
     "output_type": "execute_result"
    }
   ],
   "source": [
    "#25000,35000,40000,45000 =>35000+40000/2=37500\n",
    "emp_data['salary'].median()"
   ]
  },
  {
   "cell_type": "code",
   "execution_count": 10,
   "id": "61837db0",
   "metadata": {},
   "outputs": [
    {
     "data": {
      "text/plain": [
       "0    25000\n",
       "1    35000\n",
       "2    40000\n",
       "3    45000\n",
       "Name: salary, dtype: int64"
      ]
     },
     "execution_count": 10,
     "metadata": {},
     "output_type": "execute_result"
    }
   ],
   "source": [
    "emp_data['salary'].mode()"
   ]
  },
  {
   "cell_type": "code",
   "execution_count": 11,
   "id": "5a831179",
   "metadata": {},
   "outputs": [
    {
     "data": {
      "text/html": [
       "<div>\n",
       "<style scoped>\n",
       "    .dataframe tbody tr th:only-of-type {\n",
       "        vertical-align: middle;\n",
       "    }\n",
       "\n",
       "    .dataframe tbody tr th {\n",
       "        vertical-align: top;\n",
       "    }\n",
       "\n",
       "    .dataframe thead th {\n",
       "        text-align: right;\n",
       "    }\n",
       "</style>\n",
       "<table border=\"1\" class=\"dataframe\">\n",
       "  <thead>\n",
       "    <tr style=\"text-align: right;\">\n",
       "      <th></th>\n",
       "      <th>employee_name</th>\n",
       "      <th>company_name</th>\n",
       "      <th>salary</th>\n",
       "    </tr>\n",
       "  </thead>\n",
       "  <tbody>\n",
       "    <tr>\n",
       "      <th>0</th>\n",
       "      <td>Prathmesh</td>\n",
       "      <td>TCS</td>\n",
       "      <td>35000</td>\n",
       "    </tr>\n",
       "    <tr>\n",
       "      <th>1</th>\n",
       "      <td>Mayur</td>\n",
       "      <td>Tech-Mahindra</td>\n",
       "      <td>25000</td>\n",
       "    </tr>\n",
       "    <tr>\n",
       "      <th>2</th>\n",
       "      <td>Sujit</td>\n",
       "      <td>Infosys</td>\n",
       "      <td>40000</td>\n",
       "    </tr>\n",
       "    <tr>\n",
       "      <th>3</th>\n",
       "      <td>Abhijeet</td>\n",
       "      <td>SalesForce</td>\n",
       "      <td>45000</td>\n",
       "    </tr>\n",
       "    <tr>\n",
       "      <th>4</th>\n",
       "      <td>Onkar</td>\n",
       "      <td>L&amp;T</td>\n",
       "      <td>40000</td>\n",
       "    </tr>\n",
       "    <tr>\n",
       "      <th>5</th>\n",
       "      <td>Vaibhav</td>\n",
       "      <td>Infosys</td>\n",
       "      <td>40000</td>\n",
       "    </tr>\n",
       "  </tbody>\n",
       "</table>\n",
       "</div>"
      ],
      "text/plain": [
       "  employee_name   company_name  salary\n",
       "0     Prathmesh            TCS   35000\n",
       "1         Mayur  Tech-Mahindra   25000\n",
       "2         Sujit        Infosys   40000\n",
       "3      Abhijeet     SalesForce   45000\n",
       "4         Onkar            L&T   40000\n",
       "5       Vaibhav        Infosys   40000"
      ]
     },
     "execution_count": 11,
     "metadata": {},
     "output_type": "execute_result"
    }
   ],
   "source": [
    "#2 dimesional data\n",
    "#Dataframe:collection of series\n",
    "employee_data={'employee_name':['Prathmesh','Mayur','Sujit','Abhijeet','Onkar','Vaibhav'],\n",
    "               'company_name':['TCS','Tech-Mahindra','Infosys','SalesForce','L&T','Infosys'],\n",
    "               'salary':[35000,25000,40000,45000,40000,40000]}\n",
    "emp_data=pd.DataFrame(employee_data)   \n",
    "emp_data"
   ]
  },
  {
   "cell_type": "code",
   "execution_count": 12,
   "id": "753e1546",
   "metadata": {},
   "outputs": [
    {
     "data": {
      "text/plain": [
       "0    40000\n",
       "Name: salary, dtype: int64"
      ]
     },
     "execution_count": 12,
     "metadata": {},
     "output_type": "execute_result"
    }
   ],
   "source": [
    "emp_data['salary'].mode()"
   ]
  },
  {
   "cell_type": "code",
   "execution_count": 14,
   "id": "f6195b35",
   "metadata": {},
   "outputs": [
    {
     "data": {
      "text/plain": [
       "0    Infosys\n",
       "Name: company_name, dtype: object"
      ]
     },
     "execution_count": 14,
     "metadata": {},
     "output_type": "execute_result"
    }
   ],
   "source": [
    "emp_data['company_name'].mode()"
   ]
  },
  {
   "cell_type": "code",
   "execution_count": 15,
   "id": "9c963b60",
   "metadata": {},
   "outputs": [
    {
     "data": {
      "text/html": [
       "<div>\n",
       "<style scoped>\n",
       "    .dataframe tbody tr th:only-of-type {\n",
       "        vertical-align: middle;\n",
       "    }\n",
       "\n",
       "    .dataframe tbody tr th {\n",
       "        vertical-align: top;\n",
       "    }\n",
       "\n",
       "    .dataframe thead th {\n",
       "        text-align: right;\n",
       "    }\n",
       "</style>\n",
       "<table border=\"1\" class=\"dataframe\">\n",
       "  <thead>\n",
       "    <tr style=\"text-align: right;\">\n",
       "      <th></th>\n",
       "      <th>salary</th>\n",
       "    </tr>\n",
       "  </thead>\n",
       "  <tbody>\n",
       "    <tr>\n",
       "      <th>count</th>\n",
       "      <td>6.000000</td>\n",
       "    </tr>\n",
       "    <tr>\n",
       "      <th>mean</th>\n",
       "      <td>37500.000000</td>\n",
       "    </tr>\n",
       "    <tr>\n",
       "      <th>std</th>\n",
       "      <td>6892.024376</td>\n",
       "    </tr>\n",
       "    <tr>\n",
       "      <th>min</th>\n",
       "      <td>25000.000000</td>\n",
       "    </tr>\n",
       "    <tr>\n",
       "      <th>25%</th>\n",
       "      <td>36250.000000</td>\n",
       "    </tr>\n",
       "    <tr>\n",
       "      <th>50%</th>\n",
       "      <td>40000.000000</td>\n",
       "    </tr>\n",
       "    <tr>\n",
       "      <th>75%</th>\n",
       "      <td>40000.000000</td>\n",
       "    </tr>\n",
       "    <tr>\n",
       "      <th>max</th>\n",
       "      <td>45000.000000</td>\n",
       "    </tr>\n",
       "  </tbody>\n",
       "</table>\n",
       "</div>"
      ],
      "text/plain": [
       "             salary\n",
       "count      6.000000\n",
       "mean   37500.000000\n",
       "std     6892.024376\n",
       "min    25000.000000\n",
       "25%    36250.000000\n",
       "50%    40000.000000\n",
       "75%    40000.000000\n",
       "max    45000.000000"
      ]
     },
     "execution_count": 15,
     "metadata": {},
     "output_type": "execute_result"
    }
   ],
   "source": [
    "emp_data.describe()"
   ]
  },
  {
   "cell_type": "code",
   "execution_count": 16,
   "id": "59e70020",
   "metadata": {},
   "outputs": [
    {
     "data": {
      "text/html": [
       "<div>\n",
       "<style scoped>\n",
       "    .dataframe tbody tr th:only-of-type {\n",
       "        vertical-align: middle;\n",
       "    }\n",
       "\n",
       "    .dataframe tbody tr th {\n",
       "        vertical-align: top;\n",
       "    }\n",
       "\n",
       "    .dataframe thead th {\n",
       "        text-align: right;\n",
       "    }\n",
       "</style>\n",
       "<table border=\"1\" class=\"dataframe\">\n",
       "  <thead>\n",
       "    <tr style=\"text-align: right;\">\n",
       "      <th></th>\n",
       "      <th>employee_name</th>\n",
       "      <th>company_name</th>\n",
       "    </tr>\n",
       "  </thead>\n",
       "  <tbody>\n",
       "    <tr>\n",
       "      <th>count</th>\n",
       "      <td>6</td>\n",
       "      <td>6</td>\n",
       "    </tr>\n",
       "    <tr>\n",
       "      <th>unique</th>\n",
       "      <td>6</td>\n",
       "      <td>5</td>\n",
       "    </tr>\n",
       "    <tr>\n",
       "      <th>top</th>\n",
       "      <td>Prathmesh</td>\n",
       "      <td>Infosys</td>\n",
       "    </tr>\n",
       "    <tr>\n",
       "      <th>freq</th>\n",
       "      <td>1</td>\n",
       "      <td>2</td>\n",
       "    </tr>\n",
       "  </tbody>\n",
       "</table>\n",
       "</div>"
      ],
      "text/plain": [
       "       employee_name company_name\n",
       "count              6            6\n",
       "unique             6            5\n",
       "top        Prathmesh      Infosys\n",
       "freq               1            2"
      ]
     },
     "execution_count": 16,
     "metadata": {},
     "output_type": "execute_result"
    }
   ],
   "source": [
    "emp_data.describe(include='object')"
   ]
  },
  {
   "cell_type": "code",
   "execution_count": 1,
   "id": "671ed8b9",
   "metadata": {},
   "outputs": [
    {
     "data": {
      "text/html": [
       "<div>\n",
       "<style scoped>\n",
       "    .dataframe tbody tr th:only-of-type {\n",
       "        vertical-align: middle;\n",
       "    }\n",
       "\n",
       "    .dataframe tbody tr th {\n",
       "        vertical-align: top;\n",
       "    }\n",
       "\n",
       "    .dataframe thead th {\n",
       "        text-align: right;\n",
       "    }\n",
       "</style>\n",
       "<table border=\"1\" class=\"dataframe\">\n",
       "  <thead>\n",
       "    <tr style=\"text-align: right;\">\n",
       "      <th></th>\n",
       "      <th>Units sold</th>\n",
       "      <th>Price</th>\n",
       "    </tr>\n",
       "  </thead>\n",
       "  <tbody>\n",
       "    <tr>\n",
       "      <th>0</th>\n",
       "      <td>100</td>\n",
       "      <td>60</td>\n",
       "    </tr>\n",
       "    <tr>\n",
       "      <th>1</th>\n",
       "      <td>60</td>\n",
       "      <td>50</td>\n",
       "    </tr>\n",
       "    <tr>\n",
       "      <th>2</th>\n",
       "      <td>50</td>\n",
       "      <td>40</td>\n",
       "    </tr>\n",
       "    <tr>\n",
       "      <th>3</th>\n",
       "      <td>10</td>\n",
       "      <td>30</td>\n",
       "    </tr>\n",
       "  </tbody>\n",
       "</table>\n",
       "</div>"
      ],
      "text/plain": [
       "   Units sold  Price\n",
       "0         100     60\n",
       "1          60     50\n",
       "2          50     40\n",
       "3          10     30"
      ]
     },
     "execution_count": 1,
     "metadata": {},
     "output_type": "execute_result"
    }
   ],
   "source": [
    "import pandas as pd\n",
    "rice_data={'Units sold':[100,60,50,10],\n",
    "          'Price':[60,50,40,30]}\n",
    "df=pd.DataFrame(rice_data)\n",
    "df"
   ]
  },
  {
   "cell_type": "code",
   "execution_count": 2,
   "id": "11ac76be",
   "metadata": {},
   "outputs": [
    {
     "data": {
      "text/plain": [
       "51.36363636363637"
      ]
     },
     "execution_count": 2,
     "metadata": {},
     "output_type": "execute_result"
    }
   ],
   "source": [
    "import numpy as np\n",
    "np.average(a=df['Price'],weights=df['Units sold'])"
   ]
  },
  {
   "cell_type": "code",
   "execution_count": 3,
   "id": "1c9a9ff0",
   "metadata": {},
   "outputs": [
    {
     "data": {
      "text/plain": [
       "2.3863636363636362"
      ]
     },
     "execution_count": 3,
     "metadata": {},
     "output_type": "execute_result"
    }
   ],
   "source": [
    "import statistics as st\n",
    "data=[1,3,5,7]\n",
    "st.harmonic_mean(data)"
   ]
  },
  {
   "cell_type": "code",
   "execution_count": 4,
   "id": "99134bca",
   "metadata": {},
   "outputs": [
    {
     "data": {
      "text/plain": [
       "8.329601614295372"
      ]
     },
     "execution_count": 4,
     "metadata": {},
     "output_type": "execute_result"
    }
   ],
   "source": [
    "import statistics as st\n",
    "data=[2,8,6,9,10,14,23]\n",
    "st.geometric_mean(data)"
   ]
  },
  {
   "cell_type": "code",
   "execution_count": 7,
   "id": "2cb55488",
   "metadata": {},
   "outputs": [
    {
     "data": {
      "text/html": [
       "<div>\n",
       "<style scoped>\n",
       "    .dataframe tbody tr th:only-of-type {\n",
       "        vertical-align: middle;\n",
       "    }\n",
       "\n",
       "    .dataframe tbody tr th {\n",
       "        vertical-align: top;\n",
       "    }\n",
       "\n",
       "    .dataframe thead th {\n",
       "        text-align: right;\n",
       "    }\n",
       "</style>\n",
       "<table border=\"1\" class=\"dataframe\">\n",
       "  <thead>\n",
       "    <tr style=\"text-align: right;\">\n",
       "      <th></th>\n",
       "      <th>Subject names</th>\n",
       "      <th>Bhakti-marks</th>\n",
       "      <th>Mayur-marks</th>\n",
       "      <th>Abhijeet-marks</th>\n",
       "      <th>Sujit-marks</th>\n",
       "    </tr>\n",
       "  </thead>\n",
       "  <tbody>\n",
       "    <tr>\n",
       "      <th>0</th>\n",
       "      <td>phy</td>\n",
       "      <td>45</td>\n",
       "      <td>67</td>\n",
       "      <td>56</td>\n",
       "      <td>78</td>\n",
       "    </tr>\n",
       "    <tr>\n",
       "      <th>1</th>\n",
       "      <td>math</td>\n",
       "      <td>78</td>\n",
       "      <td>78</td>\n",
       "      <td>78</td>\n",
       "      <td>76</td>\n",
       "    </tr>\n",
       "    <tr>\n",
       "      <th>2</th>\n",
       "      <td>chem</td>\n",
       "      <td>67</td>\n",
       "      <td>89</td>\n",
       "      <td>93</td>\n",
       "      <td>89</td>\n",
       "    </tr>\n",
       "    <tr>\n",
       "      <th>3</th>\n",
       "      <td>bio</td>\n",
       "      <td>89</td>\n",
       "      <td>76</td>\n",
       "      <td>82</td>\n",
       "      <td>43</td>\n",
       "    </tr>\n",
       "  </tbody>\n",
       "</table>\n",
       "</div>"
      ],
      "text/plain": [
       "  Subject names  Bhakti-marks  Mayur-marks  Abhijeet-marks  Sujit-marks\n",
       "0           phy            45           67              56           78\n",
       "1          math            78           78              78           76\n",
       "2          chem            67           89              93           89\n",
       "3           bio            89           76              82           43"
      ]
     },
     "execution_count": 7,
     "metadata": {},
     "output_type": "execute_result"
    }
   ],
   "source": [
    "subject_data={'Subject names':['phy','math','chem','bio'],\n",
    "             'Bhakti-marks':[45,78,67,89],\n",
    "             'Mayur-marks':[67,78,89,76],\n",
    "             'Abhijeet-marks':[56,78,93,82],\n",
    "             'Sujit-marks':[78,76,89,43]}\n",
    "import pandas as pd\n",
    "data=pd.DataFrame(subject_data)\n",
    "data"
   ]
  },
  {
   "cell_type": "code",
   "execution_count": 8,
   "id": "387e6091",
   "metadata": {},
   "outputs": [
    {
     "name": "stderr",
     "output_type": "stream",
     "text": [
      "C:\\Users\\Administrator\\AppData\\Local\\Temp\\ipykernel_16876\\531903386.py:1: FutureWarning: Dropping of nuisance columns in DataFrame reductions (with 'numeric_only=None') is deprecated; in a future version this will raise TypeError.  Select only valid columns before calling the reduction.\n",
      "  data.mean()\n"
     ]
    },
    {
     "data": {
      "text/plain": [
       "Bhakti-marks      69.75\n",
       "Mayur-marks       77.50\n",
       "Abhijeet-marks    77.25\n",
       "Sujit-marks       71.50\n",
       "dtype: float64"
      ]
     },
     "execution_count": 8,
     "metadata": {},
     "output_type": "execute_result"
    }
   ],
   "source": [
    "data.mean()"
   ]
  },
  {
   "cell_type": "code",
   "execution_count": 9,
   "id": "d97a2159",
   "metadata": {},
   "outputs": [
    {
     "name": "stderr",
     "output_type": "stream",
     "text": [
      "C:\\Users\\Administrator\\AppData\\Local\\Temp\\ipykernel_16876\\2773904261.py:1: FutureWarning: Dropping of nuisance columns in DataFrame reductions (with 'numeric_only=None') is deprecated; in a future version this will raise TypeError.  Select only valid columns before calling the reduction.\n",
      "  data.mean(axis=0)\n"
     ]
    },
    {
     "data": {
      "text/plain": [
       "Bhakti-marks      69.75\n",
       "Mayur-marks       77.50\n",
       "Abhijeet-marks    77.25\n",
       "Sujit-marks       71.50\n",
       "dtype: float64"
      ]
     },
     "execution_count": 9,
     "metadata": {},
     "output_type": "execute_result"
    }
   ],
   "source": [
    "data.mean(axis=0) #axis=0 column values"
   ]
  },
  {
   "cell_type": "code",
   "execution_count": 10,
   "id": "8372ac16",
   "metadata": {},
   "outputs": [
    {
     "name": "stderr",
     "output_type": "stream",
     "text": [
      "C:\\Users\\Administrator\\AppData\\Local\\Temp\\ipykernel_16876\\561826174.py:1: FutureWarning: Dropping of nuisance columns in DataFrame reductions (with 'numeric_only=None') is deprecated; in a future version this will raise TypeError.  Select only valid columns before calling the reduction.\n",
      "  data.mean(axis=1)\n"
     ]
    },
    {
     "data": {
      "text/plain": [
       "0    61.5\n",
       "1    77.5\n",
       "2    84.5\n",
       "3    72.5\n",
       "dtype: float64"
      ]
     },
     "execution_count": 10,
     "metadata": {},
     "output_type": "execute_result"
    }
   ],
   "source": [
    "data.mean(axis=1) #axis=1 row values"
   ]
  },
  {
   "cell_type": "code",
   "execution_count": 13,
   "id": "2ea2ae89",
   "metadata": {},
   "outputs": [],
   "source": [
    "data.set_index('Subject names',inplace=True)"
   ]
  },
  {
   "cell_type": "code",
   "execution_count": 14,
   "id": "16a9c995",
   "metadata": {},
   "outputs": [
    {
     "data": {
      "text/html": [
       "<div>\n",
       "<style scoped>\n",
       "    .dataframe tbody tr th:only-of-type {\n",
       "        vertical-align: middle;\n",
       "    }\n",
       "\n",
       "    .dataframe tbody tr th {\n",
       "        vertical-align: top;\n",
       "    }\n",
       "\n",
       "    .dataframe thead th {\n",
       "        text-align: right;\n",
       "    }\n",
       "</style>\n",
       "<table border=\"1\" class=\"dataframe\">\n",
       "  <thead>\n",
       "    <tr style=\"text-align: right;\">\n",
       "      <th></th>\n",
       "      <th>Bhakti-marks</th>\n",
       "      <th>Mayur-marks</th>\n",
       "      <th>Abhijeet-marks</th>\n",
       "      <th>Sujit-marks</th>\n",
       "    </tr>\n",
       "    <tr>\n",
       "      <th>Subject names</th>\n",
       "      <th></th>\n",
       "      <th></th>\n",
       "      <th></th>\n",
       "      <th></th>\n",
       "    </tr>\n",
       "  </thead>\n",
       "  <tbody>\n",
       "    <tr>\n",
       "      <th>phy</th>\n",
       "      <td>45</td>\n",
       "      <td>67</td>\n",
       "      <td>56</td>\n",
       "      <td>78</td>\n",
       "    </tr>\n",
       "    <tr>\n",
       "      <th>math</th>\n",
       "      <td>78</td>\n",
       "      <td>78</td>\n",
       "      <td>78</td>\n",
       "      <td>76</td>\n",
       "    </tr>\n",
       "    <tr>\n",
       "      <th>chem</th>\n",
       "      <td>67</td>\n",
       "      <td>89</td>\n",
       "      <td>93</td>\n",
       "      <td>89</td>\n",
       "    </tr>\n",
       "    <tr>\n",
       "      <th>bio</th>\n",
       "      <td>89</td>\n",
       "      <td>76</td>\n",
       "      <td>82</td>\n",
       "      <td>43</td>\n",
       "    </tr>\n",
       "  </tbody>\n",
       "</table>\n",
       "</div>"
      ],
      "text/plain": [
       "               Bhakti-marks  Mayur-marks  Abhijeet-marks  Sujit-marks\n",
       "Subject names                                                        \n",
       "phy                      45           67              56           78\n",
       "math                     78           78              78           76\n",
       "chem                     67           89              93           89\n",
       "bio                      89           76              82           43"
      ]
     },
     "execution_count": 14,
     "metadata": {},
     "output_type": "execute_result"
    }
   ],
   "source": [
    "data"
   ]
  },
  {
   "cell_type": "code",
   "execution_count": 15,
   "id": "144dbf7e",
   "metadata": {},
   "outputs": [
    {
     "data": {
      "text/plain": [
       "Subject names\n",
       "phy     61.5\n",
       "math    77.5\n",
       "chem    84.5\n",
       "bio     72.5\n",
       "dtype: float64"
      ]
     },
     "execution_count": 15,
     "metadata": {},
     "output_type": "execute_result"
    }
   ],
   "source": [
    "data.mean(axis=1)"
   ]
  },
  {
   "cell_type": "code",
   "execution_count": 16,
   "id": "5d2196a6",
   "metadata": {},
   "outputs": [
    {
     "name": "stdout",
     "output_type": "stream",
     "text": [
      "<class 'pandas.core.frame.DataFrame'>\n",
      "Index: 4 entries, phy to bio\n",
      "Data columns (total 4 columns):\n",
      " #   Column          Non-Null Count  Dtype\n",
      "---  ------          --------------  -----\n",
      " 0   Bhakti-marks    4 non-null      int64\n",
      " 1   Mayur-marks     4 non-null      int64\n",
      " 2   Abhijeet-marks  4 non-null      int64\n",
      " 3   Sujit-marks     4 non-null      int64\n",
      "dtypes: int64(4)\n",
      "memory usage: 332.0+ bytes\n"
     ]
    }
   ],
   "source": [
    "data.info()"
   ]
  },
  {
   "cell_type": "code",
   "execution_count": 17,
   "id": "42126d34",
   "metadata": {},
   "outputs": [
    {
     "data": {
      "text/html": [
       "<div>\n",
       "<style scoped>\n",
       "    .dataframe tbody tr th:only-of-type {\n",
       "        vertical-align: middle;\n",
       "    }\n",
       "\n",
       "    .dataframe tbody tr th {\n",
       "        vertical-align: top;\n",
       "    }\n",
       "\n",
       "    .dataframe thead th {\n",
       "        text-align: right;\n",
       "    }\n",
       "</style>\n",
       "<table border=\"1\" class=\"dataframe\">\n",
       "  <thead>\n",
       "    <tr style=\"text-align: right;\">\n",
       "      <th></th>\n",
       "      <th>Bhakti-marks</th>\n",
       "      <th>Mayur-marks</th>\n",
       "      <th>Abhijeet-marks</th>\n",
       "      <th>Sujit-marks</th>\n",
       "    </tr>\n",
       "    <tr>\n",
       "      <th>Subject names</th>\n",
       "      <th></th>\n",
       "      <th></th>\n",
       "      <th></th>\n",
       "      <th></th>\n",
       "    </tr>\n",
       "  </thead>\n",
       "  <tbody>\n",
       "    <tr>\n",
       "      <th>phy</th>\n",
       "      <td>45</td>\n",
       "      <td>67</td>\n",
       "      <td>56</td>\n",
       "      <td>78</td>\n",
       "    </tr>\n",
       "    <tr>\n",
       "      <th>math</th>\n",
       "      <td>78</td>\n",
       "      <td>78</td>\n",
       "      <td>78</td>\n",
       "      <td>76</td>\n",
       "    </tr>\n",
       "    <tr>\n",
       "      <th>chem</th>\n",
       "      <td>67</td>\n",
       "      <td>89</td>\n",
       "      <td>93</td>\n",
       "      <td>89</td>\n",
       "    </tr>\n",
       "    <tr>\n",
       "      <th>bio</th>\n",
       "      <td>89</td>\n",
       "      <td>76</td>\n",
       "      <td>82</td>\n",
       "      <td>43</td>\n",
       "    </tr>\n",
       "  </tbody>\n",
       "</table>\n",
       "</div>"
      ],
      "text/plain": [
       "               Bhakti-marks  Mayur-marks  Abhijeet-marks  Sujit-marks\n",
       "Subject names                                                        \n",
       "phy                      45           67              56           78\n",
       "math                     78           78              78           76\n",
       "chem                     67           89              93           89\n",
       "bio                      89           76              82           43"
      ]
     },
     "execution_count": 17,
     "metadata": {},
     "output_type": "execute_result"
    }
   ],
   "source": [
    "data.iloc[:,:]"
   ]
  },
  {
   "cell_type": "code",
   "execution_count": 18,
   "id": "8ce4ac82",
   "metadata": {},
   "outputs": [
    {
     "data": {
      "text/plain": [
       "Subject names\n",
       "phy     56\n",
       "math    78\n",
       "chem    93\n",
       "bio     82\n",
       "Name: Abhijeet-marks, dtype: int64"
      ]
     },
     "execution_count": 18,
     "metadata": {},
     "output_type": "execute_result"
    }
   ],
   "source": [
    "data.iloc[:,2]"
   ]
  },
  {
   "cell_type": "code",
   "execution_count": 19,
   "id": "1d9bf229",
   "metadata": {},
   "outputs": [
    {
     "data": {
      "text/html": [
       "<div>\n",
       "<style scoped>\n",
       "    .dataframe tbody tr th:only-of-type {\n",
       "        vertical-align: middle;\n",
       "    }\n",
       "\n",
       "    .dataframe tbody tr th {\n",
       "        vertical-align: top;\n",
       "    }\n",
       "\n",
       "    .dataframe thead th {\n",
       "        text-align: right;\n",
       "    }\n",
       "</style>\n",
       "<table border=\"1\" class=\"dataframe\">\n",
       "  <thead>\n",
       "    <tr style=\"text-align: right;\">\n",
       "      <th></th>\n",
       "      <th>Abhijeet-marks</th>\n",
       "      <th>Sujit-marks</th>\n",
       "    </tr>\n",
       "    <tr>\n",
       "      <th>Subject names</th>\n",
       "      <th></th>\n",
       "      <th></th>\n",
       "    </tr>\n",
       "  </thead>\n",
       "  <tbody>\n",
       "    <tr>\n",
       "      <th>phy</th>\n",
       "      <td>56</td>\n",
       "      <td>78</td>\n",
       "    </tr>\n",
       "    <tr>\n",
       "      <th>math</th>\n",
       "      <td>78</td>\n",
       "      <td>76</td>\n",
       "    </tr>\n",
       "    <tr>\n",
       "      <th>chem</th>\n",
       "      <td>93</td>\n",
       "      <td>89</td>\n",
       "    </tr>\n",
       "    <tr>\n",
       "      <th>bio</th>\n",
       "      <td>82</td>\n",
       "      <td>43</td>\n",
       "    </tr>\n",
       "  </tbody>\n",
       "</table>\n",
       "</div>"
      ],
      "text/plain": [
       "               Abhijeet-marks  Sujit-marks\n",
       "Subject names                             \n",
       "phy                        56           78\n",
       "math                       78           76\n",
       "chem                       93           89\n",
       "bio                        82           43"
      ]
     },
     "execution_count": 19,
     "metadata": {},
     "output_type": "execute_result"
    }
   ],
   "source": [
    "data.iloc[:,2:4]"
   ]
  },
  {
   "cell_type": "code",
   "execution_count": 20,
   "id": "74b33bd0",
   "metadata": {},
   "outputs": [
    {
     "data": {
      "text/plain": [
       "Subject names\n",
       "phy     78\n",
       "math    76\n",
       "chem    89\n",
       "bio     43\n",
       "Name: Sujit-marks, dtype: int64"
      ]
     },
     "execution_count": 20,
     "metadata": {},
     "output_type": "execute_result"
    }
   ],
   "source": [
    "data.iloc[:,-1]"
   ]
  },
  {
   "cell_type": "code",
   "execution_count": 21,
   "id": "7854ee47",
   "metadata": {},
   "outputs": [
    {
     "data": {
      "text/plain": [
       "Subject names\n",
       "math    78\n",
       "chem    67\n",
       "Name: Bhakti-marks, dtype: int64"
      ]
     },
     "execution_count": 21,
     "metadata": {},
     "output_type": "execute_result"
    }
   ],
   "source": [
    "data.iloc[1:3,0]"
   ]
  },
  {
   "cell_type": "code",
   "execution_count": 23,
   "id": "1b3ceb5c",
   "metadata": {},
   "outputs": [
    {
     "data": {
      "text/plain": [
       "89"
      ]
     },
     "execution_count": 23,
     "metadata": {},
     "output_type": "execute_result"
    }
   ],
   "source": [
    "data.iloc[2,3]"
   ]
  },
  {
   "cell_type": "markdown",
   "id": "250ba4bf",
   "metadata": {},
   "source": [
    "# Case study"
   ]
  },
  {
   "cell_type": "markdown",
   "id": "3a1223c4",
   "metadata": {},
   "source": [
    "To analyze the performance of Indian cricketer MS Dhoni in his One Day International (ODI) career."
   ]
  },
  {
   "cell_type": "code",
   "execution_count": 1,
   "id": "087e2377",
   "metadata": {},
   "outputs": [
    {
     "data": {
      "text/html": [
       "<div>\n",
       "<style scoped>\n",
       "    .dataframe tbody tr th:only-of-type {\n",
       "        vertical-align: middle;\n",
       "    }\n",
       "\n",
       "    .dataframe tbody tr th {\n",
       "        vertical-align: top;\n",
       "    }\n",
       "\n",
       "    .dataframe thead th {\n",
       "        text-align: right;\n",
       "    }\n",
       "</style>\n",
       "<table border=\"1\" class=\"dataframe\">\n",
       "  <thead>\n",
       "    <tr style=\"text-align: right;\">\n",
       "      <th></th>\n",
       "      <th>score</th>\n",
       "      <th>runs_scored</th>\n",
       "      <th>balls_faced</th>\n",
       "      <th>strike_rate</th>\n",
       "      <th>fours</th>\n",
       "      <th>sixes</th>\n",
       "      <th>opposition</th>\n",
       "      <th>ground</th>\n",
       "      <th>date</th>\n",
       "      <th>odi_number</th>\n",
       "    </tr>\n",
       "  </thead>\n",
       "  <tbody>\n",
       "    <tr>\n",
       "      <th>0</th>\n",
       "      <td>0</td>\n",
       "      <td>0</td>\n",
       "      <td>1</td>\n",
       "      <td>0</td>\n",
       "      <td>0</td>\n",
       "      <td>0</td>\n",
       "      <td>v Bangladesh</td>\n",
       "      <td>Chattogram</td>\n",
       "      <td>23-12-2004</td>\n",
       "      <td>ODI # 2199</td>\n",
       "    </tr>\n",
       "    <tr>\n",
       "      <th>1</th>\n",
       "      <td>12</td>\n",
       "      <td>12</td>\n",
       "      <td>11</td>\n",
       "      <td>109.09</td>\n",
       "      <td>2</td>\n",
       "      <td>0</td>\n",
       "      <td>v Bangladesh</td>\n",
       "      <td>Dhaka</td>\n",
       "      <td>26-12-2004</td>\n",
       "      <td>ODI # 2201</td>\n",
       "    </tr>\n",
       "    <tr>\n",
       "      <th>2</th>\n",
       "      <td>7*</td>\n",
       "      <td>7</td>\n",
       "      <td>2</td>\n",
       "      <td>350</td>\n",
       "      <td>0</td>\n",
       "      <td>1</td>\n",
       "      <td>v Bangladesh</td>\n",
       "      <td>Dhaka</td>\n",
       "      <td>27-12-2004</td>\n",
       "      <td>ODI # 2202</td>\n",
       "    </tr>\n",
       "    <tr>\n",
       "      <th>3</th>\n",
       "      <td>3</td>\n",
       "      <td>3</td>\n",
       "      <td>7</td>\n",
       "      <td>42.85</td>\n",
       "      <td>0</td>\n",
       "      <td>0</td>\n",
       "      <td>v Pakistan</td>\n",
       "      <td>Kochi</td>\n",
       "      <td>2/4/2005</td>\n",
       "      <td>ODI # 2235</td>\n",
       "    </tr>\n",
       "    <tr>\n",
       "      <th>4</th>\n",
       "      <td>148</td>\n",
       "      <td>148</td>\n",
       "      <td>123</td>\n",
       "      <td>120.32</td>\n",
       "      <td>15</td>\n",
       "      <td>4</td>\n",
       "      <td>v Pakistan</td>\n",
       "      <td>Visakhapatnam</td>\n",
       "      <td>5/4/2005</td>\n",
       "      <td>ODI # 2236</td>\n",
       "    </tr>\n",
       "    <tr>\n",
       "      <th>...</th>\n",
       "      <td>...</td>\n",
       "      <td>...</td>\n",
       "      <td>...</td>\n",
       "      <td>...</td>\n",
       "      <td>...</td>\n",
       "      <td>...</td>\n",
       "      <td>...</td>\n",
       "      <td>...</td>\n",
       "      <td>...</td>\n",
       "      <td>...</td>\n",
       "    </tr>\n",
       "    <tr>\n",
       "      <th>345</th>\n",
       "      <td>56*</td>\n",
       "      <td>56</td>\n",
       "      <td>61</td>\n",
       "      <td>91.8</td>\n",
       "      <td>3</td>\n",
       "      <td>2</td>\n",
       "      <td>v West Indies</td>\n",
       "      <td>Manchester</td>\n",
       "      <td>27-06-2019</td>\n",
       "      <td>ODI # 4175</td>\n",
       "    </tr>\n",
       "    <tr>\n",
       "      <th>346</th>\n",
       "      <td>42*</td>\n",
       "      <td>42</td>\n",
       "      <td>31</td>\n",
       "      <td>135.48</td>\n",
       "      <td>4</td>\n",
       "      <td>1</td>\n",
       "      <td>v England</td>\n",
       "      <td>Birmingham</td>\n",
       "      <td>30-06-2019</td>\n",
       "      <td>ODI # 4179</td>\n",
       "    </tr>\n",
       "    <tr>\n",
       "      <th>347</th>\n",
       "      <td>35</td>\n",
       "      <td>35</td>\n",
       "      <td>33</td>\n",
       "      <td>106.06</td>\n",
       "      <td>4</td>\n",
       "      <td>0</td>\n",
       "      <td>v Bangladesh</td>\n",
       "      <td>Birmingham</td>\n",
       "      <td>2/7/2019</td>\n",
       "      <td>ODI # 4182</td>\n",
       "    </tr>\n",
       "    <tr>\n",
       "      <th>348</th>\n",
       "      <td>DNB</td>\n",
       "      <td>-</td>\n",
       "      <td>-</td>\n",
       "      <td>-</td>\n",
       "      <td>-</td>\n",
       "      <td>-</td>\n",
       "      <td>v Sri Lanka</td>\n",
       "      <td>Leeds</td>\n",
       "      <td>6/7/2019</td>\n",
       "      <td>ODI # 4187</td>\n",
       "    </tr>\n",
       "    <tr>\n",
       "      <th>349</th>\n",
       "      <td>50</td>\n",
       "      <td>50</td>\n",
       "      <td>72</td>\n",
       "      <td>69.44</td>\n",
       "      <td>1</td>\n",
       "      <td>1</td>\n",
       "      <td>v New Zealand</td>\n",
       "      <td>Manchester</td>\n",
       "      <td>9/7/2019</td>\n",
       "      <td>ODI # 4190</td>\n",
       "    </tr>\n",
       "  </tbody>\n",
       "</table>\n",
       "<p>350 rows × 10 columns</p>\n",
       "</div>"
      ],
      "text/plain": [
       "    score runs_scored balls_faced strike_rate fours sixes     opposition  \\\n",
       "0       0           0           1           0     0     0   v Bangladesh   \n",
       "1      12          12          11      109.09     2     0   v Bangladesh   \n",
       "2      7*           7           2         350     0     1   v Bangladesh   \n",
       "3       3           3           7       42.85     0     0     v Pakistan   \n",
       "4     148         148         123      120.32    15     4     v Pakistan   \n",
       "..    ...         ...         ...         ...   ...   ...            ...   \n",
       "345   56*          56          61        91.8     3     2  v West Indies   \n",
       "346   42*          42          31      135.48     4     1      v England   \n",
       "347    35          35          33      106.06     4     0   v Bangladesh   \n",
       "348   DNB           -           -           -     -     -    v Sri Lanka   \n",
       "349    50          50          72       69.44     1     1  v New Zealand   \n",
       "\n",
       "            ground        date  odi_number  \n",
       "0       Chattogram  23-12-2004  ODI # 2199  \n",
       "1            Dhaka  26-12-2004  ODI # 2201  \n",
       "2            Dhaka  27-12-2004  ODI # 2202  \n",
       "3            Kochi    2/4/2005  ODI # 2235  \n",
       "4    Visakhapatnam    5/4/2005  ODI # 2236  \n",
       "..             ...         ...         ...  \n",
       "345     Manchester  27-06-2019  ODI # 4175  \n",
       "346     Birmingham  30-06-2019  ODI # 4179  \n",
       "347     Birmingham    2/7/2019  ODI # 4182  \n",
       "348          Leeds    6/7/2019  ODI # 4187  \n",
       "349     Manchester    9/7/2019  ODI # 4190  \n",
       "\n",
       "[350 rows x 10 columns]"
      ]
     },
     "execution_count": 1,
     "metadata": {},
     "output_type": "execute_result"
    }
   ],
   "source": [
    "import pandas as pd\n",
    "#reading a csv file and coonvert into pandas dataframe\n",
    "dhoni_data=pd.read_csv(r\"E:\\Backup\\Datasets\\MS_Dhoni_ODI_record.csv\")\n",
    "dhoni_data"
   ]
  },
  {
   "cell_type": "code",
   "execution_count": 2,
   "id": "bad86a24",
   "metadata": {},
   "outputs": [
    {
     "name": "stdout",
     "output_type": "stream",
     "text": [
      "<class 'pandas.core.frame.DataFrame'>\n"
     ]
    }
   ],
   "source": [
    "print(type(dhoni_data))"
   ]
  },
  {
   "cell_type": "code",
   "execution_count": 3,
   "id": "fd25cf23",
   "metadata": {},
   "outputs": [
    {
     "name": "stdout",
     "output_type": "stream",
     "text": [
      "<class 'pandas.core.frame.DataFrame'>\n",
      "RangeIndex: 350 entries, 0 to 349\n",
      "Data columns (total 10 columns):\n",
      " #   Column       Non-Null Count  Dtype \n",
      "---  ------       --------------  ----- \n",
      " 0   score        350 non-null    object\n",
      " 1   runs_scored  350 non-null    object\n",
      " 2   balls_faced  350 non-null    object\n",
      " 3   strike_rate  350 non-null    object\n",
      " 4   fours        350 non-null    object\n",
      " 5   sixes        350 non-null    object\n",
      " 6   opposition   350 non-null    object\n",
      " 7   ground       350 non-null    object\n",
      " 8   date         350 non-null    object\n",
      " 9   odi_number   350 non-null    object\n",
      "dtypes: object(10)\n",
      "memory usage: 27.5+ KB\n"
     ]
    }
   ],
   "source": [
    "dhoni_data.info()"
   ]
  },
  {
   "cell_type": "markdown",
   "id": "485330fa",
   "metadata": {},
   "source": [
    "Drop the ODI number column because it is not required."
   ]
  },
  {
   "cell_type": "code",
   "execution_count": 4,
   "id": "5677ce61",
   "metadata": {},
   "outputs": [],
   "source": [
    "dhoni_data.drop('odi_number',inplace=True,axis=1)"
   ]
  },
  {
   "cell_type": "code",
   "execution_count": 5,
   "id": "8e75ffd7",
   "metadata": {},
   "outputs": [
    {
     "data": {
      "text/html": [
       "<div>\n",
       "<style scoped>\n",
       "    .dataframe tbody tr th:only-of-type {\n",
       "        vertical-align: middle;\n",
       "    }\n",
       "\n",
       "    .dataframe tbody tr th {\n",
       "        vertical-align: top;\n",
       "    }\n",
       "\n",
       "    .dataframe thead th {\n",
       "        text-align: right;\n",
       "    }\n",
       "</style>\n",
       "<table border=\"1\" class=\"dataframe\">\n",
       "  <thead>\n",
       "    <tr style=\"text-align: right;\">\n",
       "      <th></th>\n",
       "      <th>score</th>\n",
       "      <th>runs_scored</th>\n",
       "      <th>balls_faced</th>\n",
       "      <th>strike_rate</th>\n",
       "      <th>fours</th>\n",
       "      <th>sixes</th>\n",
       "      <th>opposition</th>\n",
       "      <th>ground</th>\n",
       "      <th>date</th>\n",
       "    </tr>\n",
       "  </thead>\n",
       "  <tbody>\n",
       "    <tr>\n",
       "      <th>0</th>\n",
       "      <td>0</td>\n",
       "      <td>0</td>\n",
       "      <td>1</td>\n",
       "      <td>0</td>\n",
       "      <td>0</td>\n",
       "      <td>0</td>\n",
       "      <td>v Bangladesh</td>\n",
       "      <td>Chattogram</td>\n",
       "      <td>23-12-2004</td>\n",
       "    </tr>\n",
       "    <tr>\n",
       "      <th>1</th>\n",
       "      <td>12</td>\n",
       "      <td>12</td>\n",
       "      <td>11</td>\n",
       "      <td>109.09</td>\n",
       "      <td>2</td>\n",
       "      <td>0</td>\n",
       "      <td>v Bangladesh</td>\n",
       "      <td>Dhaka</td>\n",
       "      <td>26-12-2004</td>\n",
       "    </tr>\n",
       "    <tr>\n",
       "      <th>2</th>\n",
       "      <td>7*</td>\n",
       "      <td>7</td>\n",
       "      <td>2</td>\n",
       "      <td>350</td>\n",
       "      <td>0</td>\n",
       "      <td>1</td>\n",
       "      <td>v Bangladesh</td>\n",
       "      <td>Dhaka</td>\n",
       "      <td>27-12-2004</td>\n",
       "    </tr>\n",
       "    <tr>\n",
       "      <th>3</th>\n",
       "      <td>3</td>\n",
       "      <td>3</td>\n",
       "      <td>7</td>\n",
       "      <td>42.85</td>\n",
       "      <td>0</td>\n",
       "      <td>0</td>\n",
       "      <td>v Pakistan</td>\n",
       "      <td>Kochi</td>\n",
       "      <td>2/4/2005</td>\n",
       "    </tr>\n",
       "    <tr>\n",
       "      <th>4</th>\n",
       "      <td>148</td>\n",
       "      <td>148</td>\n",
       "      <td>123</td>\n",
       "      <td>120.32</td>\n",
       "      <td>15</td>\n",
       "      <td>4</td>\n",
       "      <td>v Pakistan</td>\n",
       "      <td>Visakhapatnam</td>\n",
       "      <td>5/4/2005</td>\n",
       "    </tr>\n",
       "    <tr>\n",
       "      <th>...</th>\n",
       "      <td>...</td>\n",
       "      <td>...</td>\n",
       "      <td>...</td>\n",
       "      <td>...</td>\n",
       "      <td>...</td>\n",
       "      <td>...</td>\n",
       "      <td>...</td>\n",
       "      <td>...</td>\n",
       "      <td>...</td>\n",
       "    </tr>\n",
       "    <tr>\n",
       "      <th>345</th>\n",
       "      <td>56*</td>\n",
       "      <td>56</td>\n",
       "      <td>61</td>\n",
       "      <td>91.8</td>\n",
       "      <td>3</td>\n",
       "      <td>2</td>\n",
       "      <td>v West Indies</td>\n",
       "      <td>Manchester</td>\n",
       "      <td>27-06-2019</td>\n",
       "    </tr>\n",
       "    <tr>\n",
       "      <th>346</th>\n",
       "      <td>42*</td>\n",
       "      <td>42</td>\n",
       "      <td>31</td>\n",
       "      <td>135.48</td>\n",
       "      <td>4</td>\n",
       "      <td>1</td>\n",
       "      <td>v England</td>\n",
       "      <td>Birmingham</td>\n",
       "      <td>30-06-2019</td>\n",
       "    </tr>\n",
       "    <tr>\n",
       "      <th>347</th>\n",
       "      <td>35</td>\n",
       "      <td>35</td>\n",
       "      <td>33</td>\n",
       "      <td>106.06</td>\n",
       "      <td>4</td>\n",
       "      <td>0</td>\n",
       "      <td>v Bangladesh</td>\n",
       "      <td>Birmingham</td>\n",
       "      <td>2/7/2019</td>\n",
       "    </tr>\n",
       "    <tr>\n",
       "      <th>348</th>\n",
       "      <td>DNB</td>\n",
       "      <td>-</td>\n",
       "      <td>-</td>\n",
       "      <td>-</td>\n",
       "      <td>-</td>\n",
       "      <td>-</td>\n",
       "      <td>v Sri Lanka</td>\n",
       "      <td>Leeds</td>\n",
       "      <td>6/7/2019</td>\n",
       "    </tr>\n",
       "    <tr>\n",
       "      <th>349</th>\n",
       "      <td>50</td>\n",
       "      <td>50</td>\n",
       "      <td>72</td>\n",
       "      <td>69.44</td>\n",
       "      <td>1</td>\n",
       "      <td>1</td>\n",
       "      <td>v New Zealand</td>\n",
       "      <td>Manchester</td>\n",
       "      <td>9/7/2019</td>\n",
       "    </tr>\n",
       "  </tbody>\n",
       "</table>\n",
       "<p>350 rows × 9 columns</p>\n",
       "</div>"
      ],
      "text/plain": [
       "    score runs_scored balls_faced strike_rate fours sixes     opposition  \\\n",
       "0       0           0           1           0     0     0   v Bangladesh   \n",
       "1      12          12          11      109.09     2     0   v Bangladesh   \n",
       "2      7*           7           2         350     0     1   v Bangladesh   \n",
       "3       3           3           7       42.85     0     0     v Pakistan   \n",
       "4     148         148         123      120.32    15     4     v Pakistan   \n",
       "..    ...         ...         ...         ...   ...   ...            ...   \n",
       "345   56*          56          61        91.8     3     2  v West Indies   \n",
       "346   42*          42          31      135.48     4     1      v England   \n",
       "347    35          35          33      106.06     4     0   v Bangladesh   \n",
       "348   DNB           -           -           -     -     -    v Sri Lanka   \n",
       "349    50          50          72       69.44     1     1  v New Zealand   \n",
       "\n",
       "            ground        date  \n",
       "0       Chattogram  23-12-2004  \n",
       "1            Dhaka  26-12-2004  \n",
       "2            Dhaka  27-12-2004  \n",
       "3            Kochi    2/4/2005  \n",
       "4    Visakhapatnam    5/4/2005  \n",
       "..             ...         ...  \n",
       "345     Manchester  27-06-2019  \n",
       "346     Birmingham  30-06-2019  \n",
       "347     Birmingham    2/7/2019  \n",
       "348          Leeds    6/7/2019  \n",
       "349     Manchester    9/7/2019  \n",
       "\n",
       "[350 rows x 9 columns]"
      ]
     },
     "execution_count": 5,
     "metadata": {},
     "output_type": "execute_result"
    }
   ],
   "source": [
    "dhoni_data"
   ]
  },
  {
   "cell_type": "code",
   "execution_count": 6,
   "id": "3d0dc2b8",
   "metadata": {},
   "outputs": [
    {
     "data": {
      "text/html": [
       "<div>\n",
       "<style scoped>\n",
       "    .dataframe tbody tr th:only-of-type {\n",
       "        vertical-align: middle;\n",
       "    }\n",
       "\n",
       "    .dataframe tbody tr th {\n",
       "        vertical-align: top;\n",
       "    }\n",
       "\n",
       "    .dataframe thead th {\n",
       "        text-align: right;\n",
       "    }\n",
       "</style>\n",
       "<table border=\"1\" class=\"dataframe\">\n",
       "  <thead>\n",
       "    <tr style=\"text-align: right;\">\n",
       "      <th></th>\n",
       "      <th>score</th>\n",
       "      <th>runs_scored</th>\n",
       "      <th>balls_faced</th>\n",
       "      <th>strike_rate</th>\n",
       "      <th>fours</th>\n",
       "      <th>sixes</th>\n",
       "      <th>opposition</th>\n",
       "      <th>ground</th>\n",
       "      <th>date</th>\n",
       "    </tr>\n",
       "  </thead>\n",
       "  <tbody>\n",
       "    <tr>\n",
       "      <th>329</th>\n",
       "      <td>7</td>\n",
       "      <td>7</td>\n",
       "      <td>11</td>\n",
       "      <td>63.63</td>\n",
       "      <td>0</td>\n",
       "      <td>0</td>\n",
       "      <td>v West Indies</td>\n",
       "      <td>Pune</td>\n",
       "      <td>27-10-2018</td>\n",
       "    </tr>\n",
       "  </tbody>\n",
       "</table>\n",
       "</div>"
      ],
      "text/plain": [
       "    score runs_scored balls_faced strike_rate fours sixes     opposition  \\\n",
       "329     7           7          11       63.63     0     0  v West Indies   \n",
       "\n",
       "    ground        date  \n",
       "329   Pune  27-10-2018  "
      ]
     },
     "execution_count": 6,
     "metadata": {},
     "output_type": "execute_result"
    }
   ],
   "source": [
    "dhoni_data.sample()"
   ]
  },
  {
   "cell_type": "code",
   "execution_count": 7,
   "id": "9b49454f",
   "metadata": {},
   "outputs": [
    {
     "data": {
      "text/html": [
       "<div>\n",
       "<style scoped>\n",
       "    .dataframe tbody tr th:only-of-type {\n",
       "        vertical-align: middle;\n",
       "    }\n",
       "\n",
       "    .dataframe tbody tr th {\n",
       "        vertical-align: top;\n",
       "    }\n",
       "\n",
       "    .dataframe thead th {\n",
       "        text-align: right;\n",
       "    }\n",
       "</style>\n",
       "<table border=\"1\" class=\"dataframe\">\n",
       "  <thead>\n",
       "    <tr style=\"text-align: right;\">\n",
       "      <th></th>\n",
       "      <th>score</th>\n",
       "      <th>runs_scored</th>\n",
       "      <th>balls_faced</th>\n",
       "      <th>strike_rate</th>\n",
       "      <th>fours</th>\n",
       "      <th>sixes</th>\n",
       "      <th>opposition</th>\n",
       "      <th>ground</th>\n",
       "      <th>date</th>\n",
       "    </tr>\n",
       "  </thead>\n",
       "  <tbody>\n",
       "    <tr>\n",
       "      <th>63</th>\n",
       "      <td>48</td>\n",
       "      <td>48</td>\n",
       "      <td>68</td>\n",
       "      <td>70.58</td>\n",
       "      <td>1</td>\n",
       "      <td>0</td>\n",
       "      <td>v Sri Lanka</td>\n",
       "      <td>Rajkot</td>\n",
       "      <td>11/2/2007</td>\n",
       "    </tr>\n",
       "    <tr>\n",
       "      <th>36</th>\n",
       "      <td>38</td>\n",
       "      <td>38</td>\n",
       "      <td>55</td>\n",
       "      <td>69.09</td>\n",
       "      <td>2</td>\n",
       "      <td>0</td>\n",
       "      <td>v England</td>\n",
       "      <td>Faridabad</td>\n",
       "      <td>31-03-2006</td>\n",
       "    </tr>\n",
       "    <tr>\n",
       "      <th>180</th>\n",
       "      <td>19*</td>\n",
       "      <td>19</td>\n",
       "      <td>40</td>\n",
       "      <td>47.5</td>\n",
       "      <td>2</td>\n",
       "      <td>0</td>\n",
       "      <td>v Netherlands</td>\n",
       "      <td>Delhi</td>\n",
       "      <td>9/3/2011</td>\n",
       "    </tr>\n",
       "    <tr>\n",
       "      <th>28</th>\n",
       "      <td>14</td>\n",
       "      <td>14</td>\n",
       "      <td>26</td>\n",
       "      <td>53.84</td>\n",
       "      <td>0</td>\n",
       "      <td>0</td>\n",
       "      <td>v South Africa</td>\n",
       "      <td>Kolkata</td>\n",
       "      <td>25-11-2005</td>\n",
       "    </tr>\n",
       "    <tr>\n",
       "      <th>45</th>\n",
       "      <td>46*</td>\n",
       "      <td>46</td>\n",
       "      <td>58</td>\n",
       "      <td>79.31</td>\n",
       "      <td>6</td>\n",
       "      <td>0</td>\n",
       "      <td>v West Indies</td>\n",
       "      <td>Port of Spain</td>\n",
       "      <td>26-05-2006</td>\n",
       "    </tr>\n",
       "    <tr>\n",
       "      <th>232</th>\n",
       "      <td>13*</td>\n",
       "      <td>13</td>\n",
       "      <td>7</td>\n",
       "      <td>185.71</td>\n",
       "      <td>3</td>\n",
       "      <td>0</td>\n",
       "      <td>v West Indies</td>\n",
       "      <td>Kochi</td>\n",
       "      <td>21-11-2013</td>\n",
       "    </tr>\n",
       "    <tr>\n",
       "      <th>30</th>\n",
       "      <td>68</td>\n",
       "      <td>68</td>\n",
       "      <td>53</td>\n",
       "      <td>128.3</td>\n",
       "      <td>11</td>\n",
       "      <td>1</td>\n",
       "      <td>v Pakistan</td>\n",
       "      <td>Peshawar</td>\n",
       "      <td>6/2/2006</td>\n",
       "    </tr>\n",
       "    <tr>\n",
       "      <th>214</th>\n",
       "      <td>32</td>\n",
       "      <td>32</td>\n",
       "      <td>25</td>\n",
       "      <td>128</td>\n",
       "      <td>0</td>\n",
       "      <td>4</td>\n",
       "      <td>v England</td>\n",
       "      <td>Rajkot</td>\n",
       "      <td>11/1/2013</td>\n",
       "    </tr>\n",
       "    <tr>\n",
       "      <th>294</th>\n",
       "      <td>54</td>\n",
       "      <td>54</td>\n",
       "      <td>114</td>\n",
       "      <td>47.36</td>\n",
       "      <td>1</td>\n",
       "      <td>0</td>\n",
       "      <td>v West Indies</td>\n",
       "      <td>North Sound</td>\n",
       "      <td>2/7/2017</td>\n",
       "    </tr>\n",
       "    <tr>\n",
       "      <th>291</th>\n",
       "      <td>9*</td>\n",
       "      <td>9</td>\n",
       "      <td>9</td>\n",
       "      <td>100</td>\n",
       "      <td>1</td>\n",
       "      <td>0</td>\n",
       "      <td>v West Indies</td>\n",
       "      <td>Port of Spain</td>\n",
       "      <td>23-06-2017</td>\n",
       "    </tr>\n",
       "    <tr>\n",
       "      <th>131</th>\n",
       "      <td>23*</td>\n",
       "      <td>23</td>\n",
       "      <td>19</td>\n",
       "      <td>121.05</td>\n",
       "      <td>2</td>\n",
       "      <td>0</td>\n",
       "      <td>v New Zealand</td>\n",
       "      <td>Wellington</td>\n",
       "      <td>6/3/2009</td>\n",
       "    </tr>\n",
       "    <tr>\n",
       "      <th>19</th>\n",
       "      <td>38</td>\n",
       "      <td>38</td>\n",
       "      <td>28</td>\n",
       "      <td>135.71</td>\n",
       "      <td>3</td>\n",
       "      <td>2</td>\n",
       "      <td>v Sri Lanka</td>\n",
       "      <td>Nagpur</td>\n",
       "      <td>25-10-2005</td>\n",
       "    </tr>\n",
       "    <tr>\n",
       "      <th>186</th>\n",
       "      <td>33</td>\n",
       "      <td>33</td>\n",
       "      <td>36</td>\n",
       "      <td>91.66</td>\n",
       "      <td>2</td>\n",
       "      <td>0</td>\n",
       "      <td>v England</td>\n",
       "      <td>Chester-le-Street</td>\n",
       "      <td>3/9/2011</td>\n",
       "    </tr>\n",
       "    <tr>\n",
       "      <th>282</th>\n",
       "      <td>41</td>\n",
       "      <td>41</td>\n",
       "      <td>59</td>\n",
       "      <td>69.49</td>\n",
       "      <td>4</td>\n",
       "      <td>1</td>\n",
       "      <td>v New Zealand</td>\n",
       "      <td>Visakhapatnam</td>\n",
       "      <td>29-10-2016</td>\n",
       "    </tr>\n",
       "    <tr>\n",
       "      <th>176</th>\n",
       "      <td>5</td>\n",
       "      <td>5</td>\n",
       "      <td>10</td>\n",
       "      <td>50</td>\n",
       "      <td>1</td>\n",
       "      <td>0</td>\n",
       "      <td>v South Africa</td>\n",
       "      <td>Centurion</td>\n",
       "      <td>23-01-2011</td>\n",
       "    </tr>\n",
       "    <tr>\n",
       "      <th>101</th>\n",
       "      <td>50*</td>\n",
       "      <td>50</td>\n",
       "      <td>68</td>\n",
       "      <td>73.52</td>\n",
       "      <td>0</td>\n",
       "      <td>0</td>\n",
       "      <td>v Sri Lanka</td>\n",
       "      <td>Adelaide</td>\n",
       "      <td>19-02-2008</td>\n",
       "    </tr>\n",
       "    <tr>\n",
       "      <th>206</th>\n",
       "      <td>35</td>\n",
       "      <td>35</td>\n",
       "      <td>29</td>\n",
       "      <td>120.68</td>\n",
       "      <td>3</td>\n",
       "      <td>1</td>\n",
       "      <td>v Sri Lanka</td>\n",
       "      <td>Hambantota</td>\n",
       "      <td>21-07-2012</td>\n",
       "    </tr>\n",
       "    <tr>\n",
       "      <th>129</th>\n",
       "      <td>53</td>\n",
       "      <td>53</td>\n",
       "      <td>58</td>\n",
       "      <td>91.37</td>\n",
       "      <td>1</td>\n",
       "      <td>2</td>\n",
       "      <td>v Sri Lanka</td>\n",
       "      <td>Colombo (RPS)</td>\n",
       "      <td>8/2/2009</td>\n",
       "    </tr>\n",
       "    <tr>\n",
       "      <th>280</th>\n",
       "      <td>80</td>\n",
       "      <td>80</td>\n",
       "      <td>91</td>\n",
       "      <td>87.91</td>\n",
       "      <td>6</td>\n",
       "      <td>3</td>\n",
       "      <td>v New Zealand</td>\n",
       "      <td>Mohali</td>\n",
       "      <td>23-10-2016</td>\n",
       "    </tr>\n",
       "    <tr>\n",
       "      <th>300</th>\n",
       "      <td>1*</td>\n",
       "      <td>1</td>\n",
       "      <td>1</td>\n",
       "      <td>100</td>\n",
       "      <td>0</td>\n",
       "      <td>0</td>\n",
       "      <td>v Sri Lanka</td>\n",
       "      <td>Colombo (RPS)</td>\n",
       "      <td>3/9/2017</td>\n",
       "    </tr>\n",
       "  </tbody>\n",
       "</table>\n",
       "</div>"
      ],
      "text/plain": [
       "    score runs_scored balls_faced strike_rate fours sixes      opposition  \\\n",
       "63     48          48          68       70.58     1     0     v Sri Lanka   \n",
       "36     38          38          55       69.09     2     0       v England   \n",
       "180   19*          19          40        47.5     2     0   v Netherlands   \n",
       "28     14          14          26       53.84     0     0  v South Africa   \n",
       "45    46*          46          58       79.31     6     0   v West Indies   \n",
       "232   13*          13           7      185.71     3     0   v West Indies   \n",
       "30     68          68          53       128.3    11     1      v Pakistan   \n",
       "214    32          32          25         128     0     4       v England   \n",
       "294    54          54         114       47.36     1     0   v West Indies   \n",
       "291    9*           9           9         100     1     0   v West Indies   \n",
       "131   23*          23          19      121.05     2     0   v New Zealand   \n",
       "19     38          38          28      135.71     3     2     v Sri Lanka   \n",
       "186    33          33          36       91.66     2     0       v England   \n",
       "282    41          41          59       69.49     4     1   v New Zealand   \n",
       "176     5           5          10          50     1     0  v South Africa   \n",
       "101   50*          50          68       73.52     0     0     v Sri Lanka   \n",
       "206    35          35          29      120.68     3     1     v Sri Lanka   \n",
       "129    53          53          58       91.37     1     2     v Sri Lanka   \n",
       "280    80          80          91       87.91     6     3   v New Zealand   \n",
       "300    1*           1           1         100     0     0     v Sri Lanka   \n",
       "\n",
       "                ground        date  \n",
       "63              Rajkot   11/2/2007  \n",
       "36           Faridabad  31-03-2006  \n",
       "180              Delhi    9/3/2011  \n",
       "28             Kolkata  25-11-2005  \n",
       "45       Port of Spain  26-05-2006  \n",
       "232              Kochi  21-11-2013  \n",
       "30            Peshawar    6/2/2006  \n",
       "214             Rajkot   11/1/2013  \n",
       "294        North Sound    2/7/2017  \n",
       "291      Port of Spain  23-06-2017  \n",
       "131         Wellington    6/3/2009  \n",
       "19              Nagpur  25-10-2005  \n",
       "186  Chester-le-Street    3/9/2011  \n",
       "282      Visakhapatnam  29-10-2016  \n",
       "176          Centurion  23-01-2011  \n",
       "101           Adelaide  19-02-2008  \n",
       "206         Hambantota  21-07-2012  \n",
       "129      Colombo (RPS)    8/2/2009  \n",
       "280             Mohali  23-10-2016  \n",
       "300      Colombo (RPS)    3/9/2017  "
      ]
     },
     "execution_count": 7,
     "metadata": {},
     "output_type": "execute_result"
    }
   ],
   "source": [
    "dhoni_data.sample(20)"
   ]
  },
  {
   "cell_type": "code",
   "execution_count": 8,
   "id": "ec37ca7f",
   "metadata": {},
   "outputs": [
    {
     "data": {
      "text/html": [
       "<div>\n",
       "<style scoped>\n",
       "    .dataframe tbody tr th:only-of-type {\n",
       "        vertical-align: middle;\n",
       "    }\n",
       "\n",
       "    .dataframe tbody tr th {\n",
       "        vertical-align: top;\n",
       "    }\n",
       "\n",
       "    .dataframe thead th {\n",
       "        text-align: right;\n",
       "    }\n",
       "</style>\n",
       "<table border=\"1\" class=\"dataframe\">\n",
       "  <thead>\n",
       "    <tr style=\"text-align: right;\">\n",
       "      <th></th>\n",
       "      <th>score</th>\n",
       "      <th>runs_scored</th>\n",
       "      <th>balls_faced</th>\n",
       "      <th>strike_rate</th>\n",
       "      <th>fours</th>\n",
       "      <th>sixes</th>\n",
       "      <th>opposition</th>\n",
       "      <th>ground</th>\n",
       "      <th>date</th>\n",
       "    </tr>\n",
       "  </thead>\n",
       "  <tbody>\n",
       "    <tr>\n",
       "      <th>0</th>\n",
       "      <td>0</td>\n",
       "      <td>0</td>\n",
       "      <td>1</td>\n",
       "      <td>0</td>\n",
       "      <td>0</td>\n",
       "      <td>0</td>\n",
       "      <td>v Bangladesh</td>\n",
       "      <td>Chattogram</td>\n",
       "      <td>23-12-2004</td>\n",
       "    </tr>\n",
       "    <tr>\n",
       "      <th>1</th>\n",
       "      <td>12</td>\n",
       "      <td>12</td>\n",
       "      <td>11</td>\n",
       "      <td>109.09</td>\n",
       "      <td>2</td>\n",
       "      <td>0</td>\n",
       "      <td>v Bangladesh</td>\n",
       "      <td>Dhaka</td>\n",
       "      <td>26-12-2004</td>\n",
       "    </tr>\n",
       "    <tr>\n",
       "      <th>2</th>\n",
       "      <td>7*</td>\n",
       "      <td>7</td>\n",
       "      <td>2</td>\n",
       "      <td>350</td>\n",
       "      <td>0</td>\n",
       "      <td>1</td>\n",
       "      <td>v Bangladesh</td>\n",
       "      <td>Dhaka</td>\n",
       "      <td>27-12-2004</td>\n",
       "    </tr>\n",
       "    <tr>\n",
       "      <th>3</th>\n",
       "      <td>3</td>\n",
       "      <td>3</td>\n",
       "      <td>7</td>\n",
       "      <td>42.85</td>\n",
       "      <td>0</td>\n",
       "      <td>0</td>\n",
       "      <td>v Pakistan</td>\n",
       "      <td>Kochi</td>\n",
       "      <td>2/4/2005</td>\n",
       "    </tr>\n",
       "    <tr>\n",
       "      <th>4</th>\n",
       "      <td>148</td>\n",
       "      <td>148</td>\n",
       "      <td>123</td>\n",
       "      <td>120.32</td>\n",
       "      <td>15</td>\n",
       "      <td>4</td>\n",
       "      <td>v Pakistan</td>\n",
       "      <td>Visakhapatnam</td>\n",
       "      <td>5/4/2005</td>\n",
       "    </tr>\n",
       "  </tbody>\n",
       "</table>\n",
       "</div>"
      ],
      "text/plain": [
       "  score runs_scored balls_faced strike_rate fours sixes    opposition  \\\n",
       "0     0           0           1           0     0     0  v Bangladesh   \n",
       "1    12          12          11      109.09     2     0  v Bangladesh   \n",
       "2    7*           7           2         350     0     1  v Bangladesh   \n",
       "3     3           3           7       42.85     0     0    v Pakistan   \n",
       "4   148         148         123      120.32    15     4    v Pakistan   \n",
       "\n",
       "          ground        date  \n",
       "0     Chattogram  23-12-2004  \n",
       "1          Dhaka  26-12-2004  \n",
       "2          Dhaka  27-12-2004  \n",
       "3          Kochi    2/4/2005  \n",
       "4  Visakhapatnam    5/4/2005  "
      ]
     },
     "execution_count": 8,
     "metadata": {},
     "output_type": "execute_result"
    }
   ],
   "source": [
    "dhoni_data.head() #returns first 5 records"
   ]
  },
  {
   "cell_type": "code",
   "execution_count": 9,
   "id": "c12ac076",
   "metadata": {},
   "outputs": [
    {
     "data": {
      "text/html": [
       "<div>\n",
       "<style scoped>\n",
       "    .dataframe tbody tr th:only-of-type {\n",
       "        vertical-align: middle;\n",
       "    }\n",
       "\n",
       "    .dataframe tbody tr th {\n",
       "        vertical-align: top;\n",
       "    }\n",
       "\n",
       "    .dataframe thead th {\n",
       "        text-align: right;\n",
       "    }\n",
       "</style>\n",
       "<table border=\"1\" class=\"dataframe\">\n",
       "  <thead>\n",
       "    <tr style=\"text-align: right;\">\n",
       "      <th></th>\n",
       "      <th>score</th>\n",
       "      <th>runs_scored</th>\n",
       "      <th>balls_faced</th>\n",
       "      <th>strike_rate</th>\n",
       "      <th>fours</th>\n",
       "      <th>sixes</th>\n",
       "      <th>opposition</th>\n",
       "      <th>ground</th>\n",
       "      <th>date</th>\n",
       "    </tr>\n",
       "  </thead>\n",
       "  <tbody>\n",
       "    <tr>\n",
       "      <th>0</th>\n",
       "      <td>0</td>\n",
       "      <td>0</td>\n",
       "      <td>1</td>\n",
       "      <td>0</td>\n",
       "      <td>0</td>\n",
       "      <td>0</td>\n",
       "      <td>v Bangladesh</td>\n",
       "      <td>Chattogram</td>\n",
       "      <td>23-12-2004</td>\n",
       "    </tr>\n",
       "    <tr>\n",
       "      <th>1</th>\n",
       "      <td>12</td>\n",
       "      <td>12</td>\n",
       "      <td>11</td>\n",
       "      <td>109.09</td>\n",
       "      <td>2</td>\n",
       "      <td>0</td>\n",
       "      <td>v Bangladesh</td>\n",
       "      <td>Dhaka</td>\n",
       "      <td>26-12-2004</td>\n",
       "    </tr>\n",
       "    <tr>\n",
       "      <th>2</th>\n",
       "      <td>7*</td>\n",
       "      <td>7</td>\n",
       "      <td>2</td>\n",
       "      <td>350</td>\n",
       "      <td>0</td>\n",
       "      <td>1</td>\n",
       "      <td>v Bangladesh</td>\n",
       "      <td>Dhaka</td>\n",
       "      <td>27-12-2004</td>\n",
       "    </tr>\n",
       "    <tr>\n",
       "      <th>3</th>\n",
       "      <td>3</td>\n",
       "      <td>3</td>\n",
       "      <td>7</td>\n",
       "      <td>42.85</td>\n",
       "      <td>0</td>\n",
       "      <td>0</td>\n",
       "      <td>v Pakistan</td>\n",
       "      <td>Kochi</td>\n",
       "      <td>2/4/2005</td>\n",
       "    </tr>\n",
       "    <tr>\n",
       "      <th>4</th>\n",
       "      <td>148</td>\n",
       "      <td>148</td>\n",
       "      <td>123</td>\n",
       "      <td>120.32</td>\n",
       "      <td>15</td>\n",
       "      <td>4</td>\n",
       "      <td>v Pakistan</td>\n",
       "      <td>Visakhapatnam</td>\n",
       "      <td>5/4/2005</td>\n",
       "    </tr>\n",
       "    <tr>\n",
       "      <th>5</th>\n",
       "      <td>28</td>\n",
       "      <td>28</td>\n",
       "      <td>24</td>\n",
       "      <td>116.66</td>\n",
       "      <td>5</td>\n",
       "      <td>0</td>\n",
       "      <td>v Pakistan</td>\n",
       "      <td>Jamshedpur</td>\n",
       "      <td>9/4/2005</td>\n",
       "    </tr>\n",
       "    <tr>\n",
       "      <th>6</th>\n",
       "      <td>47</td>\n",
       "      <td>47</td>\n",
       "      <td>64</td>\n",
       "      <td>73.43</td>\n",
       "      <td>4</td>\n",
       "      <td>1</td>\n",
       "      <td>v Pakistan</td>\n",
       "      <td>Ahmedabad</td>\n",
       "      <td>12/4/2005</td>\n",
       "    </tr>\n",
       "    <tr>\n",
       "      <th>7</th>\n",
       "      <td>11</td>\n",
       "      <td>11</td>\n",
       "      <td>16</td>\n",
       "      <td>68.75</td>\n",
       "      <td>1</td>\n",
       "      <td>0</td>\n",
       "      <td>v Pakistan</td>\n",
       "      <td>Kanpur</td>\n",
       "      <td>15-04-2005</td>\n",
       "    </tr>\n",
       "    <tr>\n",
       "      <th>8</th>\n",
       "      <td>24</td>\n",
       "      <td>24</td>\n",
       "      <td>38</td>\n",
       "      <td>63.15</td>\n",
       "      <td>2</td>\n",
       "      <td>0</td>\n",
       "      <td>v Pakistan</td>\n",
       "      <td>Delhi</td>\n",
       "      <td>17-04-2005</td>\n",
       "    </tr>\n",
       "    <tr>\n",
       "      <th>9</th>\n",
       "      <td>2</td>\n",
       "      <td>2</td>\n",
       "      <td>7</td>\n",
       "      <td>28.57</td>\n",
       "      <td>0</td>\n",
       "      <td>0</td>\n",
       "      <td>v Sri Lanka</td>\n",
       "      <td>Dambulla</td>\n",
       "      <td>30-07-2005</td>\n",
       "    </tr>\n",
       "    <tr>\n",
       "      <th>10</th>\n",
       "      <td>15*</td>\n",
       "      <td>15</td>\n",
       "      <td>11</td>\n",
       "      <td>136.36</td>\n",
       "      <td>1</td>\n",
       "      <td>1</td>\n",
       "      <td>v West Indies</td>\n",
       "      <td>Dambulla</td>\n",
       "      <td>31-07-2005</td>\n",
       "    </tr>\n",
       "    <tr>\n",
       "      <th>11</th>\n",
       "      <td>20</td>\n",
       "      <td>20</td>\n",
       "      <td>27</td>\n",
       "      <td>74.07</td>\n",
       "      <td>1</td>\n",
       "      <td>0</td>\n",
       "      <td>v Sri Lanka</td>\n",
       "      <td>Dambulla</td>\n",
       "      <td>3/8/2005</td>\n",
       "    </tr>\n",
       "    <tr>\n",
       "      <th>12</th>\n",
       "      <td>28*</td>\n",
       "      <td>28</td>\n",
       "      <td>13</td>\n",
       "      <td>215.38</td>\n",
       "      <td>1</td>\n",
       "      <td>2</td>\n",
       "      <td>v West Indies</td>\n",
       "      <td>Colombo (RPS)</td>\n",
       "      <td>7/8/2005</td>\n",
       "    </tr>\n",
       "    <tr>\n",
       "      <th>13</th>\n",
       "      <td>7</td>\n",
       "      <td>7</td>\n",
       "      <td>11</td>\n",
       "      <td>63.63</td>\n",
       "      <td>0</td>\n",
       "      <td>0</td>\n",
       "      <td>v Sri Lanka</td>\n",
       "      <td>Colombo (RPS)</td>\n",
       "      <td>9/8/2005</td>\n",
       "    </tr>\n",
       "    <tr>\n",
       "      <th>14</th>\n",
       "      <td>2</td>\n",
       "      <td>2</td>\n",
       "      <td>5</td>\n",
       "      <td>40</td>\n",
       "      <td>0</td>\n",
       "      <td>0</td>\n",
       "      <td>v New Zealand</td>\n",
       "      <td>Bulawayo</td>\n",
       "      <td>26-08-2005</td>\n",
       "    </tr>\n",
       "    <tr>\n",
       "      <th>15</th>\n",
       "      <td>56</td>\n",
       "      <td>56</td>\n",
       "      <td>46</td>\n",
       "      <td>121.73</td>\n",
       "      <td>2</td>\n",
       "      <td>4</td>\n",
       "      <td>v Zimbabwe</td>\n",
       "      <td>Harare</td>\n",
       "      <td>29-08-2005</td>\n",
       "    </tr>\n",
       "    <tr>\n",
       "      <th>16</th>\n",
       "      <td>37*</td>\n",
       "      <td>37</td>\n",
       "      <td>27</td>\n",
       "      <td>137.03</td>\n",
       "      <td>3</td>\n",
       "      <td>2</td>\n",
       "      <td>v New Zealand</td>\n",
       "      <td>Harare</td>\n",
       "      <td>2/9/2005</td>\n",
       "    </tr>\n",
       "    <tr>\n",
       "      <th>17</th>\n",
       "      <td>67*</td>\n",
       "      <td>67</td>\n",
       "      <td>63</td>\n",
       "      <td>106.34</td>\n",
       "      <td>1</td>\n",
       "      <td>3</td>\n",
       "      <td>v Zimbabwe</td>\n",
       "      <td>Harare</td>\n",
       "      <td>4/9/2005</td>\n",
       "    </tr>\n",
       "    <tr>\n",
       "      <th>18</th>\n",
       "      <td>11</td>\n",
       "      <td>11</td>\n",
       "      <td>16</td>\n",
       "      <td>68.75</td>\n",
       "      <td>1</td>\n",
       "      <td>0</td>\n",
       "      <td>v New Zealand</td>\n",
       "      <td>Harare</td>\n",
       "      <td>6/9/2005</td>\n",
       "    </tr>\n",
       "    <tr>\n",
       "      <th>19</th>\n",
       "      <td>38</td>\n",
       "      <td>38</td>\n",
       "      <td>28</td>\n",
       "      <td>135.71</td>\n",
       "      <td>3</td>\n",
       "      <td>2</td>\n",
       "      <td>v Sri Lanka</td>\n",
       "      <td>Nagpur</td>\n",
       "      <td>25-10-2005</td>\n",
       "    </tr>\n",
       "  </tbody>\n",
       "</table>\n",
       "</div>"
      ],
      "text/plain": [
       "   score runs_scored balls_faced strike_rate fours sixes     opposition  \\\n",
       "0      0           0           1           0     0     0   v Bangladesh   \n",
       "1     12          12          11      109.09     2     0   v Bangladesh   \n",
       "2     7*           7           2         350     0     1   v Bangladesh   \n",
       "3      3           3           7       42.85     0     0     v Pakistan   \n",
       "4    148         148         123      120.32    15     4     v Pakistan   \n",
       "5     28          28          24      116.66     5     0     v Pakistan   \n",
       "6     47          47          64       73.43     4     1     v Pakistan   \n",
       "7     11          11          16       68.75     1     0     v Pakistan   \n",
       "8     24          24          38       63.15     2     0     v Pakistan   \n",
       "9      2           2           7       28.57     0     0    v Sri Lanka   \n",
       "10   15*          15          11      136.36     1     1  v West Indies   \n",
       "11    20          20          27       74.07     1     0    v Sri Lanka   \n",
       "12   28*          28          13      215.38     1     2  v West Indies   \n",
       "13     7           7          11       63.63     0     0    v Sri Lanka   \n",
       "14     2           2           5          40     0     0  v New Zealand   \n",
       "15    56          56          46      121.73     2     4     v Zimbabwe   \n",
       "16   37*          37          27      137.03     3     2  v New Zealand   \n",
       "17   67*          67          63      106.34     1     3     v Zimbabwe   \n",
       "18    11          11          16       68.75     1     0  v New Zealand   \n",
       "19    38          38          28      135.71     3     2    v Sri Lanka   \n",
       "\n",
       "           ground        date  \n",
       "0      Chattogram  23-12-2004  \n",
       "1           Dhaka  26-12-2004  \n",
       "2           Dhaka  27-12-2004  \n",
       "3           Kochi    2/4/2005  \n",
       "4   Visakhapatnam    5/4/2005  \n",
       "5      Jamshedpur    9/4/2005  \n",
       "6       Ahmedabad   12/4/2005  \n",
       "7          Kanpur  15-04-2005  \n",
       "8           Delhi  17-04-2005  \n",
       "9        Dambulla  30-07-2005  \n",
       "10       Dambulla  31-07-2005  \n",
       "11       Dambulla    3/8/2005  \n",
       "12  Colombo (RPS)    7/8/2005  \n",
       "13  Colombo (RPS)    9/8/2005  \n",
       "14       Bulawayo  26-08-2005  \n",
       "15         Harare  29-08-2005  \n",
       "16         Harare    2/9/2005  \n",
       "17         Harare    4/9/2005  \n",
       "18         Harare    6/9/2005  \n",
       "19         Nagpur  25-10-2005  "
      ]
     },
     "execution_count": 9,
     "metadata": {},
     "output_type": "execute_result"
    }
   ],
   "source": [
    "dhoni_data.head(20) "
   ]
  },
  {
   "cell_type": "code",
   "execution_count": 10,
   "id": "c3906450",
   "metadata": {},
   "outputs": [
    {
     "data": {
      "text/html": [
       "<div>\n",
       "<style scoped>\n",
       "    .dataframe tbody tr th:only-of-type {\n",
       "        vertical-align: middle;\n",
       "    }\n",
       "\n",
       "    .dataframe tbody tr th {\n",
       "        vertical-align: top;\n",
       "    }\n",
       "\n",
       "    .dataframe thead th {\n",
       "        text-align: right;\n",
       "    }\n",
       "</style>\n",
       "<table border=\"1\" class=\"dataframe\">\n",
       "  <thead>\n",
       "    <tr style=\"text-align: right;\">\n",
       "      <th></th>\n",
       "      <th>score</th>\n",
       "      <th>runs_scored</th>\n",
       "      <th>balls_faced</th>\n",
       "      <th>strike_rate</th>\n",
       "      <th>fours</th>\n",
       "      <th>sixes</th>\n",
       "      <th>opposition</th>\n",
       "      <th>ground</th>\n",
       "      <th>date</th>\n",
       "    </tr>\n",
       "  </thead>\n",
       "  <tbody>\n",
       "    <tr>\n",
       "      <th>345</th>\n",
       "      <td>56*</td>\n",
       "      <td>56</td>\n",
       "      <td>61</td>\n",
       "      <td>91.8</td>\n",
       "      <td>3</td>\n",
       "      <td>2</td>\n",
       "      <td>v West Indies</td>\n",
       "      <td>Manchester</td>\n",
       "      <td>27-06-2019</td>\n",
       "    </tr>\n",
       "    <tr>\n",
       "      <th>346</th>\n",
       "      <td>42*</td>\n",
       "      <td>42</td>\n",
       "      <td>31</td>\n",
       "      <td>135.48</td>\n",
       "      <td>4</td>\n",
       "      <td>1</td>\n",
       "      <td>v England</td>\n",
       "      <td>Birmingham</td>\n",
       "      <td>30-06-2019</td>\n",
       "    </tr>\n",
       "    <tr>\n",
       "      <th>347</th>\n",
       "      <td>35</td>\n",
       "      <td>35</td>\n",
       "      <td>33</td>\n",
       "      <td>106.06</td>\n",
       "      <td>4</td>\n",
       "      <td>0</td>\n",
       "      <td>v Bangladesh</td>\n",
       "      <td>Birmingham</td>\n",
       "      <td>2/7/2019</td>\n",
       "    </tr>\n",
       "    <tr>\n",
       "      <th>348</th>\n",
       "      <td>DNB</td>\n",
       "      <td>-</td>\n",
       "      <td>-</td>\n",
       "      <td>-</td>\n",
       "      <td>-</td>\n",
       "      <td>-</td>\n",
       "      <td>v Sri Lanka</td>\n",
       "      <td>Leeds</td>\n",
       "      <td>6/7/2019</td>\n",
       "    </tr>\n",
       "    <tr>\n",
       "      <th>349</th>\n",
       "      <td>50</td>\n",
       "      <td>50</td>\n",
       "      <td>72</td>\n",
       "      <td>69.44</td>\n",
       "      <td>1</td>\n",
       "      <td>1</td>\n",
       "      <td>v New Zealand</td>\n",
       "      <td>Manchester</td>\n",
       "      <td>9/7/2019</td>\n",
       "    </tr>\n",
       "  </tbody>\n",
       "</table>\n",
       "</div>"
      ],
      "text/plain": [
       "    score runs_scored balls_faced strike_rate fours sixes     opposition  \\\n",
       "345   56*          56          61        91.8     3     2  v West Indies   \n",
       "346   42*          42          31      135.48     4     1      v England   \n",
       "347    35          35          33      106.06     4     0   v Bangladesh   \n",
       "348   DNB           -           -           -     -     -    v Sri Lanka   \n",
       "349    50          50          72       69.44     1     1  v New Zealand   \n",
       "\n",
       "         ground        date  \n",
       "345  Manchester  27-06-2019  \n",
       "346  Birmingham  30-06-2019  \n",
       "347  Birmingham    2/7/2019  \n",
       "348       Leeds    6/7/2019  \n",
       "349  Manchester    9/7/2019  "
      ]
     },
     "execution_count": 10,
     "metadata": {},
     "output_type": "execute_result"
    }
   ],
   "source": [
    "dhoni_data.tail() #last 5 records"
   ]
  },
  {
   "cell_type": "code",
   "execution_count": 11,
   "id": "0c7e2d58",
   "metadata": {},
   "outputs": [
    {
     "data": {
      "text/html": [
       "<div>\n",
       "<style scoped>\n",
       "    .dataframe tbody tr th:only-of-type {\n",
       "        vertical-align: middle;\n",
       "    }\n",
       "\n",
       "    .dataframe tbody tr th {\n",
       "        vertical-align: top;\n",
       "    }\n",
       "\n",
       "    .dataframe thead th {\n",
       "        text-align: right;\n",
       "    }\n",
       "</style>\n",
       "<table border=\"1\" class=\"dataframe\">\n",
       "  <thead>\n",
       "    <tr style=\"text-align: right;\">\n",
       "      <th></th>\n",
       "      <th>score</th>\n",
       "      <th>runs_scored</th>\n",
       "      <th>balls_faced</th>\n",
       "      <th>strike_rate</th>\n",
       "      <th>fours</th>\n",
       "      <th>sixes</th>\n",
       "      <th>opposition</th>\n",
       "      <th>ground</th>\n",
       "      <th>date</th>\n",
       "    </tr>\n",
       "  </thead>\n",
       "  <tbody>\n",
       "    <tr>\n",
       "      <th>330</th>\n",
       "      <td>23</td>\n",
       "      <td>23</td>\n",
       "      <td>15</td>\n",
       "      <td>153.33</td>\n",
       "      <td>2</td>\n",
       "      <td>0</td>\n",
       "      <td>v West Indies</td>\n",
       "      <td>Mumbai (BS)</td>\n",
       "      <td>29-10-2018</td>\n",
       "    </tr>\n",
       "    <tr>\n",
       "      <th>331</th>\n",
       "      <td>DNB</td>\n",
       "      <td>-</td>\n",
       "      <td>-</td>\n",
       "      <td>-</td>\n",
       "      <td>-</td>\n",
       "      <td>-</td>\n",
       "      <td>v West Indies</td>\n",
       "      <td>Thiruvananthapuram</td>\n",
       "      <td>1/11/2018</td>\n",
       "    </tr>\n",
       "    <tr>\n",
       "      <th>332</th>\n",
       "      <td>51</td>\n",
       "      <td>51</td>\n",
       "      <td>96</td>\n",
       "      <td>53.12</td>\n",
       "      <td>3</td>\n",
       "      <td>1</td>\n",
       "      <td>v Australia</td>\n",
       "      <td>Sydney</td>\n",
       "      <td>12/1/2019</td>\n",
       "    </tr>\n",
       "    <tr>\n",
       "      <th>333</th>\n",
       "      <td>55*</td>\n",
       "      <td>55</td>\n",
       "      <td>54</td>\n",
       "      <td>101.85</td>\n",
       "      <td>0</td>\n",
       "      <td>2</td>\n",
       "      <td>v Australia</td>\n",
       "      <td>Adelaide</td>\n",
       "      <td>15-01-2019</td>\n",
       "    </tr>\n",
       "    <tr>\n",
       "      <th>334</th>\n",
       "      <td>87*</td>\n",
       "      <td>87</td>\n",
       "      <td>114</td>\n",
       "      <td>76.31</td>\n",
       "      <td>6</td>\n",
       "      <td>0</td>\n",
       "      <td>v Australia</td>\n",
       "      <td>Melbourne</td>\n",
       "      <td>18-01-2019</td>\n",
       "    </tr>\n",
       "    <tr>\n",
       "      <th>335</th>\n",
       "      <td>DNB</td>\n",
       "      <td>-</td>\n",
       "      <td>-</td>\n",
       "      <td>-</td>\n",
       "      <td>-</td>\n",
       "      <td>-</td>\n",
       "      <td>v New Zealand</td>\n",
       "      <td>Napier</td>\n",
       "      <td>23-01-2019</td>\n",
       "    </tr>\n",
       "    <tr>\n",
       "      <th>336</th>\n",
       "      <td>48*</td>\n",
       "      <td>48</td>\n",
       "      <td>33</td>\n",
       "      <td>145.45</td>\n",
       "      <td>5</td>\n",
       "      <td>1</td>\n",
       "      <td>v New Zealand</td>\n",
       "      <td>Mount Maunganui</td>\n",
       "      <td>26-01-2019</td>\n",
       "    </tr>\n",
       "    <tr>\n",
       "      <th>337</th>\n",
       "      <td>1</td>\n",
       "      <td>1</td>\n",
       "      <td>6</td>\n",
       "      <td>16.66</td>\n",
       "      <td>0</td>\n",
       "      <td>0</td>\n",
       "      <td>v New Zealand</td>\n",
       "      <td>Wellington</td>\n",
       "      <td>3/2/2019</td>\n",
       "    </tr>\n",
       "    <tr>\n",
       "      <th>338</th>\n",
       "      <td>59*</td>\n",
       "      <td>59</td>\n",
       "      <td>72</td>\n",
       "      <td>81.94</td>\n",
       "      <td>6</td>\n",
       "      <td>1</td>\n",
       "      <td>v Australia</td>\n",
       "      <td>Hyderabad (Deccan)</td>\n",
       "      <td>2/3/2019</td>\n",
       "    </tr>\n",
       "    <tr>\n",
       "      <th>339</th>\n",
       "      <td>0</td>\n",
       "      <td>0</td>\n",
       "      <td>1</td>\n",
       "      <td>0</td>\n",
       "      <td>0</td>\n",
       "      <td>0</td>\n",
       "      <td>v Australia</td>\n",
       "      <td>Nagpur</td>\n",
       "      <td>5/3/2019</td>\n",
       "    </tr>\n",
       "    <tr>\n",
       "      <th>340</th>\n",
       "      <td>26</td>\n",
       "      <td>26</td>\n",
       "      <td>42</td>\n",
       "      <td>61.9</td>\n",
       "      <td>2</td>\n",
       "      <td>1</td>\n",
       "      <td>v Australia</td>\n",
       "      <td>Ranchi</td>\n",
       "      <td>8/3/2019</td>\n",
       "    </tr>\n",
       "    <tr>\n",
       "      <th>341</th>\n",
       "      <td>34</td>\n",
       "      <td>34</td>\n",
       "      <td>46</td>\n",
       "      <td>73.91</td>\n",
       "      <td>2</td>\n",
       "      <td>0</td>\n",
       "      <td>v South Africa</td>\n",
       "      <td>Southampton</td>\n",
       "      <td>5/6/2019</td>\n",
       "    </tr>\n",
       "    <tr>\n",
       "      <th>342</th>\n",
       "      <td>27</td>\n",
       "      <td>27</td>\n",
       "      <td>14</td>\n",
       "      <td>192.85</td>\n",
       "      <td>3</td>\n",
       "      <td>1</td>\n",
       "      <td>v Australia</td>\n",
       "      <td>The Oval</td>\n",
       "      <td>9/6/2019</td>\n",
       "    </tr>\n",
       "    <tr>\n",
       "      <th>343</th>\n",
       "      <td>1</td>\n",
       "      <td>1</td>\n",
       "      <td>2</td>\n",
       "      <td>50</td>\n",
       "      <td>0</td>\n",
       "      <td>0</td>\n",
       "      <td>v Pakistan</td>\n",
       "      <td>Manchester</td>\n",
       "      <td>16-06-2019</td>\n",
       "    </tr>\n",
       "    <tr>\n",
       "      <th>344</th>\n",
       "      <td>28</td>\n",
       "      <td>28</td>\n",
       "      <td>52</td>\n",
       "      <td>53.84</td>\n",
       "      <td>3</td>\n",
       "      <td>0</td>\n",
       "      <td>v Afghanistan</td>\n",
       "      <td>Southampton</td>\n",
       "      <td>22-06-2019</td>\n",
       "    </tr>\n",
       "    <tr>\n",
       "      <th>345</th>\n",
       "      <td>56*</td>\n",
       "      <td>56</td>\n",
       "      <td>61</td>\n",
       "      <td>91.8</td>\n",
       "      <td>3</td>\n",
       "      <td>2</td>\n",
       "      <td>v West Indies</td>\n",
       "      <td>Manchester</td>\n",
       "      <td>27-06-2019</td>\n",
       "    </tr>\n",
       "    <tr>\n",
       "      <th>346</th>\n",
       "      <td>42*</td>\n",
       "      <td>42</td>\n",
       "      <td>31</td>\n",
       "      <td>135.48</td>\n",
       "      <td>4</td>\n",
       "      <td>1</td>\n",
       "      <td>v England</td>\n",
       "      <td>Birmingham</td>\n",
       "      <td>30-06-2019</td>\n",
       "    </tr>\n",
       "    <tr>\n",
       "      <th>347</th>\n",
       "      <td>35</td>\n",
       "      <td>35</td>\n",
       "      <td>33</td>\n",
       "      <td>106.06</td>\n",
       "      <td>4</td>\n",
       "      <td>0</td>\n",
       "      <td>v Bangladesh</td>\n",
       "      <td>Birmingham</td>\n",
       "      <td>2/7/2019</td>\n",
       "    </tr>\n",
       "    <tr>\n",
       "      <th>348</th>\n",
       "      <td>DNB</td>\n",
       "      <td>-</td>\n",
       "      <td>-</td>\n",
       "      <td>-</td>\n",
       "      <td>-</td>\n",
       "      <td>-</td>\n",
       "      <td>v Sri Lanka</td>\n",
       "      <td>Leeds</td>\n",
       "      <td>6/7/2019</td>\n",
       "    </tr>\n",
       "    <tr>\n",
       "      <th>349</th>\n",
       "      <td>50</td>\n",
       "      <td>50</td>\n",
       "      <td>72</td>\n",
       "      <td>69.44</td>\n",
       "      <td>1</td>\n",
       "      <td>1</td>\n",
       "      <td>v New Zealand</td>\n",
       "      <td>Manchester</td>\n",
       "      <td>9/7/2019</td>\n",
       "    </tr>\n",
       "  </tbody>\n",
       "</table>\n",
       "</div>"
      ],
      "text/plain": [
       "    score runs_scored balls_faced strike_rate fours sixes      opposition  \\\n",
       "330    23          23          15      153.33     2     0   v West Indies   \n",
       "331   DNB           -           -           -     -     -   v West Indies   \n",
       "332    51          51          96       53.12     3     1     v Australia   \n",
       "333   55*          55          54      101.85     0     2     v Australia   \n",
       "334   87*          87         114       76.31     6     0     v Australia   \n",
       "335   DNB           -           -           -     -     -   v New Zealand   \n",
       "336   48*          48          33      145.45     5     1   v New Zealand   \n",
       "337     1           1           6       16.66     0     0   v New Zealand   \n",
       "338   59*          59          72       81.94     6     1     v Australia   \n",
       "339     0           0           1           0     0     0     v Australia   \n",
       "340    26          26          42        61.9     2     1     v Australia   \n",
       "341    34          34          46       73.91     2     0  v South Africa   \n",
       "342    27          27          14      192.85     3     1     v Australia   \n",
       "343     1           1           2          50     0     0      v Pakistan   \n",
       "344    28          28          52       53.84     3     0   v Afghanistan   \n",
       "345   56*          56          61        91.8     3     2   v West Indies   \n",
       "346   42*          42          31      135.48     4     1       v England   \n",
       "347    35          35          33      106.06     4     0    v Bangladesh   \n",
       "348   DNB           -           -           -     -     -     v Sri Lanka   \n",
       "349    50          50          72       69.44     1     1   v New Zealand   \n",
       "\n",
       "                 ground        date  \n",
       "330         Mumbai (BS)  29-10-2018  \n",
       "331  Thiruvananthapuram   1/11/2018  \n",
       "332              Sydney   12/1/2019  \n",
       "333            Adelaide  15-01-2019  \n",
       "334           Melbourne  18-01-2019  \n",
       "335              Napier  23-01-2019  \n",
       "336     Mount Maunganui  26-01-2019  \n",
       "337          Wellington    3/2/2019  \n",
       "338  Hyderabad (Deccan)    2/3/2019  \n",
       "339              Nagpur    5/3/2019  \n",
       "340              Ranchi    8/3/2019  \n",
       "341         Southampton    5/6/2019  \n",
       "342            The Oval    9/6/2019  \n",
       "343          Manchester  16-06-2019  \n",
       "344         Southampton  22-06-2019  \n",
       "345          Manchester  27-06-2019  \n",
       "346          Birmingham  30-06-2019  \n",
       "347          Birmingham    2/7/2019  \n",
       "348               Leeds    6/7/2019  \n",
       "349          Manchester    9/7/2019  "
      ]
     },
     "execution_count": 11,
     "metadata": {},
     "output_type": "execute_result"
    }
   ],
   "source": [
    "dhoni_data.tail(20)"
   ]
  },
  {
   "cell_type": "code",
   "execution_count": 12,
   "id": "7d2b9ff6",
   "metadata": {},
   "outputs": [
    {
     "data": {
      "text/html": [
       "<div>\n",
       "<style scoped>\n",
       "    .dataframe tbody tr th:only-of-type {\n",
       "        vertical-align: middle;\n",
       "    }\n",
       "\n",
       "    .dataframe tbody tr th {\n",
       "        vertical-align: top;\n",
       "    }\n",
       "\n",
       "    .dataframe thead th {\n",
       "        text-align: right;\n",
       "    }\n",
       "</style>\n",
       "<table border=\"1\" class=\"dataframe\">\n",
       "  <thead>\n",
       "    <tr style=\"text-align: right;\">\n",
       "      <th></th>\n",
       "      <th>score</th>\n",
       "      <th>runs_scored</th>\n",
       "      <th>balls_faced</th>\n",
       "      <th>strike_rate</th>\n",
       "      <th>fours</th>\n",
       "      <th>sixes</th>\n",
       "      <th>opposition</th>\n",
       "      <th>ground</th>\n",
       "      <th>date</th>\n",
       "    </tr>\n",
       "  </thead>\n",
       "  <tbody>\n",
       "    <tr>\n",
       "      <th>151</th>\n",
       "      <td>72</td>\n",
       "      <td>72</td>\n",
       "      <td>53</td>\n",
       "      <td>135.84</td>\n",
       "      <td>7</td>\n",
       "      <td>3</td>\n",
       "      <td>v Sri Lanka</td>\n",
       "      <td>Rajkot</td>\n",
       "      <td>15-12-2009</td>\n",
       "    </tr>\n",
       "    <tr>\n",
       "      <th>152</th>\n",
       "      <td>107</td>\n",
       "      <td>107</td>\n",
       "      <td>111</td>\n",
       "      <td>96.39</td>\n",
       "      <td>8</td>\n",
       "      <td>2</td>\n",
       "      <td>v Sri Lanka</td>\n",
       "      <td>Nagpur</td>\n",
       "      <td>18-12-2009</td>\n",
       "    </tr>\n",
       "    <tr>\n",
       "      <th>153</th>\n",
       "      <td>TDNB</td>\n",
       "      <td>-</td>\n",
       "      <td>-</td>\n",
       "      <td>-</td>\n",
       "      <td>-</td>\n",
       "      <td>-</td>\n",
       "      <td>v Sri Lanka</td>\n",
       "      <td>Delhi</td>\n",
       "      <td>27-12-2009</td>\n",
       "    </tr>\n",
       "    <tr>\n",
       "      <th>154</th>\n",
       "      <td>37</td>\n",
       "      <td>37</td>\n",
       "      <td>70</td>\n",
       "      <td>52.85</td>\n",
       "      <td>3</td>\n",
       "      <td>0</td>\n",
       "      <td>v Sri Lanka</td>\n",
       "      <td>Dhaka</td>\n",
       "      <td>5/1/2010</td>\n",
       "    </tr>\n",
       "    <tr>\n",
       "      <th>155</th>\n",
       "      <td>101*</td>\n",
       "      <td>101</td>\n",
       "      <td>107</td>\n",
       "      <td>94.39</td>\n",
       "      <td>9</td>\n",
       "      <td>0</td>\n",
       "      <td>v Bangladesh</td>\n",
       "      <td>Dhaka</td>\n",
       "      <td>7/1/2010</td>\n",
       "    </tr>\n",
       "    <tr>\n",
       "      <th>156</th>\n",
       "      <td>DNB</td>\n",
       "      <td>-</td>\n",
       "      <td>-</td>\n",
       "      <td>-</td>\n",
       "      <td>-</td>\n",
       "      <td>-</td>\n",
       "      <td>v Sri Lanka</td>\n",
       "      <td>Dhaka</td>\n",
       "      <td>10/1/2010</td>\n",
       "    </tr>\n",
       "    <tr>\n",
       "      <th>157</th>\n",
       "      <td>32</td>\n",
       "      <td>32</td>\n",
       "      <td>35</td>\n",
       "      <td>91.42</td>\n",
       "      <td>3</td>\n",
       "      <td>0</td>\n",
       "      <td>v Bangladesh</td>\n",
       "      <td>Dhaka</td>\n",
       "      <td>11/1/2010</td>\n",
       "    </tr>\n",
       "    <tr>\n",
       "      <th>158</th>\n",
       "      <td>14</td>\n",
       "      <td>14</td>\n",
       "      <td>19</td>\n",
       "      <td>73.68</td>\n",
       "      <td>3</td>\n",
       "      <td>0</td>\n",
       "      <td>v Sri Lanka</td>\n",
       "      <td>Dhaka</td>\n",
       "      <td>13-01-2010</td>\n",
       "    </tr>\n",
       "    <tr>\n",
       "      <th>159</th>\n",
       "      <td>26</td>\n",
       "      <td>26</td>\n",
       "      <td>29</td>\n",
       "      <td>89.65</td>\n",
       "      <td>2</td>\n",
       "      <td>0</td>\n",
       "      <td>v South Africa</td>\n",
       "      <td>Jaipur</td>\n",
       "      <td>21-02-2010</td>\n",
       "    </tr>\n",
       "    <tr>\n",
       "      <th>160</th>\n",
       "      <td>68*</td>\n",
       "      <td>68</td>\n",
       "      <td>35</td>\n",
       "      <td>194.28</td>\n",
       "      <td>7</td>\n",
       "      <td>4</td>\n",
       "      <td>v South Africa</td>\n",
       "      <td>Gwalior</td>\n",
       "      <td>24-02-2010</td>\n",
       "    </tr>\n",
       "    <tr>\n",
       "      <th>161</th>\n",
       "      <td>9</td>\n",
       "      <td>9</td>\n",
       "      <td>7</td>\n",
       "      <td>128.57</td>\n",
       "      <td>0</td>\n",
       "      <td>1</td>\n",
       "      <td>v South Africa</td>\n",
       "      <td>Ahmedabad</td>\n",
       "      <td>27-02-2010</td>\n",
       "    </tr>\n",
       "    <tr>\n",
       "      <th>162</th>\n",
       "      <td>38*</td>\n",
       "      <td>38</td>\n",
       "      <td>45</td>\n",
       "      <td>84.44</td>\n",
       "      <td>3</td>\n",
       "      <td>1</td>\n",
       "      <td>v Bangladesh</td>\n",
       "      <td>Dambulla</td>\n",
       "      <td>16-06-2010</td>\n",
       "    </tr>\n",
       "    <tr>\n",
       "      <th>163</th>\n",
       "      <td>56</td>\n",
       "      <td>56</td>\n",
       "      <td>71</td>\n",
       "      <td>78.87</td>\n",
       "      <td>2</td>\n",
       "      <td>1</td>\n",
       "      <td>v Pakistan</td>\n",
       "      <td>Dambulla</td>\n",
       "      <td>19-06-2010</td>\n",
       "    </tr>\n",
       "    <tr>\n",
       "      <th>164</th>\n",
       "      <td>41</td>\n",
       "      <td>41</td>\n",
       "      <td>53</td>\n",
       "      <td>77.35</td>\n",
       "      <td>6</td>\n",
       "      <td>0</td>\n",
       "      <td>v Sri Lanka</td>\n",
       "      <td>Dambulla</td>\n",
       "      <td>22-06-2010</td>\n",
       "    </tr>\n",
       "    <tr>\n",
       "      <th>165</th>\n",
       "      <td>38</td>\n",
       "      <td>38</td>\n",
       "      <td>50</td>\n",
       "      <td>76</td>\n",
       "      <td>2</td>\n",
       "      <td>1</td>\n",
       "      <td>v Sri Lanka</td>\n",
       "      <td>Dambulla</td>\n",
       "      <td>24-06-2010</td>\n",
       "    </tr>\n",
       "    <tr>\n",
       "      <th>166</th>\n",
       "      <td>2</td>\n",
       "      <td>2</td>\n",
       "      <td>9</td>\n",
       "      <td>22.22</td>\n",
       "      <td>0</td>\n",
       "      <td>0</td>\n",
       "      <td>v New Zealand</td>\n",
       "      <td>Dambulla</td>\n",
       "      <td>10/8/2010</td>\n",
       "    </tr>\n",
       "    <tr>\n",
       "      <th>167</th>\n",
       "      <td>23*</td>\n",
       "      <td>23</td>\n",
       "      <td>38</td>\n",
       "      <td>60.52</td>\n",
       "      <td>2</td>\n",
       "      <td>0</td>\n",
       "      <td>v Sri Lanka</td>\n",
       "      <td>Dambulla</td>\n",
       "      <td>16-08-2010</td>\n",
       "    </tr>\n",
       "    <tr>\n",
       "      <th>168</th>\n",
       "      <td>10</td>\n",
       "      <td>10</td>\n",
       "      <td>16</td>\n",
       "      <td>62.5</td>\n",
       "      <td>2</td>\n",
       "      <td>0</td>\n",
       "      <td>v Sri Lanka</td>\n",
       "      <td>Dambulla</td>\n",
       "      <td>22-08-2010</td>\n",
       "    </tr>\n",
       "    <tr>\n",
       "      <th>169</th>\n",
       "      <td>38</td>\n",
       "      <td>38</td>\n",
       "      <td>75</td>\n",
       "      <td>50.66</td>\n",
       "      <td>3</td>\n",
       "      <td>0</td>\n",
       "      <td>v New Zealand</td>\n",
       "      <td>Dambulla</td>\n",
       "      <td>25-08-2010</td>\n",
       "    </tr>\n",
       "    <tr>\n",
       "      <th>170</th>\n",
       "      <td>67</td>\n",
       "      <td>67</td>\n",
       "      <td>100</td>\n",
       "      <td>67</td>\n",
       "      <td>5</td>\n",
       "      <td>1</td>\n",
       "      <td>v Sri Lanka</td>\n",
       "      <td>Dambulla</td>\n",
       "      <td>28-08-2010</td>\n",
       "    </tr>\n",
       "    <tr>\n",
       "      <th>171</th>\n",
       "      <td>0</td>\n",
       "      <td>0</td>\n",
       "      <td>1</td>\n",
       "      <td>0</td>\n",
       "      <td>0</td>\n",
       "      <td>0</td>\n",
       "      <td>v Australia</td>\n",
       "      <td>Visakhapatnam</td>\n",
       "      <td>20-10-2010</td>\n",
       "    </tr>\n",
       "    <tr>\n",
       "      <th>172</th>\n",
       "      <td>25</td>\n",
       "      <td>25</td>\n",
       "      <td>35</td>\n",
       "      <td>71.42</td>\n",
       "      <td>1</td>\n",
       "      <td>0</td>\n",
       "      <td>v South Africa</td>\n",
       "      <td>Durban</td>\n",
       "      <td>12/1/2011</td>\n",
       "    </tr>\n",
       "    <tr>\n",
       "      <th>173</th>\n",
       "      <td>38</td>\n",
       "      <td>38</td>\n",
       "      <td>61</td>\n",
       "      <td>62.29</td>\n",
       "      <td>1</td>\n",
       "      <td>0</td>\n",
       "      <td>v South Africa</td>\n",
       "      <td>Johannesburg</td>\n",
       "      <td>15-01-2011</td>\n",
       "    </tr>\n",
       "    <tr>\n",
       "      <th>174</th>\n",
       "      <td>5</td>\n",
       "      <td>5</td>\n",
       "      <td>12</td>\n",
       "      <td>41.66</td>\n",
       "      <td>1</td>\n",
       "      <td>0</td>\n",
       "      <td>v South Africa</td>\n",
       "      <td>Cape Town</td>\n",
       "      <td>18-01-2011</td>\n",
       "    </tr>\n",
       "    <tr>\n",
       "      <th>175</th>\n",
       "      <td>2</td>\n",
       "      <td>2</td>\n",
       "      <td>8</td>\n",
       "      <td>25</td>\n",
       "      <td>0</td>\n",
       "      <td>0</td>\n",
       "      <td>v South Africa</td>\n",
       "      <td>Port Elizabeth</td>\n",
       "      <td>21-01-2011</td>\n",
       "    </tr>\n",
       "    <tr>\n",
       "      <th>176</th>\n",
       "      <td>5</td>\n",
       "      <td>5</td>\n",
       "      <td>10</td>\n",
       "      <td>50</td>\n",
       "      <td>1</td>\n",
       "      <td>0</td>\n",
       "      <td>v South Africa</td>\n",
       "      <td>Centurion</td>\n",
       "      <td>23-01-2011</td>\n",
       "    </tr>\n",
       "    <tr>\n",
       "      <th>177</th>\n",
       "      <td>DNB</td>\n",
       "      <td>-</td>\n",
       "      <td>-</td>\n",
       "      <td>-</td>\n",
       "      <td>-</td>\n",
       "      <td>-</td>\n",
       "      <td>v Bangladesh</td>\n",
       "      <td>Dhaka</td>\n",
       "      <td>19-02-2011</td>\n",
       "    </tr>\n",
       "    <tr>\n",
       "      <th>178</th>\n",
       "      <td>31</td>\n",
       "      <td>31</td>\n",
       "      <td>25</td>\n",
       "      <td>124</td>\n",
       "      <td>3</td>\n",
       "      <td>1</td>\n",
       "      <td>v England</td>\n",
       "      <td>Bengaluru</td>\n",
       "      <td>27-02-2011</td>\n",
       "    </tr>\n",
       "    <tr>\n",
       "      <th>179</th>\n",
       "      <td>34</td>\n",
       "      <td>34</td>\n",
       "      <td>50</td>\n",
       "      <td>68</td>\n",
       "      <td>2</td>\n",
       "      <td>0</td>\n",
       "      <td>v Ireland</td>\n",
       "      <td>Bengaluru</td>\n",
       "      <td>6/3/2011</td>\n",
       "    </tr>\n",
       "    <tr>\n",
       "      <th>180</th>\n",
       "      <td>19*</td>\n",
       "      <td>19</td>\n",
       "      <td>40</td>\n",
       "      <td>47.5</td>\n",
       "      <td>2</td>\n",
       "      <td>0</td>\n",
       "      <td>v Netherlands</td>\n",
       "      <td>Delhi</td>\n",
       "      <td>9/3/2011</td>\n",
       "    </tr>\n",
       "    <tr>\n",
       "      <th>181</th>\n",
       "      <td>12*</td>\n",
       "      <td>12</td>\n",
       "      <td>21</td>\n",
       "      <td>57.14</td>\n",
       "      <td>0</td>\n",
       "      <td>0</td>\n",
       "      <td>v South Africa</td>\n",
       "      <td>Nagpur</td>\n",
       "      <td>12/3/2011</td>\n",
       "    </tr>\n",
       "    <tr>\n",
       "      <th>182</th>\n",
       "      <td>22</td>\n",
       "      <td>22</td>\n",
       "      <td>30</td>\n",
       "      <td>73.33</td>\n",
       "      <td>1</td>\n",
       "      <td>0</td>\n",
       "      <td>v West Indies</td>\n",
       "      <td>Chennai</td>\n",
       "      <td>20-03-2011</td>\n",
       "    </tr>\n",
       "    <tr>\n",
       "      <th>183</th>\n",
       "      <td>7</td>\n",
       "      <td>7</td>\n",
       "      <td>8</td>\n",
       "      <td>87.5</td>\n",
       "      <td>1</td>\n",
       "      <td>0</td>\n",
       "      <td>v Australia</td>\n",
       "      <td>Ahmedabad</td>\n",
       "      <td>24-03-2011</td>\n",
       "    </tr>\n",
       "    <tr>\n",
       "      <th>184</th>\n",
       "      <td>25</td>\n",
       "      <td>25</td>\n",
       "      <td>42</td>\n",
       "      <td>59.52</td>\n",
       "      <td>2</td>\n",
       "      <td>0</td>\n",
       "      <td>v Pakistan</td>\n",
       "      <td>Mohali</td>\n",
       "      <td>30-03-2011</td>\n",
       "    </tr>\n",
       "    <tr>\n",
       "      <th>185</th>\n",
       "      <td>91*</td>\n",
       "      <td>91</td>\n",
       "      <td>79</td>\n",
       "      <td>115.18</td>\n",
       "      <td>8</td>\n",
       "      <td>2</td>\n",
       "      <td>v Sri Lanka</td>\n",
       "      <td>Mumbai</td>\n",
       "      <td>2/4/2011</td>\n",
       "    </tr>\n",
       "    <tr>\n",
       "      <th>186</th>\n",
       "      <td>33</td>\n",
       "      <td>33</td>\n",
       "      <td>36</td>\n",
       "      <td>91.66</td>\n",
       "      <td>2</td>\n",
       "      <td>0</td>\n",
       "      <td>v England</td>\n",
       "      <td>Chester-le-Street</td>\n",
       "      <td>3/9/2011</td>\n",
       "    </tr>\n",
       "    <tr>\n",
       "      <th>187</th>\n",
       "      <td>6</td>\n",
       "      <td>6</td>\n",
       "      <td>5</td>\n",
       "      <td>120</td>\n",
       "      <td>1</td>\n",
       "      <td>0</td>\n",
       "      <td>v England</td>\n",
       "      <td>Southampton</td>\n",
       "      <td>6/9/2011</td>\n",
       "    </tr>\n",
       "    <tr>\n",
       "      <th>188</th>\n",
       "      <td>69</td>\n",
       "      <td>69</td>\n",
       "      <td>103</td>\n",
       "      <td>66.99</td>\n",
       "      <td>5</td>\n",
       "      <td>0</td>\n",
       "      <td>v England</td>\n",
       "      <td>The Oval</td>\n",
       "      <td>9/9/2011</td>\n",
       "    </tr>\n",
       "    <tr>\n",
       "      <th>189</th>\n",
       "      <td>78*</td>\n",
       "      <td>78</td>\n",
       "      <td>71</td>\n",
       "      <td>109.85</td>\n",
       "      <td>6</td>\n",
       "      <td>3</td>\n",
       "      <td>v England</td>\n",
       "      <td>Lord's</td>\n",
       "      <td>11/9/2011</td>\n",
       "    </tr>\n",
       "    <tr>\n",
       "      <th>190</th>\n",
       "      <td>50*</td>\n",
       "      <td>50</td>\n",
       "      <td>26</td>\n",
       "      <td>192.3</td>\n",
       "      <td>5</td>\n",
       "      <td>2</td>\n",
       "      <td>v England</td>\n",
       "      <td>Cardiff</td>\n",
       "      <td>16-09-2011</td>\n",
       "    </tr>\n",
       "    <tr>\n",
       "      <th>191</th>\n",
       "      <td>87*</td>\n",
       "      <td>87</td>\n",
       "      <td>70</td>\n",
       "      <td>124.28</td>\n",
       "      <td>10</td>\n",
       "      <td>1</td>\n",
       "      <td>v England</td>\n",
       "      <td>Hyderabad (Deccan)</td>\n",
       "      <td>14-10-2011</td>\n",
       "    </tr>\n",
       "    <tr>\n",
       "      <th>192</th>\n",
       "      <td>DNB</td>\n",
       "      <td>-</td>\n",
       "      <td>-</td>\n",
       "      <td>-</td>\n",
       "      <td>-</td>\n",
       "      <td>-</td>\n",
       "      <td>v England</td>\n",
       "      <td>Delhi</td>\n",
       "      <td>17-10-2011</td>\n",
       "    </tr>\n",
       "    <tr>\n",
       "      <th>193</th>\n",
       "      <td>35*</td>\n",
       "      <td>35</td>\n",
       "      <td>31</td>\n",
       "      <td>112.9</td>\n",
       "      <td>3</td>\n",
       "      <td>0</td>\n",
       "      <td>v England</td>\n",
       "      <td>Mohali</td>\n",
       "      <td>20-10-2011</td>\n",
       "    </tr>\n",
       "    <tr>\n",
       "      <th>194</th>\n",
       "      <td>15*</td>\n",
       "      <td>15</td>\n",
       "      <td>18</td>\n",
       "      <td>83.33</td>\n",
       "      <td>1</td>\n",
       "      <td>1</td>\n",
       "      <td>v England</td>\n",
       "      <td>Mumbai</td>\n",
       "      <td>23-10-2011</td>\n",
       "    </tr>\n",
       "    <tr>\n",
       "      <th>195</th>\n",
       "      <td>75*</td>\n",
       "      <td>75</td>\n",
       "      <td>69</td>\n",
       "      <td>108.69</td>\n",
       "      <td>3</td>\n",
       "      <td>4</td>\n",
       "      <td>v England</td>\n",
       "      <td>Kolkata</td>\n",
       "      <td>25-10-2011</td>\n",
       "    </tr>\n",
       "    <tr>\n",
       "      <th>196</th>\n",
       "      <td>29</td>\n",
       "      <td>29</td>\n",
       "      <td>38</td>\n",
       "      <td>76.31</td>\n",
       "      <td>1</td>\n",
       "      <td>0</td>\n",
       "      <td>v Australia</td>\n",
       "      <td>Melbourne</td>\n",
       "      <td>5/2/2012</td>\n",
       "    </tr>\n",
       "    <tr>\n",
       "      <th>197</th>\n",
       "      <td>4</td>\n",
       "      <td>4</td>\n",
       "      <td>5</td>\n",
       "      <td>80</td>\n",
       "      <td>1</td>\n",
       "      <td>0</td>\n",
       "      <td>v Sri Lanka</td>\n",
       "      <td>Perth</td>\n",
       "      <td>8/2/2012</td>\n",
       "    </tr>\n",
       "    <tr>\n",
       "      <th>198</th>\n",
       "      <td>44*</td>\n",
       "      <td>44</td>\n",
       "      <td>58</td>\n",
       "      <td>75.86</td>\n",
       "      <td>0</td>\n",
       "      <td>1</td>\n",
       "      <td>v Australia</td>\n",
       "      <td>Adelaide</td>\n",
       "      <td>12/2/2012</td>\n",
       "    </tr>\n",
       "    <tr>\n",
       "      <th>199</th>\n",
       "      <td>58*</td>\n",
       "      <td>58</td>\n",
       "      <td>69</td>\n",
       "      <td>84.05</td>\n",
       "      <td>3</td>\n",
       "      <td>1</td>\n",
       "      <td>v Sri Lanka</td>\n",
       "      <td>Adelaide</td>\n",
       "      <td>14-02-2012</td>\n",
       "    </tr>\n",
       "  </tbody>\n",
       "</table>\n",
       "</div>"
      ],
      "text/plain": [
       "    score runs_scored balls_faced strike_rate fours sixes      opposition  \\\n",
       "151    72          72          53      135.84     7     3     v Sri Lanka   \n",
       "152   107         107         111       96.39     8     2     v Sri Lanka   \n",
       "153  TDNB           -           -           -     -     -     v Sri Lanka   \n",
       "154    37          37          70       52.85     3     0     v Sri Lanka   \n",
       "155  101*         101         107       94.39     9     0    v Bangladesh   \n",
       "156   DNB           -           -           -     -     -     v Sri Lanka   \n",
       "157    32          32          35       91.42     3     0    v Bangladesh   \n",
       "158    14          14          19       73.68     3     0     v Sri Lanka   \n",
       "159    26          26          29       89.65     2     0  v South Africa   \n",
       "160   68*          68          35      194.28     7     4  v South Africa   \n",
       "161     9           9           7      128.57     0     1  v South Africa   \n",
       "162   38*          38          45       84.44     3     1    v Bangladesh   \n",
       "163    56          56          71       78.87     2     1      v Pakistan   \n",
       "164    41          41          53       77.35     6     0     v Sri Lanka   \n",
       "165    38          38          50          76     2     1     v Sri Lanka   \n",
       "166     2           2           9       22.22     0     0   v New Zealand   \n",
       "167   23*          23          38       60.52     2     0     v Sri Lanka   \n",
       "168    10          10          16        62.5     2     0     v Sri Lanka   \n",
       "169    38          38          75       50.66     3     0   v New Zealand   \n",
       "170    67          67         100          67     5     1     v Sri Lanka   \n",
       "171     0           0           1           0     0     0     v Australia   \n",
       "172    25          25          35       71.42     1     0  v South Africa   \n",
       "173    38          38          61       62.29     1     0  v South Africa   \n",
       "174     5           5          12       41.66     1     0  v South Africa   \n",
       "175     2           2           8          25     0     0  v South Africa   \n",
       "176     5           5          10          50     1     0  v South Africa   \n",
       "177   DNB           -           -           -     -     -    v Bangladesh   \n",
       "178    31          31          25         124     3     1       v England   \n",
       "179    34          34          50          68     2     0       v Ireland   \n",
       "180   19*          19          40        47.5     2     0   v Netherlands   \n",
       "181   12*          12          21       57.14     0     0  v South Africa   \n",
       "182    22          22          30       73.33     1     0   v West Indies   \n",
       "183     7           7           8        87.5     1     0     v Australia   \n",
       "184    25          25          42       59.52     2     0      v Pakistan   \n",
       "185   91*          91          79      115.18     8     2     v Sri Lanka   \n",
       "186    33          33          36       91.66     2     0       v England   \n",
       "187     6           6           5         120     1     0       v England   \n",
       "188    69          69         103       66.99     5     0       v England   \n",
       "189   78*          78          71      109.85     6     3       v England   \n",
       "190   50*          50          26       192.3     5     2       v England   \n",
       "191   87*          87          70      124.28    10     1       v England   \n",
       "192   DNB           -           -           -     -     -       v England   \n",
       "193   35*          35          31       112.9     3     0       v England   \n",
       "194   15*          15          18       83.33     1     1       v England   \n",
       "195   75*          75          69      108.69     3     4       v England   \n",
       "196    29          29          38       76.31     1     0     v Australia   \n",
       "197     4           4           5          80     1     0     v Sri Lanka   \n",
       "198   44*          44          58       75.86     0     1     v Australia   \n",
       "199   58*          58          69       84.05     3     1     v Sri Lanka   \n",
       "\n",
       "                 ground        date  \n",
       "151              Rajkot  15-12-2009  \n",
       "152              Nagpur  18-12-2009  \n",
       "153               Delhi  27-12-2009  \n",
       "154               Dhaka    5/1/2010  \n",
       "155               Dhaka    7/1/2010  \n",
       "156               Dhaka   10/1/2010  \n",
       "157               Dhaka   11/1/2010  \n",
       "158               Dhaka  13-01-2010  \n",
       "159              Jaipur  21-02-2010  \n",
       "160             Gwalior  24-02-2010  \n",
       "161           Ahmedabad  27-02-2010  \n",
       "162            Dambulla  16-06-2010  \n",
       "163            Dambulla  19-06-2010  \n",
       "164            Dambulla  22-06-2010  \n",
       "165            Dambulla  24-06-2010  \n",
       "166            Dambulla   10/8/2010  \n",
       "167            Dambulla  16-08-2010  \n",
       "168            Dambulla  22-08-2010  \n",
       "169            Dambulla  25-08-2010  \n",
       "170            Dambulla  28-08-2010  \n",
       "171       Visakhapatnam  20-10-2010  \n",
       "172              Durban   12/1/2011  \n",
       "173        Johannesburg  15-01-2011  \n",
       "174           Cape Town  18-01-2011  \n",
       "175      Port Elizabeth  21-01-2011  \n",
       "176           Centurion  23-01-2011  \n",
       "177               Dhaka  19-02-2011  \n",
       "178           Bengaluru  27-02-2011  \n",
       "179           Bengaluru    6/3/2011  \n",
       "180               Delhi    9/3/2011  \n",
       "181              Nagpur   12/3/2011  \n",
       "182             Chennai  20-03-2011  \n",
       "183           Ahmedabad  24-03-2011  \n",
       "184              Mohali  30-03-2011  \n",
       "185              Mumbai    2/4/2011  \n",
       "186   Chester-le-Street    3/9/2011  \n",
       "187         Southampton    6/9/2011  \n",
       "188            The Oval    9/9/2011  \n",
       "189              Lord's   11/9/2011  \n",
       "190             Cardiff  16-09-2011  \n",
       "191  Hyderabad (Deccan)  14-10-2011  \n",
       "192               Delhi  17-10-2011  \n",
       "193              Mohali  20-10-2011  \n",
       "194              Mumbai  23-10-2011  \n",
       "195             Kolkata  25-10-2011  \n",
       "196           Melbourne    5/2/2012  \n",
       "197               Perth    8/2/2012  \n",
       "198            Adelaide   12/2/2012  \n",
       "199            Adelaide  14-02-2012  "
      ]
     },
     "execution_count": 12,
     "metadata": {},
     "output_type": "execute_result"
    }
   ],
   "source": [
    "dhoni_data.iloc[151:200,:]"
   ]
  },
  {
   "cell_type": "markdown",
   "id": "67150fd4",
   "metadata": {},
   "source": [
    "Drop all those matches from our records where Dhoni did not bat, and store this information in a new DataFrame."
   ]
  },
  {
   "cell_type": "code",
   "execution_count": 13,
   "id": "97aacdf1",
   "metadata": {},
   "outputs": [
    {
     "data": {
      "text/html": [
       "<div>\n",
       "<style scoped>\n",
       "    .dataframe tbody tr th:only-of-type {\n",
       "        vertical-align: middle;\n",
       "    }\n",
       "\n",
       "    .dataframe tbody tr th {\n",
       "        vertical-align: top;\n",
       "    }\n",
       "\n",
       "    .dataframe thead th {\n",
       "        text-align: right;\n",
       "    }\n",
       "</style>\n",
       "<table border=\"1\" class=\"dataframe\">\n",
       "  <thead>\n",
       "    <tr style=\"text-align: right;\">\n",
       "      <th></th>\n",
       "      <th>score</th>\n",
       "      <th>runs_scored</th>\n",
       "      <th>balls_faced</th>\n",
       "      <th>strike_rate</th>\n",
       "      <th>fours</th>\n",
       "      <th>sixes</th>\n",
       "      <th>opposition</th>\n",
       "      <th>ground</th>\n",
       "      <th>date</th>\n",
       "    </tr>\n",
       "  </thead>\n",
       "  <tbody>\n",
       "    <tr>\n",
       "      <th>0</th>\n",
       "      <td>0</td>\n",
       "      <td>0</td>\n",
       "      <td>1</td>\n",
       "      <td>0</td>\n",
       "      <td>0</td>\n",
       "      <td>0</td>\n",
       "      <td>v Bangladesh</td>\n",
       "      <td>Chattogram</td>\n",
       "      <td>23-12-2004</td>\n",
       "    </tr>\n",
       "    <tr>\n",
       "      <th>1</th>\n",
       "      <td>12</td>\n",
       "      <td>12</td>\n",
       "      <td>11</td>\n",
       "      <td>109.09</td>\n",
       "      <td>2</td>\n",
       "      <td>0</td>\n",
       "      <td>v Bangladesh</td>\n",
       "      <td>Dhaka</td>\n",
       "      <td>26-12-2004</td>\n",
       "    </tr>\n",
       "    <tr>\n",
       "      <th>2</th>\n",
       "      <td>7*</td>\n",
       "      <td>7</td>\n",
       "      <td>2</td>\n",
       "      <td>350</td>\n",
       "      <td>0</td>\n",
       "      <td>1</td>\n",
       "      <td>v Bangladesh</td>\n",
       "      <td>Dhaka</td>\n",
       "      <td>27-12-2004</td>\n",
       "    </tr>\n",
       "    <tr>\n",
       "      <th>3</th>\n",
       "      <td>3</td>\n",
       "      <td>3</td>\n",
       "      <td>7</td>\n",
       "      <td>42.85</td>\n",
       "      <td>0</td>\n",
       "      <td>0</td>\n",
       "      <td>v Pakistan</td>\n",
       "      <td>Kochi</td>\n",
       "      <td>2/4/2005</td>\n",
       "    </tr>\n",
       "    <tr>\n",
       "      <th>4</th>\n",
       "      <td>148</td>\n",
       "      <td>148</td>\n",
       "      <td>123</td>\n",
       "      <td>120.32</td>\n",
       "      <td>15</td>\n",
       "      <td>4</td>\n",
       "      <td>v Pakistan</td>\n",
       "      <td>Visakhapatnam</td>\n",
       "      <td>5/4/2005</td>\n",
       "    </tr>\n",
       "    <tr>\n",
       "      <th>...</th>\n",
       "      <td>...</td>\n",
       "      <td>...</td>\n",
       "      <td>...</td>\n",
       "      <td>...</td>\n",
       "      <td>...</td>\n",
       "      <td>...</td>\n",
       "      <td>...</td>\n",
       "      <td>...</td>\n",
       "      <td>...</td>\n",
       "    </tr>\n",
       "    <tr>\n",
       "      <th>344</th>\n",
       "      <td>28</td>\n",
       "      <td>28</td>\n",
       "      <td>52</td>\n",
       "      <td>53.84</td>\n",
       "      <td>3</td>\n",
       "      <td>0</td>\n",
       "      <td>v Afghanistan</td>\n",
       "      <td>Southampton</td>\n",
       "      <td>22-06-2019</td>\n",
       "    </tr>\n",
       "    <tr>\n",
       "      <th>345</th>\n",
       "      <td>56*</td>\n",
       "      <td>56</td>\n",
       "      <td>61</td>\n",
       "      <td>91.8</td>\n",
       "      <td>3</td>\n",
       "      <td>2</td>\n",
       "      <td>v West Indies</td>\n",
       "      <td>Manchester</td>\n",
       "      <td>27-06-2019</td>\n",
       "    </tr>\n",
       "    <tr>\n",
       "      <th>346</th>\n",
       "      <td>42*</td>\n",
       "      <td>42</td>\n",
       "      <td>31</td>\n",
       "      <td>135.48</td>\n",
       "      <td>4</td>\n",
       "      <td>1</td>\n",
       "      <td>v England</td>\n",
       "      <td>Birmingham</td>\n",
       "      <td>30-06-2019</td>\n",
       "    </tr>\n",
       "    <tr>\n",
       "      <th>347</th>\n",
       "      <td>35</td>\n",
       "      <td>35</td>\n",
       "      <td>33</td>\n",
       "      <td>106.06</td>\n",
       "      <td>4</td>\n",
       "      <td>0</td>\n",
       "      <td>v Bangladesh</td>\n",
       "      <td>Birmingham</td>\n",
       "      <td>2/7/2019</td>\n",
       "    </tr>\n",
       "    <tr>\n",
       "      <th>349</th>\n",
       "      <td>50</td>\n",
       "      <td>50</td>\n",
       "      <td>72</td>\n",
       "      <td>69.44</td>\n",
       "      <td>1</td>\n",
       "      <td>1</td>\n",
       "      <td>v New Zealand</td>\n",
       "      <td>Manchester</td>\n",
       "      <td>9/7/2019</td>\n",
       "    </tr>\n",
       "  </tbody>\n",
       "</table>\n",
       "<p>297 rows × 9 columns</p>\n",
       "</div>"
      ],
      "text/plain": [
       "    score runs_scored balls_faced strike_rate fours sixes     opposition  \\\n",
       "0       0           0           1           0     0     0   v Bangladesh   \n",
       "1      12          12          11      109.09     2     0   v Bangladesh   \n",
       "2      7*           7           2         350     0     1   v Bangladesh   \n",
       "3       3           3           7       42.85     0     0     v Pakistan   \n",
       "4     148         148         123      120.32    15     4     v Pakistan   \n",
       "..    ...         ...         ...         ...   ...   ...            ...   \n",
       "344    28          28          52       53.84     3     0  v Afghanistan   \n",
       "345   56*          56          61        91.8     3     2  v West Indies   \n",
       "346   42*          42          31      135.48     4     1      v England   \n",
       "347    35          35          33      106.06     4     0   v Bangladesh   \n",
       "349    50          50          72       69.44     1     1  v New Zealand   \n",
       "\n",
       "            ground        date  \n",
       "0       Chattogram  23-12-2004  \n",
       "1            Dhaka  26-12-2004  \n",
       "2            Dhaka  27-12-2004  \n",
       "3            Kochi    2/4/2005  \n",
       "4    Visakhapatnam    5/4/2005  \n",
       "..             ...         ...  \n",
       "344    Southampton  22-06-2019  \n",
       "345     Manchester  27-06-2019  \n",
       "346     Birmingham  30-06-2019  \n",
       "347     Birmingham    2/7/2019  \n",
       "349     Manchester    9/7/2019  \n",
       "\n",
       "[297 rows x 9 columns]"
      ]
     },
     "execution_count": 13,
     "metadata": {},
     "output_type": "execute_result"
    }
   ],
   "source": [
    "dhoni_data=dhoni_data.loc[(dhoni_data['score']!='DNB') & (dhoni_data['score']!='TDNB')]\n",
    "dhoni_data"
   ]
  },
  {
   "cell_type": "markdown",
   "id": "6bcfed50",
   "metadata": {},
   "source": [
    "To  remove the first 2 characters from the opposition string because that is not required."
   ]
  },
  {
   "cell_type": "code",
   "execution_count": 14,
   "id": "ecdf84c9",
   "metadata": {},
   "outputs": [
    {
     "name": "stderr",
     "output_type": "stream",
     "text": [
      "C:\\Users\\Administrator\\AppData\\Local\\Temp\\ipykernel_18272\\3280741494.py:1: SettingWithCopyWarning: \n",
      "A value is trying to be set on a copy of a slice from a DataFrame.\n",
      "Try using .loc[row_indexer,col_indexer] = value instead\n",
      "\n",
      "See the caveats in the documentation: https://pandas.pydata.org/pandas-docs/stable/user_guide/indexing.html#returning-a-view-versus-a-copy\n",
      "  dhoni_data['opposition']=dhoni_data['opposition'].str.replace('v ','')\n"
     ]
    },
    {
     "data": {
      "text/plain": [
       "0       Bangladesh\n",
       "1       Bangladesh\n",
       "2       Bangladesh\n",
       "3         Pakistan\n",
       "4         Pakistan\n",
       "          ...     \n",
       "344    Afghanistan\n",
       "345    West Indies\n",
       "346        England\n",
       "347     Bangladesh\n",
       "349    New Zealand\n",
       "Name: opposition, Length: 297, dtype: object"
      ]
     },
     "execution_count": 14,
     "metadata": {},
     "output_type": "execute_result"
    }
   ],
   "source": [
    "dhoni_data['opposition']=dhoni_data['opposition'].str.replace('v ','')\n",
    "dhoni_data['opposition']"
   ]
  },
  {
   "cell_type": "code",
   "execution_count": 15,
   "id": "094a260b",
   "metadata": {},
   "outputs": [
    {
     "name": "stdout",
     "output_type": "stream",
     "text": [
      "<class 'pandas.core.frame.DataFrame'>\n",
      "Int64Index: 297 entries, 0 to 349\n",
      "Data columns (total 9 columns):\n",
      " #   Column       Non-Null Count  Dtype \n",
      "---  ------       --------------  ----- \n",
      " 0   score        297 non-null    object\n",
      " 1   runs_scored  297 non-null    object\n",
      " 2   balls_faced  297 non-null    object\n",
      " 3   strike_rate  297 non-null    object\n",
      " 4   fours        297 non-null    object\n",
      " 5   sixes        297 non-null    object\n",
      " 6   opposition   297 non-null    object\n",
      " 7   ground       297 non-null    object\n",
      " 8   date         297 non-null    object\n",
      "dtypes: object(9)\n",
      "memory usage: 23.2+ KB\n"
     ]
    }
   ],
   "source": [
    "dhoni_data.info()"
   ]
  },
  {
   "cell_type": "code",
   "execution_count": 16,
   "id": "8553ee9e",
   "metadata": {},
   "outputs": [
    {
     "data": {
      "text/plain": [
       "array([1, 1, 0, 0, 0, 0, 0, 1, 0])"
      ]
     },
     "execution_count": 16,
     "metadata": {},
     "output_type": "execute_result"
    }
   ],
   "source": [
    "import numpy as np\n",
    "a=np.array([2,2,5,6,7,8,9,2,11])\n",
    "np.where(a==2,1,0)"
   ]
  },
  {
   "cell_type": "markdown",
   "id": "2124b727",
   "metadata": {},
   "source": [
    "Create a column indicating whether Dhoni was not out in that innings or not."
   ]
  },
  {
   "cell_type": "code",
   "execution_count": 17,
   "id": "d404f26c",
   "metadata": {},
   "outputs": [
    {
     "data": {
      "text/plain": [
       "0        0\n",
       "1       12\n",
       "2       7*\n",
       "3        3\n",
       "4      148\n",
       "      ... \n",
       "344     28\n",
       "345    56*\n",
       "346    42*\n",
       "347     35\n",
       "349     50\n",
       "Name: score, Length: 297, dtype: object"
      ]
     },
     "execution_count": 17,
     "metadata": {},
     "output_type": "execute_result"
    }
   ],
   "source": [
    "dhoni_data['score']"
   ]
  },
  {
   "cell_type": "code",
   "execution_count": 18,
   "id": "00a0d6bf",
   "metadata": {},
   "outputs": [
    {
     "name": "stderr",
     "output_type": "stream",
     "text": [
      "C:\\Users\\Administrator\\AppData\\Local\\Temp\\ipykernel_18272\\1536194618.py:1: SettingWithCopyWarning: \n",
      "A value is trying to be set on a copy of a slice from a DataFrame.\n",
      "Try using .loc[row_indexer,col_indexer] = value instead\n",
      "\n",
      "See the caveats in the documentation: https://pandas.pydata.org/pandas-docs/stable/user_guide/indexing.html#returning-a-view-versus-a-copy\n",
      "  dhoni_data['not_out']=np.where(dhoni_data['score'].str.endswith('*'),1,0)\n"
     ]
    },
    {
     "data": {
      "text/plain": [
       "0      0\n",
       "1      0\n",
       "2      1\n",
       "3      0\n",
       "4      0\n",
       "      ..\n",
       "344    0\n",
       "345    1\n",
       "346    1\n",
       "347    0\n",
       "349    0\n",
       "Name: not_out, Length: 297, dtype: int32"
      ]
     },
     "execution_count": 18,
     "metadata": {},
     "output_type": "execute_result"
    }
   ],
   "source": [
    "dhoni_data['not_out']=np.where(dhoni_data['score'].str.endswith('*'),1,0)\n",
    "dhoni_data['not_out']"
   ]
  },
  {
   "cell_type": "code",
   "execution_count": 19,
   "id": "8097a98a",
   "metadata": {},
   "outputs": [
    {
     "data": {
      "text/html": [
       "<div>\n",
       "<style scoped>\n",
       "    .dataframe tbody tr th:only-of-type {\n",
       "        vertical-align: middle;\n",
       "    }\n",
       "\n",
       "    .dataframe tbody tr th {\n",
       "        vertical-align: top;\n",
       "    }\n",
       "\n",
       "    .dataframe thead th {\n",
       "        text-align: right;\n",
       "    }\n",
       "</style>\n",
       "<table border=\"1\" class=\"dataframe\">\n",
       "  <thead>\n",
       "    <tr style=\"text-align: right;\">\n",
       "      <th></th>\n",
       "      <th>score</th>\n",
       "      <th>not_out</th>\n",
       "    </tr>\n",
       "  </thead>\n",
       "  <tbody>\n",
       "    <tr>\n",
       "      <th>0</th>\n",
       "      <td>0</td>\n",
       "      <td>0</td>\n",
       "    </tr>\n",
       "    <tr>\n",
       "      <th>1</th>\n",
       "      <td>12</td>\n",
       "      <td>0</td>\n",
       "    </tr>\n",
       "    <tr>\n",
       "      <th>2</th>\n",
       "      <td>7*</td>\n",
       "      <td>1</td>\n",
       "    </tr>\n",
       "    <tr>\n",
       "      <th>3</th>\n",
       "      <td>3</td>\n",
       "      <td>0</td>\n",
       "    </tr>\n",
       "    <tr>\n",
       "      <th>4</th>\n",
       "      <td>148</td>\n",
       "      <td>0</td>\n",
       "    </tr>\n",
       "    <tr>\n",
       "      <th>...</th>\n",
       "      <td>...</td>\n",
       "      <td>...</td>\n",
       "    </tr>\n",
       "    <tr>\n",
       "      <th>344</th>\n",
       "      <td>28</td>\n",
       "      <td>0</td>\n",
       "    </tr>\n",
       "    <tr>\n",
       "      <th>345</th>\n",
       "      <td>56*</td>\n",
       "      <td>1</td>\n",
       "    </tr>\n",
       "    <tr>\n",
       "      <th>346</th>\n",
       "      <td>42*</td>\n",
       "      <td>1</td>\n",
       "    </tr>\n",
       "    <tr>\n",
       "      <th>347</th>\n",
       "      <td>35</td>\n",
       "      <td>0</td>\n",
       "    </tr>\n",
       "    <tr>\n",
       "      <th>349</th>\n",
       "      <td>50</td>\n",
       "      <td>0</td>\n",
       "    </tr>\n",
       "  </tbody>\n",
       "</table>\n",
       "<p>297 rows × 2 columns</p>\n",
       "</div>"
      ],
      "text/plain": [
       "    score  not_out\n",
       "0       0        0\n",
       "1      12        0\n",
       "2      7*        1\n",
       "3       3        0\n",
       "4     148        0\n",
       "..    ...      ...\n",
       "344    28        0\n",
       "345   56*        1\n",
       "346   42*        1\n",
       "347    35        0\n",
       "349    50        0\n",
       "\n",
       "[297 rows x 2 columns]"
      ]
     },
     "execution_count": 19,
     "metadata": {},
     "output_type": "execute_result"
    }
   ],
   "source": [
    "dhoni_data[['score','not_out']]"
   ]
  },
  {
   "cell_type": "code",
   "execution_count": 20,
   "id": "672af1ed",
   "metadata": {},
   "outputs": [
    {
     "name": "stdout",
     "output_type": "stream",
     "text": [
      "<class 'pandas.core.frame.DataFrame'>\n",
      "Int64Index: 297 entries, 0 to 349\n",
      "Data columns (total 10 columns):\n",
      " #   Column       Non-Null Count  Dtype \n",
      "---  ------       --------------  ----- \n",
      " 0   score        297 non-null    object\n",
      " 1   runs_scored  297 non-null    object\n",
      " 2   balls_faced  297 non-null    object\n",
      " 3   strike_rate  297 non-null    object\n",
      " 4   fours        297 non-null    object\n",
      " 5   sixes        297 non-null    object\n",
      " 6   opposition   297 non-null    object\n",
      " 7   ground       297 non-null    object\n",
      " 8   date         297 non-null    object\n",
      " 9   not_out      297 non-null    int32 \n",
      "dtypes: int32(1), object(9)\n",
      "memory usage: 24.4+ KB\n"
     ]
    }
   ],
   "source": [
    "dhoni_data.info()"
   ]
  },
  {
   "cell_type": "code",
   "execution_count": 21,
   "id": "89c7819e",
   "metadata": {},
   "outputs": [
    {
     "name": "stderr",
     "output_type": "stream",
     "text": [
      "C:\\Users\\Administrator\\anaconda3\\lib\\site-packages\\pandas\\core\\indexes\\datetimes.py:327: UserWarning: Parsing '23-12-2004' in DD/MM/YYYY format. Provide format or specify infer_datetime_format=True for consistent parsing.\n",
      "  dtarr = DatetimeArray._from_sequence_not_strict(\n",
      "C:\\Users\\Administrator\\anaconda3\\lib\\site-packages\\pandas\\core\\indexes\\datetimes.py:327: UserWarning: Parsing '26-12-2004' in DD/MM/YYYY format. Provide format or specify infer_datetime_format=True for consistent parsing.\n",
      "  dtarr = DatetimeArray._from_sequence_not_strict(\n",
      "C:\\Users\\Administrator\\anaconda3\\lib\\site-packages\\pandas\\core\\indexes\\datetimes.py:327: UserWarning: Parsing '27-12-2004' in DD/MM/YYYY format. Provide format or specify infer_datetime_format=True for consistent parsing.\n",
      "  dtarr = DatetimeArray._from_sequence_not_strict(\n",
      "C:\\Users\\Administrator\\anaconda3\\lib\\site-packages\\pandas\\core\\indexes\\datetimes.py:327: UserWarning: Parsing '15-04-2005' in DD/MM/YYYY format. Provide format or specify infer_datetime_format=True for consistent parsing.\n",
      "  dtarr = DatetimeArray._from_sequence_not_strict(\n",
      "C:\\Users\\Administrator\\anaconda3\\lib\\site-packages\\pandas\\core\\indexes\\datetimes.py:327: UserWarning: Parsing '17-04-2005' in DD/MM/YYYY format. Provide format or specify infer_datetime_format=True for consistent parsing.\n",
      "  dtarr = DatetimeArray._from_sequence_not_strict(\n",
      "C:\\Users\\Administrator\\anaconda3\\lib\\site-packages\\pandas\\core\\indexes\\datetimes.py:327: UserWarning: Parsing '30-07-2005' in DD/MM/YYYY format. Provide format or specify infer_datetime_format=True for consistent parsing.\n",
      "  dtarr = DatetimeArray._from_sequence_not_strict(\n",
      "C:\\Users\\Administrator\\anaconda3\\lib\\site-packages\\pandas\\core\\indexes\\datetimes.py:327: UserWarning: Parsing '31-07-2005' in DD/MM/YYYY format. Provide format or specify infer_datetime_format=True for consistent parsing.\n",
      "  dtarr = DatetimeArray._from_sequence_not_strict(\n",
      "C:\\Users\\Administrator\\anaconda3\\lib\\site-packages\\pandas\\core\\indexes\\datetimes.py:327: UserWarning: Parsing '26-08-2005' in DD/MM/YYYY format. Provide format or specify infer_datetime_format=True for consistent parsing.\n",
      "  dtarr = DatetimeArray._from_sequence_not_strict(\n",
      "C:\\Users\\Administrator\\anaconda3\\lib\\site-packages\\pandas\\core\\indexes\\datetimes.py:327: UserWarning: Parsing '29-08-2005' in DD/MM/YYYY format. Provide format or specify infer_datetime_format=True for consistent parsing.\n",
      "  dtarr = DatetimeArray._from_sequence_not_strict(\n",
      "C:\\Users\\Administrator\\anaconda3\\lib\\site-packages\\pandas\\core\\indexes\\datetimes.py:327: UserWarning: Parsing '25-10-2005' in DD/MM/YYYY format. Provide format or specify infer_datetime_format=True for consistent parsing.\n",
      "  dtarr = DatetimeArray._from_sequence_not_strict(\n",
      "C:\\Users\\Administrator\\anaconda3\\lib\\site-packages\\pandas\\core\\indexes\\datetimes.py:327: UserWarning: Parsing '31-10-2005' in DD/MM/YYYY format. Provide format or specify infer_datetime_format=True for consistent parsing.\n",
      "  dtarr = DatetimeArray._from_sequence_not_strict(\n",
      "C:\\Users\\Administrator\\anaconda3\\lib\\site-packages\\pandas\\core\\indexes\\datetimes.py:327: UserWarning: Parsing '16-11-2005' in DD/MM/YYYY format. Provide format or specify infer_datetime_format=True for consistent parsing.\n",
      "  dtarr = DatetimeArray._from_sequence_not_strict(\n",
      "C:\\Users\\Administrator\\anaconda3\\lib\\site-packages\\pandas\\core\\indexes\\datetimes.py:327: UserWarning: Parsing '25-11-2005' in DD/MM/YYYY format. Provide format or specify infer_datetime_format=True for consistent parsing.\n",
      "  dtarr = DatetimeArray._from_sequence_not_strict(\n",
      "C:\\Users\\Administrator\\anaconda3\\lib\\site-packages\\pandas\\core\\indexes\\datetimes.py:327: UserWarning: Parsing '28-11-2005' in DD/MM/YYYY format. Provide format or specify infer_datetime_format=True for consistent parsing.\n",
      "  dtarr = DatetimeArray._from_sequence_not_strict(\n",
      "C:\\Users\\Administrator\\anaconda3\\lib\\site-packages\\pandas\\core\\indexes\\datetimes.py:327: UserWarning: Parsing '13-02-2006' in DD/MM/YYYY format. Provide format or specify infer_datetime_format=True for consistent parsing.\n",
      "  dtarr = DatetimeArray._from_sequence_not_strict(\n",
      "C:\\Users\\Administrator\\anaconda3\\lib\\site-packages\\pandas\\core\\indexes\\datetimes.py:327: UserWarning: Parsing '16-02-2006' in DD/MM/YYYY format. Provide format or specify infer_datetime_format=True for consistent parsing.\n",
      "  dtarr = DatetimeArray._from_sequence_not_strict(\n",
      "C:\\Users\\Administrator\\anaconda3\\lib\\site-packages\\pandas\\core\\indexes\\datetimes.py:327: UserWarning: Parsing '19-02-2006' in DD/MM/YYYY format. Provide format or specify infer_datetime_format=True for consistent parsing.\n",
      "  dtarr = DatetimeArray._from_sequence_not_strict(\n",
      "C:\\Users\\Administrator\\anaconda3\\lib\\site-packages\\pandas\\core\\indexes\\datetimes.py:327: UserWarning: Parsing '28-03-2006' in DD/MM/YYYY format. Provide format or specify infer_datetime_format=True for consistent parsing.\n",
      "  dtarr = DatetimeArray._from_sequence_not_strict(\n",
      "C:\\Users\\Administrator\\anaconda3\\lib\\site-packages\\pandas\\core\\indexes\\datetimes.py:327: UserWarning: Parsing '31-03-2006' in DD/MM/YYYY format. Provide format or specify infer_datetime_format=True for consistent parsing.\n",
      "  dtarr = DatetimeArray._from_sequence_not_strict(\n",
      "C:\\Users\\Administrator\\anaconda3\\lib\\site-packages\\pandas\\core\\indexes\\datetimes.py:327: UserWarning: Parsing '18-04-2006' in DD/MM/YYYY format. Provide format or specify infer_datetime_format=True for consistent parsing.\n",
      "  dtarr = DatetimeArray._from_sequence_not_strict(\n",
      "C:\\Users\\Administrator\\anaconda3\\lib\\site-packages\\pandas\\core\\indexes\\datetimes.py:327: UserWarning: Parsing '19-04-2006' in DD/MM/YYYY format. Provide format or specify infer_datetime_format=True for consistent parsing.\n",
      "  dtarr = DatetimeArray._from_sequence_not_strict(\n",
      "C:\\Users\\Administrator\\anaconda3\\lib\\site-packages\\pandas\\core\\indexes\\datetimes.py:327: UserWarning: Parsing '18-05-2006' in DD/MM/YYYY format. Provide format or specify infer_datetime_format=True for consistent parsing.\n",
      "  dtarr = DatetimeArray._from_sequence_not_strict(\n",
      "C:\\Users\\Administrator\\anaconda3\\lib\\site-packages\\pandas\\core\\indexes\\datetimes.py:327: UserWarning: Parsing '20-05-2006' in DD/MM/YYYY format. Provide format or specify infer_datetime_format=True for consistent parsing.\n",
      "  dtarr = DatetimeArray._from_sequence_not_strict(\n",
      "C:\\Users\\Administrator\\anaconda3\\lib\\site-packages\\pandas\\core\\indexes\\datetimes.py:327: UserWarning: Parsing '23-05-2006' in DD/MM/YYYY format. Provide format or specify infer_datetime_format=True for consistent parsing.\n",
      "  dtarr = DatetimeArray._from_sequence_not_strict(\n",
      "C:\\Users\\Administrator\\anaconda3\\lib\\site-packages\\pandas\\core\\indexes\\datetimes.py:327: UserWarning: Parsing '26-05-2006' in DD/MM/YYYY format. Provide format or specify infer_datetime_format=True for consistent parsing.\n",
      "  dtarr = DatetimeArray._from_sequence_not_strict(\n",
      "C:\\Users\\Administrator\\anaconda3\\lib\\site-packages\\pandas\\core\\indexes\\datetimes.py:327: UserWarning: Parsing '28-05-2006' in DD/MM/YYYY format. Provide format or specify infer_datetime_format=True for consistent parsing.\n",
      "  dtarr = DatetimeArray._from_sequence_not_strict(\n",
      "C:\\Users\\Administrator\\anaconda3\\lib\\site-packages\\pandas\\core\\indexes\\datetimes.py:327: UserWarning: Parsing '14-09-2006' in DD/MM/YYYY format. Provide format or specify infer_datetime_format=True for consistent parsing.\n",
      "  dtarr = DatetimeArray._from_sequence_not_strict(\n",
      "C:\\Users\\Administrator\\anaconda3\\lib\\site-packages\\pandas\\core\\indexes\\datetimes.py:327: UserWarning: Parsing '20-09-2006' in DD/MM/YYYY format. Provide format or specify infer_datetime_format=True for consistent parsing.\n",
      "  dtarr = DatetimeArray._from_sequence_not_strict(\n",
      "C:\\Users\\Administrator\\anaconda3\\lib\\site-packages\\pandas\\core\\indexes\\datetimes.py:327: UserWarning: Parsing '22-09-2006' in DD/MM/YYYY format. Provide format or specify infer_datetime_format=True for consistent parsing.\n",
      "  dtarr = DatetimeArray._from_sequence_not_strict(\n",
      "C:\\Users\\Administrator\\anaconda3\\lib\\site-packages\\pandas\\core\\indexes\\datetimes.py:327: UserWarning: Parsing '15-10-2006' in DD/MM/YYYY format. Provide format or specify infer_datetime_format=True for consistent parsing.\n",
      "  dtarr = DatetimeArray._from_sequence_not_strict(\n",
      "C:\\Users\\Administrator\\anaconda3\\lib\\site-packages\\pandas\\core\\indexes\\datetimes.py:327: UserWarning: Parsing '26-10-2006' in DD/MM/YYYY format. Provide format or specify infer_datetime_format=True for consistent parsing.\n",
      "  dtarr = DatetimeArray._from_sequence_not_strict(\n",
      "C:\\Users\\Administrator\\anaconda3\\lib\\site-packages\\pandas\\core\\indexes\\datetimes.py:327: UserWarning: Parsing '29-10-2006' in DD/MM/YYYY format. Provide format or specify infer_datetime_format=True for consistent parsing.\n",
      "  dtarr = DatetimeArray._from_sequence_not_strict(\n",
      "C:\\Users\\Administrator\\anaconda3\\lib\\site-packages\\pandas\\core\\indexes\\datetimes.py:327: UserWarning: Parsing '22-11-2006' in DD/MM/YYYY format. Provide format or specify infer_datetime_format=True for consistent parsing.\n",
      "  dtarr = DatetimeArray._from_sequence_not_strict(\n",
      "C:\\Users\\Administrator\\anaconda3\\lib\\site-packages\\pandas\\core\\indexes\\datetimes.py:327: UserWarning: Parsing '26-11-2006' in DD/MM/YYYY format. Provide format or specify infer_datetime_format=True for consistent parsing.\n",
      "  dtarr = DatetimeArray._from_sequence_not_strict(\n",
      "C:\\Users\\Administrator\\anaconda3\\lib\\site-packages\\pandas\\core\\indexes\\datetimes.py:327: UserWarning: Parsing '29-11-2006' in DD/MM/YYYY format. Provide format or specify infer_datetime_format=True for consistent parsing.\n",
      "  dtarr = DatetimeArray._from_sequence_not_strict(\n",
      "C:\\Users\\Administrator\\anaconda3\\lib\\site-packages\\pandas\\core\\indexes\\datetimes.py:327: UserWarning: Parsing '21-01-2007' in DD/MM/YYYY format. Provide format or specify infer_datetime_format=True for consistent parsing.\n",
      "  dtarr = DatetimeArray._from_sequence_not_strict(\n",
      "C:\\Users\\Administrator\\anaconda3\\lib\\site-packages\\pandas\\core\\indexes\\datetimes.py:327: UserWarning: Parsing '24-01-2007' in DD/MM/YYYY format. Provide format or specify infer_datetime_format=True for consistent parsing.\n",
      "  dtarr = DatetimeArray._from_sequence_not_strict(\n",
      "C:\\Users\\Administrator\\anaconda3\\lib\\site-packages\\pandas\\core\\indexes\\datetimes.py:327: UserWarning: Parsing '31-01-2007' in DD/MM/YYYY format. Provide format or specify infer_datetime_format=True for consistent parsing.\n",
      "  dtarr = DatetimeArray._from_sequence_not_strict(\n",
      "C:\\Users\\Administrator\\anaconda3\\lib\\site-packages\\pandas\\core\\indexes\\datetimes.py:327: UserWarning: Parsing '14-02-2007' in DD/MM/YYYY format. Provide format or specify infer_datetime_format=True for consistent parsing.\n",
      "  dtarr = DatetimeArray._from_sequence_not_strict(\n",
      "C:\\Users\\Administrator\\anaconda3\\lib\\site-packages\\pandas\\core\\indexes\\datetimes.py:327: UserWarning: Parsing '17-03-2007' in DD/MM/YYYY format. Provide format or specify infer_datetime_format=True for consistent parsing.\n",
      "  dtarr = DatetimeArray._from_sequence_not_strict(\n",
      "C:\\Users\\Administrator\\anaconda3\\lib\\site-packages\\pandas\\core\\indexes\\datetimes.py:327: UserWarning: Parsing '19-03-2007' in DD/MM/YYYY format. Provide format or specify infer_datetime_format=True for consistent parsing.\n",
      "  dtarr = DatetimeArray._from_sequence_not_strict(\n",
      "C:\\Users\\Administrator\\anaconda3\\lib\\site-packages\\pandas\\core\\indexes\\datetimes.py:327: UserWarning: Parsing '23-03-2007' in DD/MM/YYYY format. Provide format or specify infer_datetime_format=True for consistent parsing.\n",
      "  dtarr = DatetimeArray._from_sequence_not_strict(\n",
      "C:\\Users\\Administrator\\anaconda3\\lib\\site-packages\\pandas\\core\\indexes\\datetimes.py:327: UserWarning: Parsing '29-06-2007' in DD/MM/YYYY format. Provide format or specify infer_datetime_format=True for consistent parsing.\n",
      "  dtarr = DatetimeArray._from_sequence_not_strict(\n",
      "C:\\Users\\Administrator\\anaconda3\\lib\\site-packages\\pandas\\core\\indexes\\datetimes.py:327: UserWarning: Parsing '21-08-2007' in DD/MM/YYYY format. Provide format or specify infer_datetime_format=True for consistent parsing.\n",
      "  dtarr = DatetimeArray._from_sequence_not_strict(\n",
      "C:\\Users\\Administrator\\anaconda3\\lib\\site-packages\\pandas\\core\\indexes\\datetimes.py:327: UserWarning: Parsing '24-08-2007' in DD/MM/YYYY format. Provide format or specify infer_datetime_format=True for consistent parsing.\n",
      "  dtarr = DatetimeArray._from_sequence_not_strict(\n",
      "C:\\Users\\Administrator\\anaconda3\\lib\\site-packages\\pandas\\core\\indexes\\datetimes.py:327: UserWarning: Parsing '27-08-2007' in DD/MM/YYYY format. Provide format or specify infer_datetime_format=True for consistent parsing.\n",
      "  dtarr = DatetimeArray._from_sequence_not_strict(\n",
      "C:\\Users\\Administrator\\anaconda3\\lib\\site-packages\\pandas\\core\\indexes\\datetimes.py:327: UserWarning: Parsing '30-08-2007' in DD/MM/YYYY format. Provide format or specify infer_datetime_format=True for consistent parsing.\n",
      "  dtarr = DatetimeArray._from_sequence_not_strict(\n",
      "C:\\Users\\Administrator\\anaconda3\\lib\\site-packages\\pandas\\core\\indexes\\datetimes.py:327: UserWarning: Parsing '14-10-2007' in DD/MM/YYYY format. Provide format or specify infer_datetime_format=True for consistent parsing.\n",
      "  dtarr = DatetimeArray._from_sequence_not_strict(\n",
      "C:\\Users\\Administrator\\anaconda3\\lib\\site-packages\\pandas\\core\\indexes\\datetimes.py:327: UserWarning: Parsing '17-10-2007' in DD/MM/YYYY format. Provide format or specify infer_datetime_format=True for consistent parsing.\n",
      "  dtarr = DatetimeArray._from_sequence_not_strict(\n",
      "C:\\Users\\Administrator\\anaconda3\\lib\\site-packages\\pandas\\core\\indexes\\datetimes.py:327: UserWarning: Parsing '15-11-2007' in DD/MM/YYYY format. Provide format or specify infer_datetime_format=True for consistent parsing.\n",
      "  dtarr = DatetimeArray._from_sequence_not_strict(\n",
      "C:\\Users\\Administrator\\anaconda3\\lib\\site-packages\\pandas\\core\\indexes\\datetimes.py:327: UserWarning: Parsing '18-11-2007' in DD/MM/YYYY format. Provide format or specify infer_datetime_format=True for consistent parsing.\n",
      "  dtarr = DatetimeArray._from_sequence_not_strict(\n",
      "C:\\Users\\Administrator\\anaconda3\\lib\\site-packages\\pandas\\core\\indexes\\datetimes.py:327: UserWarning: Parsing '17-02-2008' in DD/MM/YYYY format. Provide format or specify infer_datetime_format=True for consistent parsing.\n",
      "  dtarr = DatetimeArray._from_sequence_not_strict(\n",
      "C:\\Users\\Administrator\\anaconda3\\lib\\site-packages\\pandas\\core\\indexes\\datetimes.py:327: UserWarning: Parsing '19-02-2008' in DD/MM/YYYY format. Provide format or specify infer_datetime_format=True for consistent parsing.\n",
      "  dtarr = DatetimeArray._from_sequence_not_strict(\n",
      "C:\\Users\\Administrator\\anaconda3\\lib\\site-packages\\pandas\\core\\indexes\\datetimes.py:327: UserWarning: Parsing '24-02-2008' in DD/MM/YYYY format. Provide format or specify infer_datetime_format=True for consistent parsing.\n",
      "  dtarr = DatetimeArray._from_sequence_not_strict(\n",
      "C:\\Users\\Administrator\\anaconda3\\lib\\site-packages\\pandas\\core\\indexes\\datetimes.py:327: UserWarning: Parsing '14-06-2008' in DD/MM/YYYY format. Provide format or specify infer_datetime_format=True for consistent parsing.\n",
      "  dtarr = DatetimeArray._from_sequence_not_strict(\n",
      "C:\\Users\\Administrator\\anaconda3\\lib\\site-packages\\pandas\\core\\indexes\\datetimes.py:327: UserWarning: Parsing '25-06-2008' in DD/MM/YYYY format. Provide format or specify infer_datetime_format=True for consistent parsing.\n",
      "  dtarr = DatetimeArray._from_sequence_not_strict(\n",
      "C:\\Users\\Administrator\\anaconda3\\lib\\site-packages\\pandas\\core\\indexes\\datetimes.py:327: UserWarning: Parsing '26-06-2008' in DD/MM/YYYY format. Provide format or specify infer_datetime_format=True for consistent parsing.\n",
      "  dtarr = DatetimeArray._from_sequence_not_strict(\n",
      "C:\\Users\\Administrator\\anaconda3\\lib\\site-packages\\pandas\\core\\indexes\\datetimes.py:327: UserWarning: Parsing '18-08-2008' in DD/MM/YYYY format. Provide format or specify infer_datetime_format=True for consistent parsing.\n",
      "  dtarr = DatetimeArray._from_sequence_not_strict(\n",
      "C:\\Users\\Administrator\\anaconda3\\lib\\site-packages\\pandas\\core\\indexes\\datetimes.py:327: UserWarning: Parsing '20-08-2008' in DD/MM/YYYY format. Provide format or specify infer_datetime_format=True for consistent parsing.\n",
      "  dtarr = DatetimeArray._from_sequence_not_strict(\n",
      "C:\\Users\\Administrator\\anaconda3\\lib\\site-packages\\pandas\\core\\indexes\\datetimes.py:327: UserWarning: Parsing '24-08-2008' in DD/MM/YYYY format. Provide format or specify infer_datetime_format=True for consistent parsing.\n",
      "  dtarr = DatetimeArray._from_sequence_not_strict(\n",
      "C:\\Users\\Administrator\\anaconda3\\lib\\site-packages\\pandas\\core\\indexes\\datetimes.py:327: UserWarning: Parsing '27-08-2008' in DD/MM/YYYY format. Provide format or specify infer_datetime_format=True for consistent parsing.\n",
      "  dtarr = DatetimeArray._from_sequence_not_strict(\n",
      "C:\\Users\\Administrator\\anaconda3\\lib\\site-packages\\pandas\\core\\indexes\\datetimes.py:327: UserWarning: Parsing '29-08-2008' in DD/MM/YYYY format. Provide format or specify infer_datetime_format=True for consistent parsing.\n",
      "  dtarr = DatetimeArray._from_sequence_not_strict(\n",
      "C:\\Users\\Administrator\\anaconda3\\lib\\site-packages\\pandas\\core\\indexes\\datetimes.py:327: UserWarning: Parsing '14-11-2008' in DD/MM/YYYY format. Provide format or specify infer_datetime_format=True for consistent parsing.\n",
      "  dtarr = DatetimeArray._from_sequence_not_strict(\n",
      "C:\\Users\\Administrator\\anaconda3\\lib\\site-packages\\pandas\\core\\indexes\\datetimes.py:327: UserWarning: Parsing '17-11-2008' in DD/MM/YYYY format. Provide format or specify infer_datetime_format=True for consistent parsing.\n",
      "  dtarr = DatetimeArray._from_sequence_not_strict(\n",
      "C:\\Users\\Administrator\\anaconda3\\lib\\site-packages\\pandas\\core\\indexes\\datetimes.py:327: UserWarning: Parsing '20-11-2008' in DD/MM/YYYY format. Provide format or specify infer_datetime_format=True for consistent parsing.\n",
      "  dtarr = DatetimeArray._from_sequence_not_strict(\n",
      "C:\\Users\\Administrator\\anaconda3\\lib\\site-packages\\pandas\\core\\indexes\\datetimes.py:327: UserWarning: Parsing '23-11-2008' in DD/MM/YYYY format. Provide format or specify infer_datetime_format=True for consistent parsing.\n",
      "  dtarr = DatetimeArray._from_sequence_not_strict(\n",
      "C:\\Users\\Administrator\\anaconda3\\lib\\site-packages\\pandas\\core\\indexes\\datetimes.py:327: UserWarning: Parsing '26-11-2008' in DD/MM/YYYY format. Provide format or specify infer_datetime_format=True for consistent parsing.\n",
      "  dtarr = DatetimeArray._from_sequence_not_strict(\n",
      "C:\\Users\\Administrator\\anaconda3\\lib\\site-packages\\pandas\\core\\indexes\\datetimes.py:327: UserWarning: Parsing '28-01-2009' in DD/MM/YYYY format. Provide format or specify infer_datetime_format=True for consistent parsing.\n",
      "  dtarr = DatetimeArray._from_sequence_not_strict(\n",
      "C:\\Users\\Administrator\\anaconda3\\lib\\site-packages\\pandas\\core\\indexes\\datetimes.py:327: UserWarning: Parsing '31-01-2009' in DD/MM/YYYY format. Provide format or specify infer_datetime_format=True for consistent parsing.\n",
      "  dtarr = DatetimeArray._from_sequence_not_strict(\n",
      "C:\\Users\\Administrator\\anaconda3\\lib\\site-packages\\pandas\\core\\indexes\\datetimes.py:327: UserWarning: Parsing '14-03-2009' in DD/MM/YYYY format. Provide format or specify infer_datetime_format=True for consistent parsing.\n",
      "  dtarr = DatetimeArray._from_sequence_not_strict(\n",
      "C:\\Users\\Administrator\\anaconda3\\lib\\site-packages\\pandas\\core\\indexes\\datetimes.py:327: UserWarning: Parsing '26-06-2009' in DD/MM/YYYY format. Provide format or specify infer_datetime_format=True for consistent parsing.\n",
      "  dtarr = DatetimeArray._from_sequence_not_strict(\n",
      "C:\\Users\\Administrator\\anaconda3\\lib\\site-packages\\pandas\\core\\indexes\\datetimes.py:327: UserWarning: Parsing '28-06-2009' in DD/MM/YYYY format. Provide format or specify infer_datetime_format=True for consistent parsing.\n",
      "  dtarr = DatetimeArray._from_sequence_not_strict(\n",
      "C:\\Users\\Administrator\\anaconda3\\lib\\site-packages\\pandas\\core\\indexes\\datetimes.py:327: UserWarning: Parsing '14-09-2009' in DD/MM/YYYY format. Provide format or specify infer_datetime_format=True for consistent parsing.\n",
      "  dtarr = DatetimeArray._from_sequence_not_strict(\n",
      "C:\\Users\\Administrator\\anaconda3\\lib\\site-packages\\pandas\\core\\indexes\\datetimes.py:327: UserWarning: Parsing '26-09-2009' in DD/MM/YYYY format. Provide format or specify infer_datetime_format=True for consistent parsing.\n",
      "  dtarr = DatetimeArray._from_sequence_not_strict(\n",
      "C:\\Users\\Administrator\\anaconda3\\lib\\site-packages\\pandas\\core\\indexes\\datetimes.py:327: UserWarning: Parsing '25-10-2009' in DD/MM/YYYY format. Provide format or specify infer_datetime_format=True for consistent parsing.\n",
      "  dtarr = DatetimeArray._from_sequence_not_strict(\n"
     ]
    },
    {
     "name": "stderr",
     "output_type": "stream",
     "text": [
      "C:\\Users\\Administrator\\anaconda3\\lib\\site-packages\\pandas\\core\\indexes\\datetimes.py:327: UserWarning: Parsing '28-10-2009' in DD/MM/YYYY format. Provide format or specify infer_datetime_format=True for consistent parsing.\n",
      "  dtarr = DatetimeArray._from_sequence_not_strict(\n",
      "C:\\Users\\Administrator\\anaconda3\\lib\\site-packages\\pandas\\core\\indexes\\datetimes.py:327: UserWarning: Parsing '31-10-2009' in DD/MM/YYYY format. Provide format or specify infer_datetime_format=True for consistent parsing.\n",
      "  dtarr = DatetimeArray._from_sequence_not_strict(\n",
      "C:\\Users\\Administrator\\anaconda3\\lib\\site-packages\\pandas\\core\\indexes\\datetimes.py:327: UserWarning: Parsing '15-12-2009' in DD/MM/YYYY format. Provide format or specify infer_datetime_format=True for consistent parsing.\n",
      "  dtarr = DatetimeArray._from_sequence_not_strict(\n",
      "C:\\Users\\Administrator\\anaconda3\\lib\\site-packages\\pandas\\core\\indexes\\datetimes.py:327: UserWarning: Parsing '18-12-2009' in DD/MM/YYYY format. Provide format or specify infer_datetime_format=True for consistent parsing.\n",
      "  dtarr = DatetimeArray._from_sequence_not_strict(\n",
      "C:\\Users\\Administrator\\anaconda3\\lib\\site-packages\\pandas\\core\\indexes\\datetimes.py:327: UserWarning: Parsing '13-01-2010' in DD/MM/YYYY format. Provide format or specify infer_datetime_format=True for consistent parsing.\n",
      "  dtarr = DatetimeArray._from_sequence_not_strict(\n",
      "C:\\Users\\Administrator\\anaconda3\\lib\\site-packages\\pandas\\core\\indexes\\datetimes.py:327: UserWarning: Parsing '21-02-2010' in DD/MM/YYYY format. Provide format or specify infer_datetime_format=True for consistent parsing.\n",
      "  dtarr = DatetimeArray._from_sequence_not_strict(\n",
      "C:\\Users\\Administrator\\anaconda3\\lib\\site-packages\\pandas\\core\\indexes\\datetimes.py:327: UserWarning: Parsing '24-02-2010' in DD/MM/YYYY format. Provide format or specify infer_datetime_format=True for consistent parsing.\n",
      "  dtarr = DatetimeArray._from_sequence_not_strict(\n",
      "C:\\Users\\Administrator\\anaconda3\\lib\\site-packages\\pandas\\core\\indexes\\datetimes.py:327: UserWarning: Parsing '27-02-2010' in DD/MM/YYYY format. Provide format or specify infer_datetime_format=True for consistent parsing.\n",
      "  dtarr = DatetimeArray._from_sequence_not_strict(\n",
      "C:\\Users\\Administrator\\anaconda3\\lib\\site-packages\\pandas\\core\\indexes\\datetimes.py:327: UserWarning: Parsing '16-06-2010' in DD/MM/YYYY format. Provide format or specify infer_datetime_format=True for consistent parsing.\n",
      "  dtarr = DatetimeArray._from_sequence_not_strict(\n",
      "C:\\Users\\Administrator\\anaconda3\\lib\\site-packages\\pandas\\core\\indexes\\datetimes.py:327: UserWarning: Parsing '19-06-2010' in DD/MM/YYYY format. Provide format or specify infer_datetime_format=True for consistent parsing.\n",
      "  dtarr = DatetimeArray._from_sequence_not_strict(\n",
      "C:\\Users\\Administrator\\anaconda3\\lib\\site-packages\\pandas\\core\\indexes\\datetimes.py:327: UserWarning: Parsing '22-06-2010' in DD/MM/YYYY format. Provide format or specify infer_datetime_format=True for consistent parsing.\n",
      "  dtarr = DatetimeArray._from_sequence_not_strict(\n",
      "C:\\Users\\Administrator\\anaconda3\\lib\\site-packages\\pandas\\core\\indexes\\datetimes.py:327: UserWarning: Parsing '24-06-2010' in DD/MM/YYYY format. Provide format or specify infer_datetime_format=True for consistent parsing.\n",
      "  dtarr = DatetimeArray._from_sequence_not_strict(\n",
      "C:\\Users\\Administrator\\anaconda3\\lib\\site-packages\\pandas\\core\\indexes\\datetimes.py:327: UserWarning: Parsing '16-08-2010' in DD/MM/YYYY format. Provide format or specify infer_datetime_format=True for consistent parsing.\n",
      "  dtarr = DatetimeArray._from_sequence_not_strict(\n",
      "C:\\Users\\Administrator\\anaconda3\\lib\\site-packages\\pandas\\core\\indexes\\datetimes.py:327: UserWarning: Parsing '22-08-2010' in DD/MM/YYYY format. Provide format or specify infer_datetime_format=True for consistent parsing.\n",
      "  dtarr = DatetimeArray._from_sequence_not_strict(\n",
      "C:\\Users\\Administrator\\anaconda3\\lib\\site-packages\\pandas\\core\\indexes\\datetimes.py:327: UserWarning: Parsing '25-08-2010' in DD/MM/YYYY format. Provide format or specify infer_datetime_format=True for consistent parsing.\n",
      "  dtarr = DatetimeArray._from_sequence_not_strict(\n",
      "C:\\Users\\Administrator\\anaconda3\\lib\\site-packages\\pandas\\core\\indexes\\datetimes.py:327: UserWarning: Parsing '28-08-2010' in DD/MM/YYYY format. Provide format or specify infer_datetime_format=True for consistent parsing.\n",
      "  dtarr = DatetimeArray._from_sequence_not_strict(\n",
      "C:\\Users\\Administrator\\anaconda3\\lib\\site-packages\\pandas\\core\\indexes\\datetimes.py:327: UserWarning: Parsing '20-10-2010' in DD/MM/YYYY format. Provide format or specify infer_datetime_format=True for consistent parsing.\n",
      "  dtarr = DatetimeArray._from_sequence_not_strict(\n",
      "C:\\Users\\Administrator\\anaconda3\\lib\\site-packages\\pandas\\core\\indexes\\datetimes.py:327: UserWarning: Parsing '15-01-2011' in DD/MM/YYYY format. Provide format or specify infer_datetime_format=True for consistent parsing.\n",
      "  dtarr = DatetimeArray._from_sequence_not_strict(\n",
      "C:\\Users\\Administrator\\anaconda3\\lib\\site-packages\\pandas\\core\\indexes\\datetimes.py:327: UserWarning: Parsing '18-01-2011' in DD/MM/YYYY format. Provide format or specify infer_datetime_format=True for consistent parsing.\n",
      "  dtarr = DatetimeArray._from_sequence_not_strict(\n",
      "C:\\Users\\Administrator\\anaconda3\\lib\\site-packages\\pandas\\core\\indexes\\datetimes.py:327: UserWarning: Parsing '21-01-2011' in DD/MM/YYYY format. Provide format or specify infer_datetime_format=True for consistent parsing.\n",
      "  dtarr = DatetimeArray._from_sequence_not_strict(\n",
      "C:\\Users\\Administrator\\anaconda3\\lib\\site-packages\\pandas\\core\\indexes\\datetimes.py:327: UserWarning: Parsing '23-01-2011' in DD/MM/YYYY format. Provide format or specify infer_datetime_format=True for consistent parsing.\n",
      "  dtarr = DatetimeArray._from_sequence_not_strict(\n",
      "C:\\Users\\Administrator\\anaconda3\\lib\\site-packages\\pandas\\core\\indexes\\datetimes.py:327: UserWarning: Parsing '27-02-2011' in DD/MM/YYYY format. Provide format or specify infer_datetime_format=True for consistent parsing.\n",
      "  dtarr = DatetimeArray._from_sequence_not_strict(\n",
      "C:\\Users\\Administrator\\anaconda3\\lib\\site-packages\\pandas\\core\\indexes\\datetimes.py:327: UserWarning: Parsing '20-03-2011' in DD/MM/YYYY format. Provide format or specify infer_datetime_format=True for consistent parsing.\n",
      "  dtarr = DatetimeArray._from_sequence_not_strict(\n",
      "C:\\Users\\Administrator\\anaconda3\\lib\\site-packages\\pandas\\core\\indexes\\datetimes.py:327: UserWarning: Parsing '24-03-2011' in DD/MM/YYYY format. Provide format or specify infer_datetime_format=True for consistent parsing.\n",
      "  dtarr = DatetimeArray._from_sequence_not_strict(\n",
      "C:\\Users\\Administrator\\anaconda3\\lib\\site-packages\\pandas\\core\\indexes\\datetimes.py:327: UserWarning: Parsing '30-03-2011' in DD/MM/YYYY format. Provide format or specify infer_datetime_format=True for consistent parsing.\n",
      "  dtarr = DatetimeArray._from_sequence_not_strict(\n",
      "C:\\Users\\Administrator\\anaconda3\\lib\\site-packages\\pandas\\core\\indexes\\datetimes.py:327: UserWarning: Parsing '16-09-2011' in DD/MM/YYYY format. Provide format or specify infer_datetime_format=True for consistent parsing.\n",
      "  dtarr = DatetimeArray._from_sequence_not_strict(\n",
      "C:\\Users\\Administrator\\anaconda3\\lib\\site-packages\\pandas\\core\\indexes\\datetimes.py:327: UserWarning: Parsing '14-10-2011' in DD/MM/YYYY format. Provide format or specify infer_datetime_format=True for consistent parsing.\n",
      "  dtarr = DatetimeArray._from_sequence_not_strict(\n",
      "C:\\Users\\Administrator\\anaconda3\\lib\\site-packages\\pandas\\core\\indexes\\datetimes.py:327: UserWarning: Parsing '20-10-2011' in DD/MM/YYYY format. Provide format or specify infer_datetime_format=True for consistent parsing.\n",
      "  dtarr = DatetimeArray._from_sequence_not_strict(\n",
      "C:\\Users\\Administrator\\anaconda3\\lib\\site-packages\\pandas\\core\\indexes\\datetimes.py:327: UserWarning: Parsing '23-10-2011' in DD/MM/YYYY format. Provide format or specify infer_datetime_format=True for consistent parsing.\n",
      "  dtarr = DatetimeArray._from_sequence_not_strict(\n",
      "C:\\Users\\Administrator\\anaconda3\\lib\\site-packages\\pandas\\core\\indexes\\datetimes.py:327: UserWarning: Parsing '25-10-2011' in DD/MM/YYYY format. Provide format or specify infer_datetime_format=True for consistent parsing.\n",
      "  dtarr = DatetimeArray._from_sequence_not_strict(\n",
      "C:\\Users\\Administrator\\anaconda3\\lib\\site-packages\\pandas\\core\\indexes\\datetimes.py:327: UserWarning: Parsing '14-02-2012' in DD/MM/YYYY format. Provide format or specify infer_datetime_format=True for consistent parsing.\n",
      "  dtarr = DatetimeArray._from_sequence_not_strict(\n",
      "C:\\Users\\Administrator\\anaconda3\\lib\\site-packages\\pandas\\core\\indexes\\datetimes.py:327: UserWarning: Parsing '19-02-2012' in DD/MM/YYYY format. Provide format or specify infer_datetime_format=True for consistent parsing.\n",
      "  dtarr = DatetimeArray._from_sequence_not_strict(\n",
      "C:\\Users\\Administrator\\anaconda3\\lib\\site-packages\\pandas\\core\\indexes\\datetimes.py:327: UserWarning: Parsing '26-02-2012' in DD/MM/YYYY format. Provide format or specify infer_datetime_format=True for consistent parsing.\n",
      "  dtarr = DatetimeArray._from_sequence_not_strict(\n",
      "C:\\Users\\Administrator\\anaconda3\\lib\\site-packages\\pandas\\core\\indexes\\datetimes.py:327: UserWarning: Parsing '13-03-2012' in DD/MM/YYYY format. Provide format or specify infer_datetime_format=True for consistent parsing.\n",
      "  dtarr = DatetimeArray._from_sequence_not_strict(\n",
      "C:\\Users\\Administrator\\anaconda3\\lib\\site-packages\\pandas\\core\\indexes\\datetimes.py:327: UserWarning: Parsing '16-03-2012' in DD/MM/YYYY format. Provide format or specify infer_datetime_format=True for consistent parsing.\n",
      "  dtarr = DatetimeArray._from_sequence_not_strict(\n",
      "C:\\Users\\Administrator\\anaconda3\\lib\\site-packages\\pandas\\core\\indexes\\datetimes.py:327: UserWarning: Parsing '18-03-2012' in DD/MM/YYYY format. Provide format or specify infer_datetime_format=True for consistent parsing.\n",
      "  dtarr = DatetimeArray._from_sequence_not_strict(\n",
      "C:\\Users\\Administrator\\anaconda3\\lib\\site-packages\\pandas\\core\\indexes\\datetimes.py:327: UserWarning: Parsing '21-07-2012' in DD/MM/YYYY format. Provide format or specify infer_datetime_format=True for consistent parsing.\n",
      "  dtarr = DatetimeArray._from_sequence_not_strict(\n",
      "C:\\Users\\Administrator\\anaconda3\\lib\\site-packages\\pandas\\core\\indexes\\datetimes.py:327: UserWarning: Parsing '24-07-2012' in DD/MM/YYYY format. Provide format or specify infer_datetime_format=True for consistent parsing.\n",
      "  dtarr = DatetimeArray._from_sequence_not_strict(\n",
      "C:\\Users\\Administrator\\anaconda3\\lib\\site-packages\\pandas\\core\\indexes\\datetimes.py:327: UserWarning: Parsing '28-07-2012' in DD/MM/YYYY format. Provide format or specify infer_datetime_format=True for consistent parsing.\n",
      "  dtarr = DatetimeArray._from_sequence_not_strict(\n",
      "C:\\Users\\Administrator\\anaconda3\\lib\\site-packages\\pandas\\core\\indexes\\datetimes.py:327: UserWarning: Parsing '30-12-2012' in DD/MM/YYYY format. Provide format or specify infer_datetime_format=True for consistent parsing.\n",
      "  dtarr = DatetimeArray._from_sequence_not_strict(\n",
      "C:\\Users\\Administrator\\anaconda3\\lib\\site-packages\\pandas\\core\\indexes\\datetimes.py:327: UserWarning: Parsing '15-01-2013' in DD/MM/YYYY format. Provide format or specify infer_datetime_format=True for consistent parsing.\n",
      "  dtarr = DatetimeArray._from_sequence_not_strict(\n",
      "C:\\Users\\Administrator\\anaconda3\\lib\\site-packages\\pandas\\core\\indexes\\datetimes.py:327: UserWarning: Parsing '19-01-2013' in DD/MM/YYYY format. Provide format or specify infer_datetime_format=True for consistent parsing.\n",
      "  dtarr = DatetimeArray._from_sequence_not_strict(\n",
      "C:\\Users\\Administrator\\anaconda3\\lib\\site-packages\\pandas\\core\\indexes\\datetimes.py:327: UserWarning: Parsing '23-01-2013' in DD/MM/YYYY format. Provide format or specify infer_datetime_format=True for consistent parsing.\n",
      "  dtarr = DatetimeArray._from_sequence_not_strict(\n",
      "C:\\Users\\Administrator\\anaconda3\\lib\\site-packages\\pandas\\core\\indexes\\datetimes.py:327: UserWarning: Parsing '27-01-2013' in DD/MM/YYYY format. Provide format or specify infer_datetime_format=True for consistent parsing.\n",
      "  dtarr = DatetimeArray._from_sequence_not_strict(\n",
      "C:\\Users\\Administrator\\anaconda3\\lib\\site-packages\\pandas\\core\\indexes\\datetimes.py:327: UserWarning: Parsing '23-06-2013' in DD/MM/YYYY format. Provide format or specify infer_datetime_format=True for consistent parsing.\n",
      "  dtarr = DatetimeArray._from_sequence_not_strict(\n",
      "C:\\Users\\Administrator\\anaconda3\\lib\\site-packages\\pandas\\core\\indexes\\datetimes.py:327: UserWarning: Parsing '30-06-2013' in DD/MM/YYYY format. Provide format or specify infer_datetime_format=True for consistent parsing.\n",
      "  dtarr = DatetimeArray._from_sequence_not_strict(\n",
      "C:\\Users\\Administrator\\anaconda3\\lib\\site-packages\\pandas\\core\\indexes\\datetimes.py:327: UserWarning: Parsing '13-10-2013' in DD/MM/YYYY format. Provide format or specify infer_datetime_format=True for consistent parsing.\n",
      "  dtarr = DatetimeArray._from_sequence_not_strict(\n",
      "C:\\Users\\Administrator\\anaconda3\\lib\\site-packages\\pandas\\core\\indexes\\datetimes.py:327: UserWarning: Parsing '19-10-2013' in DD/MM/YYYY format. Provide format or specify infer_datetime_format=True for consistent parsing.\n",
      "  dtarr = DatetimeArray._from_sequence_not_strict(\n",
      "C:\\Users\\Administrator\\anaconda3\\lib\\site-packages\\pandas\\core\\indexes\\datetimes.py:327: UserWarning: Parsing '30-10-2013' in DD/MM/YYYY format. Provide format or specify infer_datetime_format=True for consistent parsing.\n",
      "  dtarr = DatetimeArray._from_sequence_not_strict(\n",
      "C:\\Users\\Administrator\\anaconda3\\lib\\site-packages\\pandas\\core\\indexes\\datetimes.py:327: UserWarning: Parsing '21-11-2013' in DD/MM/YYYY format. Provide format or specify infer_datetime_format=True for consistent parsing.\n",
      "  dtarr = DatetimeArray._from_sequence_not_strict(\n",
      "C:\\Users\\Administrator\\anaconda3\\lib\\site-packages\\pandas\\core\\indexes\\datetimes.py:327: UserWarning: Parsing '24-11-2013' in DD/MM/YYYY format. Provide format or specify infer_datetime_format=True for consistent parsing.\n",
      "  dtarr = DatetimeArray._from_sequence_not_strict(\n",
      "C:\\Users\\Administrator\\anaconda3\\lib\\site-packages\\pandas\\core\\indexes\\datetimes.py:327: UserWarning: Parsing '27-11-2013' in DD/MM/YYYY format. Provide format or specify infer_datetime_format=True for consistent parsing.\n",
      "  dtarr = DatetimeArray._from_sequence_not_strict(\n",
      "C:\\Users\\Administrator\\anaconda3\\lib\\site-packages\\pandas\\core\\indexes\\datetimes.py:327: UserWarning: Parsing '19-01-2014' in DD/MM/YYYY format. Provide format or specify infer_datetime_format=True for consistent parsing.\n",
      "  dtarr = DatetimeArray._from_sequence_not_strict(\n",
      "C:\\Users\\Administrator\\anaconda3\\lib\\site-packages\\pandas\\core\\indexes\\datetimes.py:327: UserWarning: Parsing '22-01-2014' in DD/MM/YYYY format. Provide format or specify infer_datetime_format=True for consistent parsing.\n",
      "  dtarr = DatetimeArray._from_sequence_not_strict(\n",
      "C:\\Users\\Administrator\\anaconda3\\lib\\site-packages\\pandas\\core\\indexes\\datetimes.py:327: UserWarning: Parsing '25-01-2014' in DD/MM/YYYY format. Provide format or specify infer_datetime_format=True for consistent parsing.\n",
      "  dtarr = DatetimeArray._from_sequence_not_strict(\n",
      "C:\\Users\\Administrator\\anaconda3\\lib\\site-packages\\pandas\\core\\indexes\\datetimes.py:327: UserWarning: Parsing '28-01-2014' in DD/MM/YYYY format. Provide format or specify infer_datetime_format=True for consistent parsing.\n",
      "  dtarr = DatetimeArray._from_sequence_not_strict(\n",
      "C:\\Users\\Administrator\\anaconda3\\lib\\site-packages\\pandas\\core\\indexes\\datetimes.py:327: UserWarning: Parsing '31-01-2014' in DD/MM/YYYY format. Provide format or specify infer_datetime_format=True for consistent parsing.\n",
      "  dtarr = DatetimeArray._from_sequence_not_strict(\n",
      "C:\\Users\\Administrator\\anaconda3\\lib\\site-packages\\pandas\\core\\indexes\\datetimes.py:327: UserWarning: Parsing '27-08-2014' in DD/MM/YYYY format. Provide format or specify infer_datetime_format=True for consistent parsing.\n",
      "  dtarr = DatetimeArray._from_sequence_not_strict(\n",
      "C:\\Users\\Administrator\\anaconda3\\lib\\site-packages\\pandas\\core\\indexes\\datetimes.py:327: UserWarning: Parsing '17-10-2014' in DD/MM/YYYY format. Provide format or specify infer_datetime_format=True for consistent parsing.\n",
      "  dtarr = DatetimeArray._from_sequence_not_strict(\n",
      "C:\\Users\\Administrator\\anaconda3\\lib\\site-packages\\pandas\\core\\indexes\\datetimes.py:327: UserWarning: Parsing '18-01-2015' in DD/MM/YYYY format. Provide format or specify infer_datetime_format=True for consistent parsing.\n",
      "  dtarr = DatetimeArray._from_sequence_not_strict(\n",
      "C:\\Users\\Administrator\\anaconda3\\lib\\site-packages\\pandas\\core\\indexes\\datetimes.py:327: UserWarning: Parsing '20-01-2015' in DD/MM/YYYY format. Provide format or specify infer_datetime_format=True for consistent parsing.\n",
      "  dtarr = DatetimeArray._from_sequence_not_strict(\n",
      "C:\\Users\\Administrator\\anaconda3\\lib\\site-packages\\pandas\\core\\indexes\\datetimes.py:327: UserWarning: Parsing '30-01-2015' in DD/MM/YYYY format. Provide format or specify infer_datetime_format=True for consistent parsing.\n",
      "  dtarr = DatetimeArray._from_sequence_not_strict(\n",
      "C:\\Users\\Administrator\\anaconda3\\lib\\site-packages\\pandas\\core\\indexes\\datetimes.py:327: UserWarning: Parsing '15-02-2015' in DD/MM/YYYY format. Provide format or specify infer_datetime_format=True for consistent parsing.\n",
      "  dtarr = DatetimeArray._from_sequence_not_strict(\n",
      "C:\\Users\\Administrator\\anaconda3\\lib\\site-packages\\pandas\\core\\indexes\\datetimes.py:327: UserWarning: Parsing '22-02-2015' in DD/MM/YYYY format. Provide format or specify infer_datetime_format=True for consistent parsing.\n",
      "  dtarr = DatetimeArray._from_sequence_not_strict(\n",
      "C:\\Users\\Administrator\\anaconda3\\lib\\site-packages\\pandas\\core\\indexes\\datetimes.py:327: UserWarning: Parsing '14-03-2015' in DD/MM/YYYY format. Provide format or specify infer_datetime_format=True for consistent parsing.\n",
      "  dtarr = DatetimeArray._from_sequence_not_strict(\n",
      "C:\\Users\\Administrator\\anaconda3\\lib\\site-packages\\pandas\\core\\indexes\\datetimes.py:327: UserWarning: Parsing '19-03-2015' in DD/MM/YYYY format. Provide format or specify infer_datetime_format=True for consistent parsing.\n",
      "  dtarr = DatetimeArray._from_sequence_not_strict(\n",
      "C:\\Users\\Administrator\\anaconda3\\lib\\site-packages\\pandas\\core\\indexes\\datetimes.py:327: UserWarning: Parsing '26-03-2015' in DD/MM/YYYY format. Provide format or specify infer_datetime_format=True for consistent parsing.\n",
      "  dtarr = DatetimeArray._from_sequence_not_strict(\n",
      "C:\\Users\\Administrator\\anaconda3\\lib\\site-packages\\pandas\\core\\indexes\\datetimes.py:327: UserWarning: Parsing '18-06-2015' in DD/MM/YYYY format. Provide format or specify infer_datetime_format=True for consistent parsing.\n",
      "  dtarr = DatetimeArray._from_sequence_not_strict(\n",
      "C:\\Users\\Administrator\\anaconda3\\lib\\site-packages\\pandas\\core\\indexes\\datetimes.py:327: UserWarning: Parsing '21-06-2015' in DD/MM/YYYY format. Provide format or specify infer_datetime_format=True for consistent parsing.\n",
      "  dtarr = DatetimeArray._from_sequence_not_strict(\n",
      "C:\\Users\\Administrator\\anaconda3\\lib\\site-packages\\pandas\\core\\indexes\\datetimes.py:327: UserWarning: Parsing '24-06-2015' in DD/MM/YYYY format. Provide format or specify infer_datetime_format=True for consistent parsing.\n",
      "  dtarr = DatetimeArray._from_sequence_not_strict(\n",
      "C:\\Users\\Administrator\\anaconda3\\lib\\site-packages\\pandas\\core\\indexes\\datetimes.py:327: UserWarning: Parsing '14-10-2015' in DD/MM/YYYY format. Provide format or specify infer_datetime_format=True for consistent parsing.\n",
      "  dtarr = DatetimeArray._from_sequence_not_strict(\n",
      "C:\\Users\\Administrator\\anaconda3\\lib\\site-packages\\pandas\\core\\indexes\\datetimes.py:327: UserWarning: Parsing '18-10-2015' in DD/MM/YYYY format. Provide format or specify infer_datetime_format=True for consistent parsing.\n",
      "  dtarr = DatetimeArray._from_sequence_not_strict(\n",
      "C:\\Users\\Administrator\\anaconda3\\lib\\site-packages\\pandas\\core\\indexes\\datetimes.py:327: UserWarning: Parsing '22-10-2015' in DD/MM/YYYY format. Provide format or specify infer_datetime_format=True for consistent parsing.\n",
      "  dtarr = DatetimeArray._from_sequence_not_strict(\n",
      "C:\\Users\\Administrator\\anaconda3\\lib\\site-packages\\pandas\\core\\indexes\\datetimes.py:327: UserWarning: Parsing '25-10-2015' in DD/MM/YYYY format. Provide format or specify infer_datetime_format=True for consistent parsing.\n",
      "  dtarr = DatetimeArray._from_sequence_not_strict(\n",
      "C:\\Users\\Administrator\\anaconda3\\lib\\site-packages\\pandas\\core\\indexes\\datetimes.py:327: UserWarning: Parsing '15-01-2016' in DD/MM/YYYY format. Provide format or specify infer_datetime_format=True for consistent parsing.\n",
      "  dtarr = DatetimeArray._from_sequence_not_strict(\n",
      "C:\\Users\\Administrator\\anaconda3\\lib\\site-packages\\pandas\\core\\indexes\\datetimes.py:327: UserWarning: Parsing '17-01-2016' in DD/MM/YYYY format. Provide format or specify infer_datetime_format=True for consistent parsing.\n",
      "  dtarr = DatetimeArray._from_sequence_not_strict(\n",
      "C:\\Users\\Administrator\\anaconda3\\lib\\site-packages\\pandas\\core\\indexes\\datetimes.py:327: UserWarning: Parsing '20-01-2016' in DD/MM/YYYY format. Provide format or specify infer_datetime_format=True for consistent parsing.\n",
      "  dtarr = DatetimeArray._from_sequence_not_strict(\n",
      "C:\\Users\\Administrator\\anaconda3\\lib\\site-packages\\pandas\\core\\indexes\\datetimes.py:327: UserWarning: Parsing '23-01-2016' in DD/MM/YYYY format. Provide format or specify infer_datetime_format=True for consistent parsing.\n",
      "  dtarr = DatetimeArray._from_sequence_not_strict(\n",
      "C:\\Users\\Administrator\\anaconda3\\lib\\site-packages\\pandas\\core\\indexes\\datetimes.py:327: UserWarning: Parsing '16-10-2016' in DD/MM/YYYY format. Provide format or specify infer_datetime_format=True for consistent parsing.\n",
      "  dtarr = DatetimeArray._from_sequence_not_strict(\n",
      "C:\\Users\\Administrator\\anaconda3\\lib\\site-packages\\pandas\\core\\indexes\\datetimes.py:327: UserWarning: Parsing '20-10-2016' in DD/MM/YYYY format. Provide format or specify infer_datetime_format=True for consistent parsing.\n",
      "  dtarr = DatetimeArray._from_sequence_not_strict(\n",
      "C:\\Users\\Administrator\\anaconda3\\lib\\site-packages\\pandas\\core\\indexes\\datetimes.py:327: UserWarning: Parsing '23-10-2016' in DD/MM/YYYY format. Provide format or specify infer_datetime_format=True for consistent parsing.\n",
      "  dtarr = DatetimeArray._from_sequence_not_strict(\n",
      "C:\\Users\\Administrator\\anaconda3\\lib\\site-packages\\pandas\\core\\indexes\\datetimes.py:327: UserWarning: Parsing '26-10-2016' in DD/MM/YYYY format. Provide format or specify infer_datetime_format=True for consistent parsing.\n",
      "  dtarr = DatetimeArray._from_sequence_not_strict(\n",
      "C:\\Users\\Administrator\\anaconda3\\lib\\site-packages\\pandas\\core\\indexes\\datetimes.py:327: UserWarning: Parsing '29-10-2016' in DD/MM/YYYY format. Provide format or specify infer_datetime_format=True for consistent parsing.\n",
      "  dtarr = DatetimeArray._from_sequence_not_strict(\n",
      "C:\\Users\\Administrator\\anaconda3\\lib\\site-packages\\pandas\\core\\indexes\\datetimes.py:327: UserWarning: Parsing '15-01-2017' in DD/MM/YYYY format. Provide format or specify infer_datetime_format=True for consistent parsing.\n",
      "  dtarr = DatetimeArray._from_sequence_not_strict(\n",
      "C:\\Users\\Administrator\\anaconda3\\lib\\site-packages\\pandas\\core\\indexes\\datetimes.py:327: UserWarning: Parsing '19-01-2017' in DD/MM/YYYY format. Provide format or specify infer_datetime_format=True for consistent parsing.\n",
      "  dtarr = DatetimeArray._from_sequence_not_strict(\n",
      "C:\\Users\\Administrator\\anaconda3\\lib\\site-packages\\pandas\\core\\indexes\\datetimes.py:327: UserWarning: Parsing '22-01-2017' in DD/MM/YYYY format. Provide format or specify infer_datetime_format=True for consistent parsing.\n",
      "  dtarr = DatetimeArray._from_sequence_not_strict(\n",
      "C:\\Users\\Administrator\\anaconda3\\lib\\site-packages\\pandas\\core\\indexes\\datetimes.py:327: UserWarning: Parsing '18-06-2017' in DD/MM/YYYY format. Provide format or specify infer_datetime_format=True for consistent parsing.\n",
      "  dtarr = DatetimeArray._from_sequence_not_strict(\n",
      "C:\\Users\\Administrator\\anaconda3\\lib\\site-packages\\pandas\\core\\indexes\\datetimes.py:327: UserWarning: Parsing '23-06-2017' in DD/MM/YYYY format. Provide format or specify infer_datetime_format=True for consistent parsing.\n",
      "  dtarr = DatetimeArray._from_sequence_not_strict(\n",
      "C:\\Users\\Administrator\\anaconda3\\lib\\site-packages\\pandas\\core\\indexes\\datetimes.py:327: UserWarning: Parsing '25-06-2017' in DD/MM/YYYY format. Provide format or specify infer_datetime_format=True for consistent parsing.\n",
      "  dtarr = DatetimeArray._from_sequence_not_strict(\n",
      "C:\\Users\\Administrator\\anaconda3\\lib\\site-packages\\pandas\\core\\indexes\\datetimes.py:327: UserWarning: Parsing '30-06-2017' in DD/MM/YYYY format. Provide format or specify infer_datetime_format=True for consistent parsing.\n",
      "  dtarr = DatetimeArray._from_sequence_not_strict(\n",
      "C:\\Users\\Administrator\\anaconda3\\lib\\site-packages\\pandas\\core\\indexes\\datetimes.py:327: UserWarning: Parsing '24-08-2017' in DD/MM/YYYY format. Provide format or specify infer_datetime_format=True for consistent parsing.\n",
      "  dtarr = DatetimeArray._from_sequence_not_strict(\n",
      "C:\\Users\\Administrator\\anaconda3\\lib\\site-packages\\pandas\\core\\indexes\\datetimes.py:327: UserWarning: Parsing '27-08-2017' in DD/MM/YYYY format. Provide format or specify infer_datetime_format=True for consistent parsing.\n",
      "  dtarr = DatetimeArray._from_sequence_not_strict(\n",
      "C:\\Users\\Administrator\\anaconda3\\lib\\site-packages\\pandas\\core\\indexes\\datetimes.py:327: UserWarning: Parsing '31-08-2017' in DD/MM/YYYY format. Provide format or specify infer_datetime_format=True for consistent parsing.\n",
      "  dtarr = DatetimeArray._from_sequence_not_strict(\n",
      "C:\\Users\\Administrator\\anaconda3\\lib\\site-packages\\pandas\\core\\indexes\\datetimes.py:327: UserWarning: Parsing '17-09-2017' in DD/MM/YYYY format. Provide format or specify infer_datetime_format=True for consistent parsing.\n",
      "  dtarr = DatetimeArray._from_sequence_not_strict(\n",
      "C:\\Users\\Administrator\\anaconda3\\lib\\site-packages\\pandas\\core\\indexes\\datetimes.py:327: UserWarning: Parsing '21-09-2017' in DD/MM/YYYY format. Provide format or specify infer_datetime_format=True for consistent parsing.\n",
      "  dtarr = DatetimeArray._from_sequence_not_strict(\n",
      "C:\\Users\\Administrator\\anaconda3\\lib\\site-packages\\pandas\\core\\indexes\\datetimes.py:327: UserWarning: Parsing '24-09-2017' in DD/MM/YYYY format. Provide format or specify infer_datetime_format=True for consistent parsing.\n",
      "  dtarr = DatetimeArray._from_sequence_not_strict(\n",
      "C:\\Users\\Administrator\\anaconda3\\lib\\site-packages\\pandas\\core\\indexes\\datetimes.py:327: UserWarning: Parsing '28-09-2017' in DD/MM/YYYY format. Provide format or specify infer_datetime_format=True for consistent parsing.\n",
      "  dtarr = DatetimeArray._from_sequence_not_strict(\n",
      "C:\\Users\\Administrator\\anaconda3\\lib\\site-packages\\pandas\\core\\indexes\\datetimes.py:327: UserWarning: Parsing '22-10-2017' in DD/MM/YYYY format. Provide format or specify infer_datetime_format=True for consistent parsing.\n",
      "  dtarr = DatetimeArray._from_sequence_not_strict(\n",
      "C:\\Users\\Administrator\\anaconda3\\lib\\site-packages\\pandas\\core\\indexes\\datetimes.py:327: UserWarning: Parsing '25-10-2017' in DD/MM/YYYY format. Provide format or specify infer_datetime_format=True for consistent parsing.\n",
      "  dtarr = DatetimeArray._from_sequence_not_strict(\n",
      "C:\\Users\\Administrator\\anaconda3\\lib\\site-packages\\pandas\\core\\indexes\\datetimes.py:327: UserWarning: Parsing '29-10-2017' in DD/MM/YYYY format. Provide format or specify infer_datetime_format=True for consistent parsing.\n",
      "  dtarr = DatetimeArray._from_sequence_not_strict(\n",
      "C:\\Users\\Administrator\\anaconda3\\lib\\site-packages\\pandas\\core\\indexes\\datetimes.py:327: UserWarning: Parsing '13-12-2017' in DD/MM/YYYY format. Provide format or specify infer_datetime_format=True for consistent parsing.\n",
      "  dtarr = DatetimeArray._from_sequence_not_strict(\n",
      "C:\\Users\\Administrator\\anaconda3\\lib\\site-packages\\pandas\\core\\indexes\\datetimes.py:327: UserWarning: Parsing '13-02-2018' in DD/MM/YYYY format. Provide format or specify infer_datetime_format=True for consistent parsing.\n",
      "  dtarr = DatetimeArray._from_sequence_not_strict(\n",
      "C:\\Users\\Administrator\\anaconda3\\lib\\site-packages\\pandas\\core\\indexes\\datetimes.py:327: UserWarning: Parsing '14-07-2018' in DD/MM/YYYY format. Provide format or specify infer_datetime_format=True for consistent parsing.\n",
      "  dtarr = DatetimeArray._from_sequence_not_strict(\n",
      "C:\\Users\\Administrator\\anaconda3\\lib\\site-packages\\pandas\\core\\indexes\\datetimes.py:327: UserWarning: Parsing '17-07-2018' in DD/MM/YYYY format. Provide format or specify infer_datetime_format=True for consistent parsing.\n",
      "  dtarr = DatetimeArray._from_sequence_not_strict(\n",
      "C:\\Users\\Administrator\\anaconda3\\lib\\site-packages\\pandas\\core\\indexes\\datetimes.py:327: UserWarning: Parsing '18-09-2018' in DD/MM/YYYY format. Provide format or specify infer_datetime_format=True for consistent parsing.\n",
      "  dtarr = DatetimeArray._from_sequence_not_strict(\n",
      "C:\\Users\\Administrator\\anaconda3\\lib\\site-packages\\pandas\\core\\indexes\\datetimes.py:327: UserWarning: Parsing '21-09-2018' in DD/MM/YYYY format. Provide format or specify infer_datetime_format=True for consistent parsing.\n",
      "  dtarr = DatetimeArray._from_sequence_not_strict(\n",
      "C:\\Users\\Administrator\\anaconda3\\lib\\site-packages\\pandas\\core\\indexes\\datetimes.py:327: UserWarning: Parsing '25-09-2018' in DD/MM/YYYY format. Provide format or specify infer_datetime_format=True for consistent parsing.\n",
      "  dtarr = DatetimeArray._from_sequence_not_strict(\n",
      "C:\\Users\\Administrator\\anaconda3\\lib\\site-packages\\pandas\\core\\indexes\\datetimes.py:327: UserWarning: Parsing '28-09-2018' in DD/MM/YYYY format. Provide format or specify infer_datetime_format=True for consistent parsing.\n",
      "  dtarr = DatetimeArray._from_sequence_not_strict(\n",
      "C:\\Users\\Administrator\\anaconda3\\lib\\site-packages\\pandas\\core\\indexes\\datetimes.py:327: UserWarning: Parsing '24-10-2018' in DD/MM/YYYY format. Provide format or specify infer_datetime_format=True for consistent parsing.\n",
      "  dtarr = DatetimeArray._from_sequence_not_strict(\n",
      "C:\\Users\\Administrator\\anaconda3\\lib\\site-packages\\pandas\\core\\indexes\\datetimes.py:327: UserWarning: Parsing '27-10-2018' in DD/MM/YYYY format. Provide format or specify infer_datetime_format=True for consistent parsing.\n",
      "  dtarr = DatetimeArray._from_sequence_not_strict(\n",
      "C:\\Users\\Administrator\\anaconda3\\lib\\site-packages\\pandas\\core\\indexes\\datetimes.py:327: UserWarning: Parsing '29-10-2018' in DD/MM/YYYY format. Provide format or specify infer_datetime_format=True for consistent parsing.\n",
      "  dtarr = DatetimeArray._from_sequence_not_strict(\n",
      "C:\\Users\\Administrator\\anaconda3\\lib\\site-packages\\pandas\\core\\indexes\\datetimes.py:327: UserWarning: Parsing '15-01-2019' in DD/MM/YYYY format. Provide format or specify infer_datetime_format=True for consistent parsing.\n",
      "  dtarr = DatetimeArray._from_sequence_not_strict(\n",
      "C:\\Users\\Administrator\\anaconda3\\lib\\site-packages\\pandas\\core\\indexes\\datetimes.py:327: UserWarning: Parsing '18-01-2019' in DD/MM/YYYY format. Provide format or specify infer_datetime_format=True for consistent parsing.\n",
      "  dtarr = DatetimeArray._from_sequence_not_strict(\n",
      "C:\\Users\\Administrator\\anaconda3\\lib\\site-packages\\pandas\\core\\indexes\\datetimes.py:327: UserWarning: Parsing '26-01-2019' in DD/MM/YYYY format. Provide format or specify infer_datetime_format=True for consistent parsing.\n",
      "  dtarr = DatetimeArray._from_sequence_not_strict(\n",
      "C:\\Users\\Administrator\\anaconda3\\lib\\site-packages\\pandas\\core\\indexes\\datetimes.py:327: UserWarning: Parsing '16-06-2019' in DD/MM/YYYY format. Provide format or specify infer_datetime_format=True for consistent parsing.\n",
      "  dtarr = DatetimeArray._from_sequence_not_strict(\n",
      "C:\\Users\\Administrator\\anaconda3\\lib\\site-packages\\pandas\\core\\indexes\\datetimes.py:327: UserWarning: Parsing '22-06-2019' in DD/MM/YYYY format. Provide format or specify infer_datetime_format=True for consistent parsing.\n",
      "  dtarr = DatetimeArray._from_sequence_not_strict(\n",
      "C:\\Users\\Administrator\\anaconda3\\lib\\site-packages\\pandas\\core\\indexes\\datetimes.py:327: UserWarning: Parsing '27-06-2019' in DD/MM/YYYY format. Provide format or specify infer_datetime_format=True for consistent parsing.\n",
      "  dtarr = DatetimeArray._from_sequence_not_strict(\n",
      "C:\\Users\\Administrator\\anaconda3\\lib\\site-packages\\pandas\\core\\indexes\\datetimes.py:327: UserWarning: Parsing '30-06-2019' in DD/MM/YYYY format. Provide format or specify infer_datetime_format=True for consistent parsing.\n",
      "  dtarr = DatetimeArray._from_sequence_not_strict(\n",
      "C:\\Users\\Administrator\\AppData\\Local\\Temp\\ipykernel_18272\\2355209761.py:1: SettingWithCopyWarning: \n",
      "A value is trying to be set on a copy of a slice from a DataFrame.\n",
      "Try using .loc[row_indexer,col_indexer] = value instead\n",
      "\n",
      "See the caveats in the documentation: https://pandas.pydata.org/pandas-docs/stable/user_guide/indexing.html#returning-a-view-versus-a-copy\n",
      "  dhoni_data['new_date']=pd.DatetimeIndex(dhoni_data['date']).year\n"
     ]
    }
   ],
   "source": [
    "dhoni_data['new_date']=pd.DatetimeIndex(dhoni_data['date']).year\n"
   ]
  },
  {
   "cell_type": "code",
   "execution_count": 22,
   "id": "abedb173",
   "metadata": {},
   "outputs": [
    {
     "data": {
      "text/plain": [
       "0      2004\n",
       "1      2004\n",
       "2      2004\n",
       "3      2005\n",
       "4      2005\n",
       "       ... \n",
       "344    2019\n",
       "345    2019\n",
       "346    2019\n",
       "347    2019\n",
       "349    2019\n",
       "Name: new_date, Length: 297, dtype: int64"
      ]
     },
     "execution_count": 22,
     "metadata": {},
     "output_type": "execute_result"
    }
   ],
   "source": [
    "dhoni_data['new_date']"
   ]
  },
  {
   "cell_type": "code",
   "execution_count": 23,
   "id": "3a279216",
   "metadata": {},
   "outputs": [
    {
     "name": "stdout",
     "output_type": "stream",
     "text": [
      "<class 'pandas.core.frame.DataFrame'>\n",
      "Int64Index: 297 entries, 0 to 349\n",
      "Data columns (total 11 columns):\n",
      " #   Column       Non-Null Count  Dtype \n",
      "---  ------       --------------  ----- \n",
      " 0   score        297 non-null    object\n",
      " 1   runs_scored  297 non-null    object\n",
      " 2   balls_faced  297 non-null    object\n",
      " 3   strike_rate  297 non-null    object\n",
      " 4   fours        297 non-null    object\n",
      " 5   sixes        297 non-null    object\n",
      " 6   opposition   297 non-null    object\n",
      " 7   ground       297 non-null    object\n",
      " 8   date         297 non-null    object\n",
      " 9   not_out      297 non-null    int32 \n",
      " 10  new_date     297 non-null    int64 \n",
      "dtypes: int32(1), int64(1), object(9)\n",
      "memory usage: 26.7+ KB\n"
     ]
    }
   ],
   "source": [
    "dhoni_data.info()"
   ]
  },
  {
   "cell_type": "code",
   "execution_count": 24,
   "id": "48faf4c5",
   "metadata": {},
   "outputs": [
    {
     "name": "stderr",
     "output_type": "stream",
     "text": [
      "C:\\Users\\Administrator\\AppData\\Local\\Temp\\ipykernel_18272\\3109314057.py:1: SettingWithCopyWarning: \n",
      "A value is trying to be set on a copy of a slice from a DataFrame.\n",
      "Try using .loc[row_indexer,col_indexer] = value instead\n",
      "\n",
      "See the caveats in the documentation: https://pandas.pydata.org/pandas-docs/stable/user_guide/indexing.html#returning-a-view-versus-a-copy\n",
      "  dhoni_data['runs_scored']=dhoni_data['runs_scored'].astype('int')\n",
      "C:\\Users\\Administrator\\AppData\\Local\\Temp\\ipykernel_18272\\3109314057.py:2: SettingWithCopyWarning: \n",
      "A value is trying to be set on a copy of a slice from a DataFrame.\n",
      "Try using .loc[row_indexer,col_indexer] = value instead\n",
      "\n",
      "See the caveats in the documentation: https://pandas.pydata.org/pandas-docs/stable/user_guide/indexing.html#returning-a-view-versus-a-copy\n",
      "  dhoni_data['balls_faced']=dhoni_data['balls_faced'].astype('int')\n",
      "C:\\Users\\Administrator\\AppData\\Local\\Temp\\ipykernel_18272\\3109314057.py:3: SettingWithCopyWarning: \n",
      "A value is trying to be set on a copy of a slice from a DataFrame.\n",
      "Try using .loc[row_indexer,col_indexer] = value instead\n",
      "\n",
      "See the caveats in the documentation: https://pandas.pydata.org/pandas-docs/stable/user_guide/indexing.html#returning-a-view-versus-a-copy\n",
      "  dhoni_data['strike_rate']=dhoni_data['strike_rate'].astype('float')\n",
      "C:\\Users\\Administrator\\AppData\\Local\\Temp\\ipykernel_18272\\3109314057.py:4: SettingWithCopyWarning: \n",
      "A value is trying to be set on a copy of a slice from a DataFrame.\n",
      "Try using .loc[row_indexer,col_indexer] = value instead\n",
      "\n",
      "See the caveats in the documentation: https://pandas.pydata.org/pandas-docs/stable/user_guide/indexing.html#returning-a-view-versus-a-copy\n",
      "  dhoni_data['fours']=dhoni_data['fours'].astype('int')\n",
      "C:\\Users\\Administrator\\AppData\\Local\\Temp\\ipykernel_18272\\3109314057.py:5: SettingWithCopyWarning: \n",
      "A value is trying to be set on a copy of a slice from a DataFrame.\n",
      "Try using .loc[row_indexer,col_indexer] = value instead\n",
      "\n",
      "See the caveats in the documentation: https://pandas.pydata.org/pandas-docs/stable/user_guide/indexing.html#returning-a-view-versus-a-copy\n",
      "  dhoni_data['sixes']=dhoni_data['sixes'].astype('int')\n"
     ]
    }
   ],
   "source": [
    "dhoni_data['runs_scored']=dhoni_data['runs_scored'].astype('int')\n",
    "dhoni_data['balls_faced']=dhoni_data['balls_faced'].astype('int')\n",
    "dhoni_data['strike_rate']=dhoni_data['strike_rate'].astype('float')\n",
    "dhoni_data['fours']=dhoni_data['fours'].astype('int')\n",
    "dhoni_data['sixes']=dhoni_data['sixes'].astype('int')"
   ]
  },
  {
   "cell_type": "code",
   "execution_count": 25,
   "id": "e7c883fb",
   "metadata": {},
   "outputs": [
    {
     "name": "stdout",
     "output_type": "stream",
     "text": [
      "<class 'pandas.core.frame.DataFrame'>\n",
      "Int64Index: 297 entries, 0 to 349\n",
      "Data columns (total 11 columns):\n",
      " #   Column       Non-Null Count  Dtype  \n",
      "---  ------       --------------  -----  \n",
      " 0   score        297 non-null    object \n",
      " 1   runs_scored  297 non-null    int32  \n",
      " 2   balls_faced  297 non-null    int32  \n",
      " 3   strike_rate  297 non-null    float64\n",
      " 4   fours        297 non-null    int32  \n",
      " 5   sixes        297 non-null    int32  \n",
      " 6   opposition   297 non-null    object \n",
      " 7   ground       297 non-null    object \n",
      " 8   date         297 non-null    object \n",
      " 9   not_out      297 non-null    int32  \n",
      " 10  new_date     297 non-null    int64  \n",
      "dtypes: float64(1), int32(5), int64(1), object(4)\n",
      "memory usage: 22.0+ KB\n"
     ]
    }
   ],
   "source": [
    "dhoni_data.info()"
   ]
  },
  {
   "cell_type": "markdown",
   "id": "e78cd631",
   "metadata": {},
   "source": [
    "# Descriptive statstics"
   ]
  },
  {
   "cell_type": "markdown",
   "id": "e54a7a99",
   "metadata": {},
   "source": [
    "No.of matches played in a career"
   ]
  },
  {
   "cell_type": "code",
   "execution_count": 26,
   "id": "70a7ada6",
   "metadata": {},
   "outputs": [
    {
     "data": {
      "text/plain": [
       "(297, 11)"
      ]
     },
     "execution_count": 26,
     "metadata": {},
     "output_type": "execute_result"
    }
   ],
   "source": [
    "dhoni_data.shape"
   ]
  },
  {
   "cell_type": "code",
   "execution_count": 27,
   "id": "197055d4",
   "metadata": {},
   "outputs": [
    {
     "name": "stdout",
     "output_type": "stream",
     "text": [
      "Total no.of matches played in career 297\n"
     ]
    }
   ],
   "source": [
    "print(\"Total no.of matches played in career\",dhoni_data.shape[0])"
   ]
  },
  {
   "cell_type": "markdown",
   "id": "ed88d520",
   "metadata": {},
   "source": [
    "Highest score in a career"
   ]
  },
  {
   "cell_type": "code",
   "execution_count": 28,
   "id": "5a492261",
   "metadata": {},
   "outputs": [
    {
     "name": "stdout",
     "output_type": "stream",
     "text": [
      "Highest score in a career 183\n"
     ]
    }
   ],
   "source": [
    "print(\"Highest score in a career\",dhoni_data['runs_scored'].max())"
   ]
  },
  {
   "cell_type": "markdown",
   "id": "c3c65677",
   "metadata": {},
   "source": [
    "Strike rate in a career"
   ]
  },
  {
   "cell_type": "code",
   "execution_count": 29,
   "id": "7406b98d",
   "metadata": {},
   "outputs": [
    {
     "name": "stdout",
     "output_type": "stream",
     "text": [
      "Strike rate in career 87.93996632996635\n"
     ]
    }
   ],
   "source": [
    "print(\"Strike rate in career\",dhoni_data['strike_rate'].mean())"
   ]
  },
  {
   "cell_type": "code",
   "execution_count": 30,
   "id": "c3f0541a",
   "metadata": {},
   "outputs": [
    {
     "name": "stdout",
     "output_type": "stream",
     "text": [
      "Strike rate in career 87.94\n"
     ]
    }
   ],
   "source": [
    "print(\"Strike rate in career %.2f\" %(dhoni_data['strike_rate'].mean()))"
   ]
  },
  {
   "cell_type": "markdown",
   "id": "efef561b",
   "metadata": {},
   "source": [
    "No. of 4’s"
   ]
  },
  {
   "cell_type": "code",
   "execution_count": 31,
   "id": "4884be69",
   "metadata": {},
   "outputs": [
    {
     "name": "stdout",
     "output_type": "stream",
     "text": [
      "Total no of fours 826\n"
     ]
    }
   ],
   "source": [
    "print(\"Total no of fours\",dhoni_data['fours'].sum())"
   ]
  },
  {
   "cell_type": "markdown",
   "id": "b55ee9f2",
   "metadata": {},
   "source": [
    "No. of 6’s"
   ]
  },
  {
   "cell_type": "code",
   "execution_count": 32,
   "id": "cb76d63f",
   "metadata": {},
   "outputs": [
    {
     "name": "stdout",
     "output_type": "stream",
     "text": [
      "Total no of sixes 229\n"
     ]
    }
   ],
   "source": [
    "print(\"Total no of sixes\",dhoni_data['sixes'].sum())"
   ]
  },
  {
   "cell_type": "markdown",
   "id": "7f3521e1",
   "metadata": {},
   "source": [
    "No. of 50’s"
   ]
  },
  {
   "cell_type": "code",
   "execution_count": 33,
   "id": "7e5717c5",
   "metadata": {},
   "outputs": [
    {
     "data": {
      "text/plain": [
       "0        0\n",
       "1       12\n",
       "2        7\n",
       "3        3\n",
       "4      148\n",
       "      ... \n",
       "344     28\n",
       "345     56\n",
       "346     42\n",
       "347     35\n",
       "349     50\n",
       "Name: runs_scored, Length: 297, dtype: int32"
      ]
     },
     "execution_count": 33,
     "metadata": {},
     "output_type": "execute_result"
    }
   ],
   "source": [
    "dhoni_data['runs_scored']"
   ]
  },
  {
   "cell_type": "code",
   "execution_count": 34,
   "id": "6e65b371",
   "metadata": {},
   "outputs": [
    {
     "data": {
      "text/html": [
       "<div>\n",
       "<style scoped>\n",
       "    .dataframe tbody tr th:only-of-type {\n",
       "        vertical-align: middle;\n",
       "    }\n",
       "\n",
       "    .dataframe tbody tr th {\n",
       "        vertical-align: top;\n",
       "    }\n",
       "\n",
       "    .dataframe thead th {\n",
       "        text-align: right;\n",
       "    }\n",
       "</style>\n",
       "<table border=\"1\" class=\"dataframe\">\n",
       "  <thead>\n",
       "    <tr style=\"text-align: right;\">\n",
       "      <th></th>\n",
       "      <th>score</th>\n",
       "      <th>runs_scored</th>\n",
       "      <th>balls_faced</th>\n",
       "      <th>strike_rate</th>\n",
       "      <th>fours</th>\n",
       "      <th>sixes</th>\n",
       "      <th>opposition</th>\n",
       "      <th>ground</th>\n",
       "      <th>date</th>\n",
       "      <th>not_out</th>\n",
       "      <th>new_date</th>\n",
       "    </tr>\n",
       "  </thead>\n",
       "  <tbody>\n",
       "    <tr>\n",
       "      <th>15</th>\n",
       "      <td>56</td>\n",
       "      <td>56</td>\n",
       "      <td>46</td>\n",
       "      <td>121.73</td>\n",
       "      <td>2</td>\n",
       "      <td>4</td>\n",
       "      <td>Zimbabwe</td>\n",
       "      <td>Harare</td>\n",
       "      <td>29-08-2005</td>\n",
       "      <td>0</td>\n",
       "      <td>2005</td>\n",
       "    </tr>\n",
       "    <tr>\n",
       "      <th>17</th>\n",
       "      <td>67*</td>\n",
       "      <td>67</td>\n",
       "      <td>63</td>\n",
       "      <td>106.34</td>\n",
       "      <td>1</td>\n",
       "      <td>3</td>\n",
       "      <td>Zimbabwe</td>\n",
       "      <td>Harare</td>\n",
       "      <td>4/9/2005</td>\n",
       "      <td>1</td>\n",
       "      <td>2005</td>\n",
       "    </tr>\n",
       "    <tr>\n",
       "      <th>25</th>\n",
       "      <td>80</td>\n",
       "      <td>80</td>\n",
       "      <td>73</td>\n",
       "      <td>109.58</td>\n",
       "      <td>9</td>\n",
       "      <td>3</td>\n",
       "      <td>Sri Lanka</td>\n",
       "      <td>Vadodara</td>\n",
       "      <td>12/11/2005</td>\n",
       "      <td>0</td>\n",
       "      <td>2005</td>\n",
       "    </tr>\n",
       "    <tr>\n",
       "      <th>30</th>\n",
       "      <td>68</td>\n",
       "      <td>68</td>\n",
       "      <td>53</td>\n",
       "      <td>128.30</td>\n",
       "      <td>11</td>\n",
       "      <td>1</td>\n",
       "      <td>Pakistan</td>\n",
       "      <td>Peshawar</td>\n",
       "      <td>6/2/2006</td>\n",
       "      <td>0</td>\n",
       "      <td>2006</td>\n",
       "    </tr>\n",
       "    <tr>\n",
       "      <th>32</th>\n",
       "      <td>72*</td>\n",
       "      <td>72</td>\n",
       "      <td>46</td>\n",
       "      <td>156.52</td>\n",
       "      <td>13</td>\n",
       "      <td>0</td>\n",
       "      <td>Pakistan</td>\n",
       "      <td>Lahore</td>\n",
       "      <td>13-02-2006</td>\n",
       "      <td>1</td>\n",
       "      <td>2006</td>\n",
       "    </tr>\n",
       "    <tr>\n",
       "      <th>...</th>\n",
       "      <td>...</td>\n",
       "      <td>...</td>\n",
       "      <td>...</td>\n",
       "      <td>...</td>\n",
       "      <td>...</td>\n",
       "      <td>...</td>\n",
       "      <td>...</td>\n",
       "      <td>...</td>\n",
       "      <td>...</td>\n",
       "      <td>...</td>\n",
       "      <td>...</td>\n",
       "    </tr>\n",
       "    <tr>\n",
       "      <th>333</th>\n",
       "      <td>55*</td>\n",
       "      <td>55</td>\n",
       "      <td>54</td>\n",
       "      <td>101.85</td>\n",
       "      <td>0</td>\n",
       "      <td>2</td>\n",
       "      <td>Australia</td>\n",
       "      <td>Adelaide</td>\n",
       "      <td>15-01-2019</td>\n",
       "      <td>1</td>\n",
       "      <td>2019</td>\n",
       "    </tr>\n",
       "    <tr>\n",
       "      <th>334</th>\n",
       "      <td>87*</td>\n",
       "      <td>87</td>\n",
       "      <td>114</td>\n",
       "      <td>76.31</td>\n",
       "      <td>6</td>\n",
       "      <td>0</td>\n",
       "      <td>Australia</td>\n",
       "      <td>Melbourne</td>\n",
       "      <td>18-01-2019</td>\n",
       "      <td>1</td>\n",
       "      <td>2019</td>\n",
       "    </tr>\n",
       "    <tr>\n",
       "      <th>338</th>\n",
       "      <td>59*</td>\n",
       "      <td>59</td>\n",
       "      <td>72</td>\n",
       "      <td>81.94</td>\n",
       "      <td>6</td>\n",
       "      <td>1</td>\n",
       "      <td>Australia</td>\n",
       "      <td>Hyderabad (Deccan)</td>\n",
       "      <td>2/3/2019</td>\n",
       "      <td>1</td>\n",
       "      <td>2019</td>\n",
       "    </tr>\n",
       "    <tr>\n",
       "      <th>345</th>\n",
       "      <td>56*</td>\n",
       "      <td>56</td>\n",
       "      <td>61</td>\n",
       "      <td>91.80</td>\n",
       "      <td>3</td>\n",
       "      <td>2</td>\n",
       "      <td>West Indies</td>\n",
       "      <td>Manchester</td>\n",
       "      <td>27-06-2019</td>\n",
       "      <td>1</td>\n",
       "      <td>2019</td>\n",
       "    </tr>\n",
       "    <tr>\n",
       "      <th>349</th>\n",
       "      <td>50</td>\n",
       "      <td>50</td>\n",
       "      <td>72</td>\n",
       "      <td>69.44</td>\n",
       "      <td>1</td>\n",
       "      <td>1</td>\n",
       "      <td>New Zealand</td>\n",
       "      <td>Manchester</td>\n",
       "      <td>9/7/2019</td>\n",
       "      <td>0</td>\n",
       "      <td>2019</td>\n",
       "    </tr>\n",
       "  </tbody>\n",
       "</table>\n",
       "<p>73 rows × 11 columns</p>\n",
       "</div>"
      ],
      "text/plain": [
       "    score  runs_scored  balls_faced  strike_rate  fours  sixes   opposition  \\\n",
       "15     56           56           46       121.73      2      4     Zimbabwe   \n",
       "17    67*           67           63       106.34      1      3     Zimbabwe   \n",
       "25     80           80           73       109.58      9      3    Sri Lanka   \n",
       "30     68           68           53       128.30     11      1     Pakistan   \n",
       "32    72*           72           46       156.52     13      0     Pakistan   \n",
       "..    ...          ...          ...          ...    ...    ...          ...   \n",
       "333   55*           55           54       101.85      0      2    Australia   \n",
       "334   87*           87          114        76.31      6      0    Australia   \n",
       "338   59*           59           72        81.94      6      1    Australia   \n",
       "345   56*           56           61        91.80      3      2  West Indies   \n",
       "349    50           50           72        69.44      1      1  New Zealand   \n",
       "\n",
       "                 ground        date  not_out  new_date  \n",
       "15               Harare  29-08-2005        0      2005  \n",
       "17               Harare    4/9/2005        1      2005  \n",
       "25             Vadodara  12/11/2005        0      2005  \n",
       "30             Peshawar    6/2/2006        0      2006  \n",
       "32               Lahore  13-02-2006        1      2006  \n",
       "..                  ...         ...      ...       ...  \n",
       "333            Adelaide  15-01-2019        1      2019  \n",
       "334           Melbourne  18-01-2019        1      2019  \n",
       "338  Hyderabad (Deccan)    2/3/2019        1      2019  \n",
       "345          Manchester  27-06-2019        1      2019  \n",
       "349          Manchester    9/7/2019        0      2019  \n",
       "\n",
       "[73 rows x 11 columns]"
      ]
     },
     "execution_count": 34,
     "metadata": {},
     "output_type": "execute_result"
    }
   ],
   "source": [
    "no_of_fifties=dhoni_data.loc[(dhoni_data['runs_scored']>=50) & \n",
    "                             (dhoni_data['runs_scored']<100)]\n",
    "no_of_fifties"
   ]
  },
  {
   "cell_type": "code",
   "execution_count": 35,
   "id": "74e66b12",
   "metadata": {},
   "outputs": [
    {
     "name": "stdout",
     "output_type": "stream",
     "text": [
      "Total no of 50's 73\n"
     ]
    }
   ],
   "source": [
    "print(\"Total no of 50's\",len(no_of_fifties))"
   ]
  },
  {
   "cell_type": "markdown",
   "id": "2755d2ea",
   "metadata": {},
   "source": [
    "No.of 100’s"
   ]
  },
  {
   "cell_type": "code",
   "execution_count": 36,
   "id": "a1712a6d",
   "metadata": {},
   "outputs": [
    {
     "name": "stdout",
     "output_type": "stream",
     "text": [
      "Total of 100's 10\n"
     ]
    }
   ],
   "source": [
    "no_of_hundreds=dhoni_data.loc[dhoni_data['runs_scored']>=100]\n",
    "print(\"Total of 100's\",len(no_of_hundreds))"
   ]
  },
  {
   "cell_type": "markdown",
   "id": "836e1934",
   "metadata": {},
   "source": [
    "Total no of balls faced\n"
   ]
  },
  {
   "cell_type": "code",
   "execution_count": 37,
   "id": "9d3b1d15",
   "metadata": {},
   "outputs": [
    {
     "name": "stdout",
     "output_type": "stream",
     "text": [
      "Total no of balls faced in a career 12303\n"
     ]
    }
   ],
   "source": [
    "print(\"Total no of balls faced in a career\",dhoni_data['balls_faced'].sum())"
   ]
  },
  {
   "cell_type": "markdown",
   "id": "185dedcf",
   "metadata": {},
   "source": [
    "First match played year"
   ]
  },
  {
   "cell_type": "code",
   "execution_count": 40,
   "id": "e48dba00",
   "metadata": {},
   "outputs": [
    {
     "name": "stdout",
     "output_type": "stream",
     "text": [
      "First match played in year 2004\n"
     ]
    }
   ],
   "source": [
    "print(\"First match played in year\",dhoni_data['new_date'].min())"
   ]
  },
  {
   "cell_type": "markdown",
   "id": "7a87c4ed",
   "metadata": {},
   "source": [
    "Last match played year"
   ]
  },
  {
   "cell_type": "code",
   "execution_count": 42,
   "id": "3920f47f",
   "metadata": {},
   "outputs": [
    {
     "name": "stdout",
     "output_type": "stream",
     "text": [
      "Last match played in year 2019\n"
     ]
    }
   ],
   "source": [
    "print(\"Last match played in year\",dhoni_data['new_date'].max())"
   ]
  },
  {
   "cell_type": "markdown",
   "id": "0f968c77",
   "metadata": {},
   "source": [
    "No.of not out in career"
   ]
  },
  {
   "cell_type": "code",
   "execution_count": 43,
   "id": "7f6d8b12",
   "metadata": {},
   "outputs": [
    {
     "name": "stdout",
     "output_type": "stream",
     "text": [
      "Total no of not out in career 84\n"
     ]
    }
   ],
   "source": [
    "print(\"Total no of not out in career\",dhoni_data['not_out'].sum())"
   ]
  },
  {
   "cell_type": "code",
   "execution_count": 44,
   "id": "25dbfdf7",
   "metadata": {},
   "outputs": [
    {
     "data": {
      "text/plain": [
       "0      0\n",
       "1      0\n",
       "2      1\n",
       "3      0\n",
       "4      0\n",
       "      ..\n",
       "344    0\n",
       "345    1\n",
       "346    1\n",
       "347    0\n",
       "349    0\n",
       "Name: not_out, Length: 297, dtype: int32"
      ]
     },
     "execution_count": 44,
     "metadata": {},
     "output_type": "execute_result"
    }
   ],
   "source": [
    "dhoni_data['not_out']"
   ]
  },
  {
   "cell_type": "markdown",
   "id": "78b83456",
   "metadata": {},
   "source": [
    "How many matches he has played against different\n",
    "oppositions"
   ]
  },
  {
   "cell_type": "code",
   "execution_count": 45,
   "id": "02422dd7",
   "metadata": {},
   "outputs": [
    {
     "data": {
      "text/plain": [
       "Sri Lanka       53\n",
       "Australia       48\n",
       "England         44\n",
       "West Indies     33\n",
       "South Africa    32\n",
       "Pakistan        31\n",
       "New Zealand     26\n",
       "Bangladesh      17\n",
       "Zimbabwe         3\n",
       "Africa XI        3\n",
       "Hong Kong        2\n",
       "Afghanistan      2\n",
       "Bermuda          1\n",
       "Ireland          1\n",
       "Netherlands      1\n",
       "Name: opposition, dtype: int64"
      ]
     },
     "execution_count": 45,
     "metadata": {},
     "output_type": "execute_result"
    }
   ],
   "source": [
    "dhoni_data['opposition'].value_counts()"
   ]
  },
  {
   "cell_type": "code",
   "execution_count": 46,
   "id": "0f684d6e",
   "metadata": {},
   "outputs": [
    {
     "data": {
      "text/plain": [
       "<AxesSubplot:>"
      ]
     },
     "execution_count": 46,
     "metadata": {},
     "output_type": "execute_result"
    },
    {
     "data": {
      "image/png": "[encoded data removed]",
      "text/plain": [
       "<Figure size 432x288 with 1 Axes>"
      ]
     },
     "metadata": {
      "needs_background": "light"
     },
     "output_type": "display_data"
    }
   ],
   "source": [
    "dhoni_data['opposition'].value_counts().plot(kind='bar')"
   ]
  },
  {
   "cell_type": "markdown",
   "id": "bb6c0b2e",
   "metadata": {},
   "source": [
    "How many matches he has played each year"
   ]
  },
  {
   "cell_type": "code",
   "execution_count": 47,
   "id": "064a44ab",
   "metadata": {},
   "outputs": [
    {
     "data": {
      "text/plain": [
       "2007    33\n",
       "2006    26\n",
       "2008    26\n",
       "2005    24\n",
       "2009    24\n",
       "2011    22\n",
       "2017    22\n",
       "2013    20\n",
       "2010    17\n",
       "2015    17\n",
       "2019    16\n",
       "2012    14\n",
       "2018    13\n",
       "2014    10\n",
       "2016    10\n",
       "2004     3\n",
       "Name: new_date, dtype: int64"
      ]
     },
     "execution_count": 47,
     "metadata": {},
     "output_type": "execute_result"
    }
   ],
   "source": [
    "dhoni_data['new_date'].value_counts()"
   ]
  },
  {
   "cell_type": "code",
   "execution_count": 48,
   "id": "4cd08060",
   "metadata": {},
   "outputs": [
    {
     "data": {
      "text/plain": [
       "<AxesSubplot:>"
      ]
     },
     "execution_count": 48,
     "metadata": {},
     "output_type": "execute_result"
    },
    {
     "data": {
      "image/png": "[encoded data removed]",
      "text/plain": [
       "<Figure size 432x288 with 1 Axes>"
      ]
     },
     "metadata": {
      "needs_background": "light"
     },
     "output_type": "display_data"
    }
   ],
   "source": [
    "dhoni_data['new_date'].value_counts().plot(kind='bar')"
   ]
  },
  {
   "cell_type": "markdown",
   "id": "6c69556c",
   "metadata": {},
   "source": [
    "How many runs he has scored every year"
   ]
  },
  {
   "cell_type": "code",
   "execution_count": 51,
   "id": "cb3631fe",
   "metadata": {},
   "outputs": [
    {
     "data": {
      "text/html": [
       "<div>\n",
       "<style scoped>\n",
       "    .dataframe tbody tr th:only-of-type {\n",
       "        vertical-align: middle;\n",
       "    }\n",
       "\n",
       "    .dataframe tbody tr th {\n",
       "        vertical-align: top;\n",
       "    }\n",
       "\n",
       "    .dataframe thead th {\n",
       "        text-align: right;\n",
       "    }\n",
       "</style>\n",
       "<table border=\"1\" class=\"dataframe\">\n",
       "  <thead>\n",
       "    <tr style=\"text-align: right;\">\n",
       "      <th></th>\n",
       "      <th>student_name</th>\n",
       "      <th>course_name</th>\n",
       "    </tr>\n",
       "  </thead>\n",
       "  <tbody>\n",
       "    <tr>\n",
       "      <th>0</th>\n",
       "      <td>Riddhi</td>\n",
       "      <td>python</td>\n",
       "    </tr>\n",
       "    <tr>\n",
       "      <th>1</th>\n",
       "      <td>Bhakti</td>\n",
       "      <td>stat</td>\n",
       "    </tr>\n",
       "    <tr>\n",
       "      <th>2</th>\n",
       "      <td>Sujit</td>\n",
       "      <td>stat</td>\n",
       "    </tr>\n",
       "    <tr>\n",
       "      <th>3</th>\n",
       "      <td>Pranali</td>\n",
       "      <td>python</td>\n",
       "    </tr>\n",
       "    <tr>\n",
       "      <th>4</th>\n",
       "      <td>Abhijeet</td>\n",
       "      <td>python</td>\n",
       "    </tr>\n",
       "  </tbody>\n",
       "</table>\n",
       "</div>"
      ],
      "text/plain": [
       "  student_name course_name\n",
       "0       Riddhi      python\n",
       "1       Bhakti        stat\n",
       "2        Sujit        stat\n",
       "3      Pranali      python\n",
       "4     Abhijeet      python"
      ]
     },
     "execution_count": 51,
     "metadata": {},
     "output_type": "execute_result"
    }
   ],
   "source": [
    "stud_data={'student_name':['Riddhi','Bhakti','Sujit','Pranali','Abhijeet'],\n",
    "          'course_name':['python','stat','stat','python','python']}\n",
    "import pandas as pd\n",
    "s1=pd.DataFrame(stud_data)\n",
    "s1"
   ]
  },
  {
   "cell_type": "code",
   "execution_count": 53,
   "id": "4a69692b",
   "metadata": {},
   "outputs": [
    {
     "name": "stdout",
     "output_type": "stream",
     "text": [
      "('python',   student_name course_name\n",
      "0       Riddhi      python\n",
      "3      Pranali      python\n",
      "4     Abhijeet      python)\n",
      "('stat',   student_name course_name\n",
      "1       Bhakti        stat\n",
      "2        Sujit        stat)\n"
     ]
    }
   ],
   "source": [
    "g1=s1.groupby('course_name')\n",
    "for i in g1:\n",
    "    print(i)"
   ]
  },
  {
   "cell_type": "code",
   "execution_count": 60,
   "id": "857bd872",
   "metadata": {},
   "outputs": [
    {
     "data": {
      "text/plain": [
       "new_date\n",
       "2004      19\n",
       "2005     895\n",
       "2006     821\n",
       "2007    1103\n",
       "2008    1097\n",
       "2009    1198\n",
       "2010     600\n",
       "2011     764\n",
       "2012     524\n",
       "2013     753\n",
       "2014     418\n",
       "2015     640\n",
       "2016     278\n",
       "2017     788\n",
       "2018     275\n",
       "2019     600\n",
       "Name: runs_scored, dtype: int32"
      ]
     },
     "execution_count": 60,
     "metadata": {},
     "output_type": "execute_result"
    }
   ],
   "source": [
    "dhoni_data.groupby('new_date')['runs_scored'].sum()"
   ]
  },
  {
   "cell_type": "markdown",
   "id": "9a7ef709",
   "metadata": {},
   "source": [
    "How many runs he has scored against different\n",
    "oppositions"
   ]
  },
  {
   "cell_type": "code",
   "execution_count": 63,
   "id": "56d5992b",
   "metadata": {},
   "outputs": [
    {
     "data": {
      "text/plain": [
       "opposition\n",
       "Afghanistan       36\n",
       "Africa XI        174\n",
       "Australia       1660\n",
       "Bangladesh       569\n",
       "Bermuda           29\n",
       "England         1546\n",
       "Hong Kong        109\n",
       "Ireland           34\n",
       "Netherlands       19\n",
       "New Zealand      940\n",
       "Pakistan        1231\n",
       "South Africa     830\n",
       "Sri Lanka       2383\n",
       "West Indies     1005\n",
       "Zimbabwe         208\n",
       "Name: runs_scored, dtype: int32"
      ]
     },
     "execution_count": 63,
     "metadata": {},
     "output_type": "execute_result"
    }
   ],
   "source": [
    "dhoni_data.groupby('opposition')['runs_scored'].sum()"
   ]
  },
  {
   "cell_type": "code",
   "execution_count": 64,
   "id": "eecb47c8",
   "metadata": {},
   "outputs": [
    {
     "data": {
      "text/plain": [
       "opposition\n",
       "Netherlands       19\n",
       "Bermuda           29\n",
       "Ireland           34\n",
       "Afghanistan       36\n",
       "Hong Kong        109\n",
       "Africa XI        174\n",
       "Zimbabwe         208\n",
       "Bangladesh       569\n",
       "South Africa     830\n",
       "New Zealand      940\n",
       "West Indies     1005\n",
       "Pakistan        1231\n",
       "England         1546\n",
       "Australia       1660\n",
       "Sri Lanka       2383\n",
       "Name: runs_scored, dtype: int32"
      ]
     },
     "execution_count": 64,
     "metadata": {},
     "output_type": "execute_result"
    }
   ],
   "source": [
    "#ascending order\n",
    "dhoni_data.groupby('opposition')['runs_scored'].sum().sort_values()"
   ]
  },
  {
   "cell_type": "code",
   "execution_count": 66,
   "id": "c6af7724",
   "metadata": {},
   "outputs": [
    {
     "data": {
      "text/plain": [
       "opposition\n",
       "Sri Lanka       2383\n",
       "Australia       1660\n",
       "England         1546\n",
       "Pakistan        1231\n",
       "West Indies     1005\n",
       "New Zealand      940\n",
       "South Africa     830\n",
       "Bangladesh       569\n",
       "Zimbabwe         208\n",
       "Africa XI        174\n",
       "Hong Kong        109\n",
       "Afghanistan       36\n",
       "Ireland           34\n",
       "Bermuda           29\n",
       "Netherlands       19\n",
       "Name: runs_scored, dtype: int32"
      ]
     },
     "execution_count": 66,
     "metadata": {},
     "output_type": "execute_result"
    }
   ],
   "source": [
    "#descending order\n",
    "dhoni_data.groupby('opposition')['runs_scored'].sum().sort_values(ascending=False)"
   ]
  },
  {
   "cell_type": "code",
   "execution_count": 67,
   "id": "0bb8e957",
   "metadata": {},
   "outputs": [
    {
     "data": {
      "text/plain": [
       "opposition\n",
       "Sri Lanka    2383\n",
       "Australia    1660\n",
       "England      1546\n",
       "Name: runs_scored, dtype: int32"
      ]
     },
     "execution_count": 67,
     "metadata": {},
     "output_type": "execute_result"
    }
   ],
   "source": [
    "dhoni_data.groupby('opposition')['runs_scored'].sum().sort_values(ascending=False)[:3]"
   ]
  },
  {
   "cell_type": "markdown",
   "id": "2121c011",
   "metadata": {},
   "source": [
    "# Numpy Library"
   ]
  },
  {
   "cell_type": "code",
   "execution_count": 6,
   "id": "c8050740",
   "metadata": {},
   "outputs": [
    {
     "name": "stdout",
     "output_type": "stream",
     "text": [
      "[17 19 21 23 15 25 89]\n"
     ]
    }
   ],
   "source": [
    "#numpy stands numerical python\n",
    "import numpy as np\n",
    "n1=np.array([17,19,21,23,15,25,89])\n",
    "print(n1)"
   ]
  },
  {
   "cell_type": "code",
   "execution_count": 4,
   "id": "1b35c4f4",
   "metadata": {},
   "outputs": [
    {
     "data": {
      "text/plain": [
       "array([10, 20, 30, 40, 50])"
      ]
     },
     "execution_count": 4,
     "metadata": {},
     "output_type": "execute_result"
    }
   ],
   "source": [
    "n2=np.array((10,20,30,40,50))\n",
    "n2"
   ]
  },
  {
   "cell_type": "code",
   "execution_count": 7,
   "id": "1c3a3aba",
   "metadata": {},
   "outputs": [
    {
     "data": {
      "text/plain": [
       "7"
      ]
     },
     "execution_count": 7,
     "metadata": {},
     "output_type": "execute_result"
    }
   ],
   "source": [
    "#size parameter returns total no of elements\n",
    "n1.size"
   ]
  },
  {
   "cell_type": "code",
   "execution_count": 9,
   "id": "76bfc131",
   "metadata": {},
   "outputs": [
    {
     "data": {
      "text/plain": [
       "dtype('int32')"
      ]
     },
     "execution_count": 9,
     "metadata": {},
     "output_type": "execute_result"
    }
   ],
   "source": [
    "n1.dtype"
   ]
  },
  {
   "cell_type": "code",
   "execution_count": 10,
   "id": "53457198",
   "metadata": {},
   "outputs": [
    {
     "data": {
      "text/plain": [
       "4"
      ]
     },
     "execution_count": 10,
     "metadata": {},
     "output_type": "execute_result"
    }
   ],
   "source": [
    "n1.itemsize #memory allocation size"
   ]
  },
  {
   "cell_type": "code",
   "execution_count": 31,
   "id": "c62bf018",
   "metadata": {},
   "outputs": [
    {
     "name": "stdout",
     "output_type": "stream",
     "text": [
      "[17 19 21 23 15 25 89]\n"
     ]
    }
   ],
   "source": [
    "import numpy as np\n",
    "n1=np.array([17,19,21,23,15,25,89],dtype='int16')\n",
    "print(n1)"
   ]
  },
  {
   "cell_type": "code",
   "execution_count": 23,
   "id": "1a2f870d",
   "metadata": {},
   "outputs": [
    {
     "data": {
      "text/plain": [
       "4"
      ]
     },
     "execution_count": 23,
     "metadata": {},
     "output_type": "execute_result"
    }
   ],
   "source": [
    "n1.itemsize"
   ]
  },
  {
   "cell_type": "code",
   "execution_count": 24,
   "id": "100db0f0",
   "metadata": {},
   "outputs": [
    {
     "data": {
      "text/plain": [
       "1"
      ]
     },
     "execution_count": 24,
     "metadata": {},
     "output_type": "execute_result"
    }
   ],
   "source": [
    "n1.ndim #no of dimesions"
   ]
  },
  {
   "cell_type": "code",
   "execution_count": 25,
   "id": "c05be734",
   "metadata": {},
   "outputs": [
    {
     "data": {
      "text/plain": [
       "array([17, 19, 21, 23, 15, 25, 89])"
      ]
     },
     "execution_count": 25,
     "metadata": {},
     "output_type": "execute_result"
    }
   ],
   "source": [
    "n1"
   ]
  },
  {
   "cell_type": "code",
   "execution_count": 26,
   "id": "f609040d",
   "metadata": {},
   "outputs": [
    {
     "data": {
      "text/plain": [
       "array([22, 24, 26, 28, 20, 30, 94])"
      ]
     },
     "execution_count": 26,
     "metadata": {},
     "output_type": "execute_result"
    }
   ],
   "source": [
    "n1+5"
   ]
  },
  {
   "cell_type": "code",
   "execution_count": 32,
   "id": "95989f85",
   "metadata": {},
   "outputs": [
    {
     "data": {
      "text/plain": [
       "array([ 34,  38,  42,  46,  30,  50, 178], dtype=int16)"
      ]
     },
     "execution_count": 32,
     "metadata": {},
     "output_type": "execute_result"
    }
   ],
   "source": [
    "n1*2"
   ]
  },
  {
   "cell_type": "code",
   "execution_count": 18,
   "id": "c287eca8",
   "metadata": {},
   "outputs": [
    {
     "data": {
      "text/plain": [
       "188"
      ]
     },
     "execution_count": 18,
     "metadata": {},
     "output_type": "execute_result"
    }
   ],
   "source": [
    "94*2"
   ]
  },
  {
   "cell_type": "markdown",
   "id": "348f3178",
   "metadata": {},
   "source": [
    "Numpy we have 3 types of data types:\n",
    "    integer:\n",
    "        int8 :1 Byte\n",
    "        int16 :2 Byte\n",
    "        int32 :4 Byte\n",
    "        int64 :8 Byte\n",
    "    float:\n",
    "        float8 :1 Byte\n",
    "        float16 :2 Byte\n",
    "        float32 :4 Byte\n",
    "        float64 :8 Byte        \n",
    "    object:\n",
    "        string data type\n",
    "    "
   ]
  },
  {
   "cell_type": "code",
   "execution_count": 28,
   "id": "819999e0",
   "metadata": {},
   "outputs": [
    {
     "data": {
      "text/plain": [
       "256"
      ]
     },
     "execution_count": 28,
     "metadata": {},
     "output_type": "execute_result"
    }
   ],
   "source": [
    "2**8"
   ]
  },
  {
   "cell_type": "code",
   "execution_count": 33,
   "id": "ad37ce9c",
   "metadata": {},
   "outputs": [
    {
     "data": {
      "text/plain": [
       "array([17, 19, 21, 23, 15, 25, 89], dtype=int16)"
      ]
     },
     "execution_count": 33,
     "metadata": {},
     "output_type": "execute_result"
    }
   ],
   "source": [
    "n1"
   ]
  },
  {
   "cell_type": "code",
   "execution_count": 34,
   "id": "0ed52a9b",
   "metadata": {},
   "outputs": [
    {
     "data": {
      "text/plain": [
       "array([ True,  True,  True,  True,  True,  True, False])"
      ]
     },
     "execution_count": 34,
     "metadata": {},
     "output_type": "execute_result"
    }
   ],
   "source": [
    "#less than 25 or eaual to 25\n",
    "n1<=25"
   ]
  },
  {
   "cell_type": "code",
   "execution_count": 35,
   "id": "d9ef7fad",
   "metadata": {},
   "outputs": [
    {
     "data": {
      "text/plain": [
       "array([17, 19, 21, 23, 15, 25], dtype=int16)"
      ]
     },
     "execution_count": 35,
     "metadata": {},
     "output_type": "execute_result"
    }
   ],
   "source": [
    "n1[n1<=25]"
   ]
  },
  {
   "cell_type": "code",
   "execution_count": 41,
   "id": "035c7765",
   "metadata": {},
   "outputs": [
    {
     "data": {
      "text/plain": [
       "array([17, 19, 15], dtype=int16)"
      ]
     },
     "execution_count": 41,
     "metadata": {},
     "output_type": "execute_result"
    }
   ],
   "source": [
    "n1[(n1>=10) & (n1<=20)]"
   ]
  },
  {
   "cell_type": "code",
   "execution_count": 42,
   "id": "5ff3a719",
   "metadata": {},
   "outputs": [
    {
     "data": {
      "text/plain": [
       "array([20, 20, 20])"
      ]
     },
     "execution_count": 42,
     "metadata": {},
     "output_type": "execute_result"
    }
   ],
   "source": [
    "n3=np.array([20,20,13,15,17,20,30,34])\n",
    "n3[n3==20]"
   ]
  },
  {
   "cell_type": "code",
   "execution_count": 43,
   "id": "9bd155e0",
   "metadata": {},
   "outputs": [
    {
     "data": {
      "text/plain": [
       "(array([0, 1, 5], dtype=int64),)"
      ]
     },
     "execution_count": 43,
     "metadata": {},
     "output_type": "execute_result"
    }
   ],
   "source": [
    "np.where(n3==20)"
   ]
  },
  {
   "cell_type": "code",
   "execution_count": 44,
   "id": "2d7ae093",
   "metadata": {},
   "outputs": [
    {
     "name": "stdout",
     "output_type": "stream",
     "text": [
      "[[11 22 33]\n",
      " [47 21 56]\n",
      " [32 78 54]]\n"
     ]
    }
   ],
   "source": [
    "n4=np.array([[11,22,33],[47,21,56],[32,78,54]])\n",
    "print(n4)"
   ]
  },
  {
   "cell_type": "code",
   "execution_count": 45,
   "id": "aeddd2ea",
   "metadata": {},
   "outputs": [
    {
     "data": {
      "text/plain": [
       "2"
      ]
     },
     "execution_count": 45,
     "metadata": {},
     "output_type": "execute_result"
    }
   ],
   "source": [
    "n4.ndim"
   ]
  },
  {
   "cell_type": "code",
   "execution_count": 46,
   "id": "fcb562f7",
   "metadata": {},
   "outputs": [
    {
     "data": {
      "text/plain": [
       "9"
      ]
     },
     "execution_count": 46,
     "metadata": {},
     "output_type": "execute_result"
    }
   ],
   "source": [
    "n4.size"
   ]
  },
  {
   "cell_type": "code",
   "execution_count": 47,
   "id": "899b06ee",
   "metadata": {},
   "outputs": [
    {
     "data": {
      "text/plain": [
       "4"
      ]
     },
     "execution_count": 47,
     "metadata": {},
     "output_type": "execute_result"
    }
   ],
   "source": [
    "n4.itemsize"
   ]
  },
  {
   "cell_type": "code",
   "execution_count": 48,
   "id": "7b2c1dd7",
   "metadata": {},
   "outputs": [
    {
     "data": {
      "text/plain": [
       "dtype('int32')"
      ]
     },
     "execution_count": 48,
     "metadata": {},
     "output_type": "execute_result"
    }
   ],
   "source": [
    "n4.dtype"
   ]
  },
  {
   "cell_type": "code",
   "execution_count": 51,
   "id": "a244626b",
   "metadata": {},
   "outputs": [
    {
     "name": "stdout",
     "output_type": "stream",
     "text": [
      "[[11 22 33]\n",
      " [47 21 56]\n",
      " [32 78 54]]\n",
      "9\n"
     ]
    }
   ],
   "source": [
    "n4=np.array([[11,22,33],[47,21,56],[32,78,54]])\n",
    "print(n4)\n",
    "print(n4.size)"
   ]
  },
  {
   "cell_type": "code",
   "execution_count": 52,
   "id": "391bd590",
   "metadata": {},
   "outputs": [
    {
     "data": {
      "text/plain": [
       "array([[13, 24, 35],\n",
       "       [49, 23, 58],\n",
       "       [34, 80, 56]])"
      ]
     },
     "execution_count": 52,
     "metadata": {},
     "output_type": "execute_result"
    }
   ],
   "source": [
    "n4+2"
   ]
  },
  {
   "cell_type": "code",
   "execution_count": 53,
   "id": "52d7ce70",
   "metadata": {},
   "outputs": [
    {
     "data": {
      "text/plain": [
       "array([[ 22,  44,  66],\n",
       "       [ 94,  42, 112],\n",
       "       [ 64, 156, 108]])"
      ]
     },
     "execution_count": 53,
     "metadata": {},
     "output_type": "execute_result"
    }
   ],
   "source": [
    "n4*2"
   ]
  },
  {
   "cell_type": "code",
   "execution_count": 57,
   "id": "d825e37c",
   "metadata": {},
   "outputs": [
    {
     "data": {
      "text/plain": [
       "array([[11, 22, 33],\n",
       "       [47, 21, 56],\n",
       "       [32, 78, 54]])"
      ]
     },
     "execution_count": 57,
     "metadata": {},
     "output_type": "execute_result"
    }
   ],
   "source": [
    "n4"
   ]
  },
  {
   "cell_type": "code",
   "execution_count": 70,
   "id": "2f57a37e",
   "metadata": {},
   "outputs": [
    {
     "name": "stdout",
     "output_type": "stream",
     "text": [
      "Sum of array elements 354\n",
      "Sum f elements row wise [ 66 124 164]\n",
      "Sum f elements column wise [ 90 121 143]\n",
      "Maximum number from an array 78\n",
      "Minimum number from an array 11\n",
      "Maximum number row-wise from an array  [33 56 78]\n",
      "Maximum number column-wise from an array  [47 78 56]\n",
      "Minimum number row-wise from an array [11 21 32]\n",
      "Minimum number column-wise from an array [11 21 33]\n",
      "Cummulative sum  [ 11  33  66 113 134 190 222 300 354]\n",
      "Cummulative sum row-wise\n",
      " [[ 11  33  66]\n",
      " [ 47  68 124]\n",
      " [ 32 110 164]]\n",
      "Cummulative sum column-wise\n",
      " [[ 11  22  33]\n",
      " [ 58  43  89]\n",
      " [ 90 121 143]]\n",
      "Mean value of array 39.33\n"
     ]
    }
   ],
   "source": [
    "print(\"Sum of array elements\",n4.sum())\n",
    "print(\"Sum f elements row wise\",n4.sum(axis=1))\n",
    "print(\"Sum f elements column wise\",n4.sum(axis=0))\n",
    "print(\"Maximum number from an array\",n4.max())\n",
    "print(\"Minimum number from an array\",n4.min())\n",
    "print(\"Maximum number row-wise from an array \",n4.max(axis=1))\n",
    "print(\"Maximum number column-wise from an array \",n4.max(axis=0))\n",
    "print(\"Minimum number row-wise from an array\",n4.min(axis=1))\n",
    "print(\"Minimum number column-wise from an array\",n4.min(axis=0))\n",
    "print(\"Cummulative sum \",n4.cumsum())\n",
    "print(\"Cummulative sum row-wise\\n\",n4.cumsum(axis=1))\n",
    "print(\"Cummulative sum column-wise\\n\",n4.cumsum(axis=0))\n",
    "print(\"Mean value of array %.2f\" %(n4.mean()))"
   ]
  },
  {
   "cell_type": "code",
   "execution_count": 71,
   "id": "587842d3",
   "metadata": {},
   "outputs": [
    {
     "data": {
      "text/plain": [
       "5.0"
      ]
     },
     "execution_count": 71,
     "metadata": {},
     "output_type": "execute_result"
    }
   ],
   "source": [
    "arr1=np.array([4,2,5,8,6])\n",
    "arr1.mean()"
   ]
  },
  {
   "cell_type": "code",
   "execution_count": 72,
   "id": "fc04ff54",
   "metadata": {},
   "outputs": [
    {
     "data": {
      "text/plain": [
       "4.0"
      ]
     },
     "execution_count": 72,
     "metadata": {},
     "output_type": "execute_result"
    }
   ],
   "source": [
    "arr1.var()"
   ]
  },
  {
   "cell_type": "code",
   "execution_count": 74,
   "id": "8aabd1a5",
   "metadata": {},
   "outputs": [
    {
     "data": {
      "text/plain": [
       "array([-1, -3,  0,  3,  1])"
      ]
     },
     "execution_count": 74,
     "metadata": {},
     "output_type": "execute_result"
    }
   ],
   "source": [
    "a1=arr1-5\n",
    "a1"
   ]
  },
  {
   "cell_type": "code",
   "execution_count": 77,
   "id": "e969f5b2",
   "metadata": {},
   "outputs": [
    {
     "data": {
      "text/plain": [
       "array([1, 9, 0, 9, 1], dtype=int32)"
      ]
     },
     "execution_count": 77,
     "metadata": {},
     "output_type": "execute_result"
    }
   ],
   "source": [
    "a1=a1**2\n",
    "a1"
   ]
  },
  {
   "cell_type": "code",
   "execution_count": 78,
   "id": "b43f8554",
   "metadata": {},
   "outputs": [
    {
     "data": {
      "text/plain": [
       "20"
      ]
     },
     "execution_count": 78,
     "metadata": {},
     "output_type": "execute_result"
    }
   ],
   "source": [
    "a1.sum()"
   ]
  },
  {
   "cell_type": "code",
   "execution_count": 79,
   "id": "fd94104d",
   "metadata": {},
   "outputs": [
    {
     "data": {
      "text/plain": [
       "2.0"
      ]
     },
     "execution_count": 79,
     "metadata": {},
     "output_type": "execute_result"
    }
   ],
   "source": [
    "arr1.std()"
   ]
  },
  {
   "cell_type": "code",
   "execution_count": 88,
   "id": "c51b56d5",
   "metadata": {},
   "outputs": [
    {
     "data": {
      "text/plain": [
       "array([[  10.692,  243.   ],\n",
       "       [ 243.   , 7859.5  ]])"
      ]
     },
     "execution_count": 88,
     "metadata": {},
     "output_type": "execute_result"
    }
   ],
   "source": [
    "temp=np.array([14.2,16.4,15.2,22.6,17.2])\n",
    "ice_cream_sale=np.array([215,325,332,445,408])\n",
    "np.cov(temp,ice_cream_sale)"
   ]
  },
  {
   "cell_type": "code",
   "execution_count": 84,
   "id": "8775f8a4",
   "metadata": {},
   "outputs": [
    {
     "data": {
      "text/plain": [
       "8.553600000000005"
      ]
     },
     "execution_count": 84,
     "metadata": {},
     "output_type": "execute_result"
    }
   ],
   "source": [
    "temp.var()"
   ]
  },
  {
   "cell_type": "code",
   "execution_count": 85,
   "id": "62aba48c",
   "metadata": {},
   "outputs": [
    {
     "data": {
      "text/plain": [
       "6287.6"
      ]
     },
     "execution_count": 85,
     "metadata": {},
     "output_type": "execute_result"
    }
   ],
   "source": [
    "ice_cream_sale.var()"
   ]
  },
  {
   "cell_type": "code",
   "execution_count": 90,
   "id": "70f84046",
   "metadata": {},
   "outputs": [
    {
     "data": {
      "text/html": [
       "<div>\n",
       "<style scoped>\n",
       "    .dataframe tbody tr th:only-of-type {\n",
       "        vertical-align: middle;\n",
       "    }\n",
       "\n",
       "    .dataframe tbody tr th {\n",
       "        vertical-align: top;\n",
       "    }\n",
       "\n",
       "    .dataframe thead th {\n",
       "        text-align: right;\n",
       "    }\n",
       "</style>\n",
       "<table border=\"1\" class=\"dataframe\">\n",
       "  <thead>\n",
       "    <tr style=\"text-align: right;\">\n",
       "      <th></th>\n",
       "      <th>subject</th>\n",
       "      <th>marks</th>\n",
       "    </tr>\n",
       "  </thead>\n",
       "  <tbody>\n",
       "    <tr>\n",
       "      <th>0</th>\n",
       "      <td>Math</td>\n",
       "      <td>67</td>\n",
       "    </tr>\n",
       "    <tr>\n",
       "      <th>1</th>\n",
       "      <td>Phy</td>\n",
       "      <td>78</td>\n",
       "    </tr>\n",
       "    <tr>\n",
       "      <th>2</th>\n",
       "      <td>Chem</td>\n",
       "      <td>89</td>\n",
       "    </tr>\n",
       "    <tr>\n",
       "      <th>3</th>\n",
       "      <td>Math</td>\n",
       "      <td>54</td>\n",
       "    </tr>\n",
       "    <tr>\n",
       "      <th>4</th>\n",
       "      <td>Math</td>\n",
       "      <td>78</td>\n",
       "    </tr>\n",
       "    <tr>\n",
       "      <th>5</th>\n",
       "      <td>Chem</td>\n",
       "      <td>92</td>\n",
       "    </tr>\n",
       "    <tr>\n",
       "      <th>6</th>\n",
       "      <td>Phy</td>\n",
       "      <td>87</td>\n",
       "    </tr>\n",
       "    <tr>\n",
       "      <th>7</th>\n",
       "      <td>Phy</td>\n",
       "      <td>90</td>\n",
       "    </tr>\n",
       "  </tbody>\n",
       "</table>\n",
       "</div>"
      ],
      "text/plain": [
       "  subject  marks\n",
       "0    Math     67\n",
       "1     Phy     78\n",
       "2    Chem     89\n",
       "3    Math     54\n",
       "4    Math     78\n",
       "5    Chem     92\n",
       "6     Phy     87\n",
       "7     Phy     90"
      ]
     },
     "execution_count": 90,
     "metadata": {},
     "output_type": "execute_result"
    }
   ],
   "source": [
    "import pandas as pd\n",
    "s1=pd.DataFrame({'subject':['Math','Phy','Chem','Math','Math',\n",
    "                         'Chem','Phy','Phy'],\n",
    "             'marks':[67,78,89,54,78,92,87,90]})\n",
    "s1"
   ]
  },
  {
   "cell_type": "code",
   "execution_count": 91,
   "id": "5ac8e732",
   "metadata": {},
   "outputs": [
    {
     "data": {
      "text/html": [
       "<div>\n",
       "<style scoped>\n",
       "    .dataframe tbody tr th:only-of-type {\n",
       "        vertical-align: middle;\n",
       "    }\n",
       "\n",
       "    .dataframe tbody tr th {\n",
       "        vertical-align: top;\n",
       "    }\n",
       "\n",
       "    .dataframe thead th {\n",
       "        text-align: right;\n",
       "    }\n",
       "</style>\n",
       "<table border=\"1\" class=\"dataframe\">\n",
       "  <thead>\n",
       "    <tr style=\"text-align: right;\">\n",
       "      <th></th>\n",
       "      <th>marks</th>\n",
       "    </tr>\n",
       "    <tr>\n",
       "      <th>subject</th>\n",
       "      <th></th>\n",
       "    </tr>\n",
       "  </thead>\n",
       "  <tbody>\n",
       "    <tr>\n",
       "      <th>Chem</th>\n",
       "      <td>90.500000</td>\n",
       "    </tr>\n",
       "    <tr>\n",
       "      <th>Math</th>\n",
       "      <td>66.333333</td>\n",
       "    </tr>\n",
       "    <tr>\n",
       "      <th>Phy</th>\n",
       "      <td>85.000000</td>\n",
       "    </tr>\n",
       "  </tbody>\n",
       "</table>\n",
       "</div>"
      ],
      "text/plain": [
       "             marks\n",
       "subject           \n",
       "Chem     90.500000\n",
       "Math     66.333333\n",
       "Phy      85.000000"
      ]
     },
     "execution_count": 91,
     "metadata": {},
     "output_type": "execute_result"
    }
   ],
   "source": [
    "s1.groupby('subject').mean()"
   ]
  },
  {
   "cell_type": "code",
   "execution_count": 92,
   "id": "32cf39ec",
   "metadata": {},
   "outputs": [
    {
     "name": "stderr",
     "output_type": "stream",
     "text": [
      "C:\\Users\\Administrator\\AppData\\Local\\Temp\\ipykernel_16888\\4203426239.py:1: FutureWarning: Dropping of nuisance columns in DataFrame reductions (with 'numeric_only=None') is deprecated; in a future version this will raise TypeError.  Select only valid columns before calling the reduction.\n",
      "  s1.mean()\n"
     ]
    },
    {
     "data": {
      "text/plain": [
       "marks    79.375\n",
       "dtype: float64"
      ]
     },
     "execution_count": 92,
     "metadata": {},
     "output_type": "execute_result"
    }
   ],
   "source": [
    "s1.mean()"
   ]
  },
  {
   "cell_type": "code",
   "execution_count": 93,
   "id": "348797b8",
   "metadata": {},
   "outputs": [
    {
     "data": {
      "text/html": [
       "<div>\n",
       "<style scoped>\n",
       "    .dataframe tbody tr th:only-of-type {\n",
       "        vertical-align: middle;\n",
       "    }\n",
       "\n",
       "    .dataframe tbody tr th {\n",
       "        vertical-align: top;\n",
       "    }\n",
       "\n",
       "    .dataframe thead th {\n",
       "        text-align: right;\n",
       "    }\n",
       "</style>\n",
       "<table border=\"1\" class=\"dataframe\">\n",
       "  <thead>\n",
       "    <tr style=\"text-align: right;\">\n",
       "      <th></th>\n",
       "      <th>marks</th>\n",
       "    </tr>\n",
       "  </thead>\n",
       "  <tbody>\n",
       "    <tr>\n",
       "      <th>count</th>\n",
       "      <td>8.000000</td>\n",
       "    </tr>\n",
       "    <tr>\n",
       "      <th>mean</th>\n",
       "      <td>79.375000</td>\n",
       "    </tr>\n",
       "    <tr>\n",
       "      <th>std</th>\n",
       "      <td>13.222681</td>\n",
       "    </tr>\n",
       "    <tr>\n",
       "      <th>min</th>\n",
       "      <td>54.000000</td>\n",
       "    </tr>\n",
       "    <tr>\n",
       "      <th>25%</th>\n",
       "      <td>75.250000</td>\n",
       "    </tr>\n",
       "    <tr>\n",
       "      <th>50%</th>\n",
       "      <td>82.500000</td>\n",
       "    </tr>\n",
       "    <tr>\n",
       "      <th>75%</th>\n",
       "      <td>89.250000</td>\n",
       "    </tr>\n",
       "    <tr>\n",
       "      <th>max</th>\n",
       "      <td>92.000000</td>\n",
       "    </tr>\n",
       "  </tbody>\n",
       "</table>\n",
       "</div>"
      ],
      "text/plain": [
       "           marks\n",
       "count   8.000000\n",
       "mean   79.375000\n",
       "std    13.222681\n",
       "min    54.000000\n",
       "25%    75.250000\n",
       "50%    82.500000\n",
       "75%    89.250000\n",
       "max    92.000000"
      ]
     },
     "execution_count": 93,
     "metadata": {},
     "output_type": "execute_result"
    }
   ],
   "source": [
    "s1.describe()"
   ]
  },
  {
   "cell_type": "code",
   "execution_count": 1,
   "id": "a6f9bf12",
   "metadata": {},
   "outputs": [
    {
     "data": {
      "text/html": [
       "<div>\n",
       "<style scoped>\n",
       "    .dataframe tbody tr th:only-of-type {\n",
       "        vertical-align: middle;\n",
       "    }\n",
       "\n",
       "    .dataframe tbody tr th {\n",
       "        vertical-align: top;\n",
       "    }\n",
       "\n",
       "    .dataframe thead th {\n",
       "        text-align: right;\n",
       "    }\n",
       "</style>\n",
       "<table border=\"1\" class=\"dataframe\">\n",
       "  <thead>\n",
       "    <tr style=\"text-align: right;\">\n",
       "      <th></th>\n",
       "      <th>Age</th>\n",
       "      <th>Gluclose level</th>\n",
       "    </tr>\n",
       "  </thead>\n",
       "  <tbody>\n",
       "    <tr>\n",
       "      <th>0</th>\n",
       "      <td>43</td>\n",
       "      <td>99</td>\n",
       "    </tr>\n",
       "    <tr>\n",
       "      <th>1</th>\n",
       "      <td>21</td>\n",
       "      <td>65</td>\n",
       "    </tr>\n",
       "    <tr>\n",
       "      <th>2</th>\n",
       "      <td>25</td>\n",
       "      <td>79</td>\n",
       "    </tr>\n",
       "    <tr>\n",
       "      <th>3</th>\n",
       "      <td>42</td>\n",
       "      <td>75</td>\n",
       "    </tr>\n",
       "    <tr>\n",
       "      <th>4</th>\n",
       "      <td>57</td>\n",
       "      <td>87</td>\n",
       "    </tr>\n",
       "    <tr>\n",
       "      <th>5</th>\n",
       "      <td>59</td>\n",
       "      <td>81</td>\n",
       "    </tr>\n",
       "  </tbody>\n",
       "</table>\n",
       "</div>"
      ],
      "text/plain": [
       "   Age  Gluclose level\n",
       "0   43              99\n",
       "1   21              65\n",
       "2   25              79\n",
       "3   42              75\n",
       "4   57              87\n",
       "5   59              81"
      ]
     },
     "execution_count": 1,
     "metadata": {},
     "output_type": "execute_result"
    }
   ],
   "source": [
    "data={'Age':[43,21,25,42,57,59],\n",
    "     'Gluclose level':[99,65,79,75,87,81]}\n",
    "import pandas as pd\n",
    "d1=pd.DataFrame(data)\n",
    "d1"
   ]
  },
  {
   "cell_type": "code",
   "execution_count": 2,
   "id": "1da07af0",
   "metadata": {},
   "outputs": [
    {
     "data": {
      "text/html": [
       "<div>\n",
       "<style scoped>\n",
       "    .dataframe tbody tr th:only-of-type {\n",
       "        vertical-align: middle;\n",
       "    }\n",
       "\n",
       "    .dataframe tbody tr th {\n",
       "        vertical-align: top;\n",
       "    }\n",
       "\n",
       "    .dataframe thead th {\n",
       "        text-align: right;\n",
       "    }\n",
       "</style>\n",
       "<table border=\"1\" class=\"dataframe\">\n",
       "  <thead>\n",
       "    <tr style=\"text-align: right;\">\n",
       "      <th></th>\n",
       "      <th>Age</th>\n",
       "      <th>Gluclose level</th>\n",
       "    </tr>\n",
       "  </thead>\n",
       "  <tbody>\n",
       "    <tr>\n",
       "      <th>Age</th>\n",
       "      <td>1.000000</td>\n",
       "      <td>0.529809</td>\n",
       "    </tr>\n",
       "    <tr>\n",
       "      <th>Gluclose level</th>\n",
       "      <td>0.529809</td>\n",
       "      <td>1.000000</td>\n",
       "    </tr>\n",
       "  </tbody>\n",
       "</table>\n",
       "</div>"
      ],
      "text/plain": [
       "                     Age  Gluclose level\n",
       "Age             1.000000        0.529809\n",
       "Gluclose level  0.529809        1.000000"
      ]
     },
     "execution_count": 2,
     "metadata": {},
     "output_type": "execute_result"
    }
   ],
   "source": [
    "d1.corr()"
   ]
  },
  {
   "cell_type": "code",
   "execution_count": 3,
   "id": "274dfb30",
   "metadata": {},
   "outputs": [
    {
     "data": {
      "text/html": [
       "<div>\n",
       "<style scoped>\n",
       "    .dataframe tbody tr th:only-of-type {\n",
       "        vertical-align: middle;\n",
       "    }\n",
       "\n",
       "    .dataframe tbody tr th {\n",
       "        vertical-align: top;\n",
       "    }\n",
       "\n",
       "    .dataframe thead th {\n",
       "        text-align: right;\n",
       "    }\n",
       "</style>\n",
       "<table border=\"1\" class=\"dataframe\">\n",
       "  <thead>\n",
       "    <tr style=\"text-align: right;\">\n",
       "      <th></th>\n",
       "      <th>Bahubali part 1</th>\n",
       "      <th>Bahubali part 2</th>\n",
       "    </tr>\n",
       "  </thead>\n",
       "  <tbody>\n",
       "    <tr>\n",
       "      <th>0</th>\n",
       "      <td>4</td>\n",
       "      <td>3</td>\n",
       "    </tr>\n",
       "    <tr>\n",
       "      <th>1</th>\n",
       "      <td>2</td>\n",
       "      <td>4</td>\n",
       "    </tr>\n",
       "    <tr>\n",
       "      <th>2</th>\n",
       "      <td>3</td>\n",
       "      <td>2</td>\n",
       "    </tr>\n",
       "    <tr>\n",
       "      <th>3</th>\n",
       "      <td>5</td>\n",
       "      <td>5</td>\n",
       "    </tr>\n",
       "    <tr>\n",
       "      <th>4</th>\n",
       "      <td>1</td>\n",
       "      <td>3</td>\n",
       "    </tr>\n",
       "  </tbody>\n",
       "</table>\n",
       "</div>"
      ],
      "text/plain": [
       "   Bahubali part 1  Bahubali part 2\n",
       "0                4                3\n",
       "1                2                4\n",
       "2                3                2\n",
       "3                5                5\n",
       "4                1                3"
      ]
     },
     "execution_count": 3,
     "metadata": {},
     "output_type": "execute_result"
    }
   ],
   "source": [
    "data={'Bahubali part 1':[4,2,3,5,1],\n",
    "     'Bahubali part 2':[3,4,2,5,3]}\n",
    "import pandas as pd\n",
    "d1=pd.DataFrame(data)\n",
    "d1"
   ]
  },
  {
   "cell_type": "code",
   "execution_count": 4,
   "id": "79e27e2a",
   "metadata": {},
   "outputs": [
    {
     "data": {
      "text/html": [
       "<div>\n",
       "<style scoped>\n",
       "    .dataframe tbody tr th:only-of-type {\n",
       "        vertical-align: middle;\n",
       "    }\n",
       "\n",
       "    .dataframe tbody tr th {\n",
       "        vertical-align: top;\n",
       "    }\n",
       "\n",
       "    .dataframe thead th {\n",
       "        text-align: right;\n",
       "    }\n",
       "</style>\n",
       "<table border=\"1\" class=\"dataframe\">\n",
       "  <thead>\n",
       "    <tr style=\"text-align: right;\">\n",
       "      <th></th>\n",
       "      <th>Bahubali part 1</th>\n",
       "      <th>Bahubali part 2</th>\n",
       "    </tr>\n",
       "  </thead>\n",
       "  <tbody>\n",
       "    <tr>\n",
       "      <th>Bahubali part 1</th>\n",
       "      <td>1.000000</td>\n",
       "      <td>0.416025</td>\n",
       "    </tr>\n",
       "    <tr>\n",
       "      <th>Bahubali part 2</th>\n",
       "      <td>0.416025</td>\n",
       "      <td>1.000000</td>\n",
       "    </tr>\n",
       "  </tbody>\n",
       "</table>\n",
       "</div>"
      ],
      "text/plain": [
       "                 Bahubali part 1  Bahubali part 2\n",
       "Bahubali part 1         1.000000         0.416025\n",
       "Bahubali part 2         0.416025         1.000000"
      ]
     },
     "execution_count": 4,
     "metadata": {},
     "output_type": "execute_result"
    }
   ],
   "source": [
    "d1.corr()"
   ]
  },
  {
   "cell_type": "code",
   "execution_count": null,
   "id": "58faafdb",
   "metadata": {},
   "outputs": [],
   "source": [
    "1 2 3 4 5\n",
    "3 4 2 3 5"
   ]
  },
  {
   "cell_type": "markdown",
   "id": "9d07d12a",
   "metadata": {},
   "source": [
    "Linear regression"
   ]
  },
  {
   "cell_type": "code",
   "execution_count": 20,
   "id": "18567b26",
   "metadata": {},
   "outputs": [
    {
     "data": {
      "text/html": [
       "<div>\n",
       "<style scoped>\n",
       "    .dataframe tbody tr th:only-of-type {\n",
       "        vertical-align: middle;\n",
       "    }\n",
       "\n",
       "    .dataframe tbody tr th {\n",
       "        vertical-align: top;\n",
       "    }\n",
       "\n",
       "    .dataframe thead th {\n",
       "        text-align: right;\n",
       "    }\n",
       "</style>\n",
       "<table border=\"1\" class=\"dataframe\">\n",
       "  <thead>\n",
       "    <tr style=\"text-align: right;\">\n",
       "      <th></th>\n",
       "      <th>Bahubali part 1</th>\n",
       "      <th>Bahubali part 2</th>\n",
       "    </tr>\n",
       "  </thead>\n",
       "  <tbody>\n",
       "    <tr>\n",
       "      <th>0</th>\n",
       "      <td>4</td>\n",
       "      <td>3</td>\n",
       "    </tr>\n",
       "    <tr>\n",
       "      <th>1</th>\n",
       "      <td>2</td>\n",
       "      <td>4</td>\n",
       "    </tr>\n",
       "    <tr>\n",
       "      <th>2</th>\n",
       "      <td>3</td>\n",
       "      <td>2</td>\n",
       "    </tr>\n",
       "    <tr>\n",
       "      <th>3</th>\n",
       "      <td>5</td>\n",
       "      <td>5</td>\n",
       "    </tr>\n",
       "    <tr>\n",
       "      <th>4</th>\n",
       "      <td>1</td>\n",
       "      <td>3</td>\n",
       "    </tr>\n",
       "  </tbody>\n",
       "</table>\n",
       "</div>"
      ],
      "text/plain": [
       "   Bahubali part 1  Bahubali part 2\n",
       "0                4                3\n",
       "1                2                4\n",
       "2                3                2\n",
       "3                5                5\n",
       "4                1                3"
      ]
     },
     "execution_count": 20,
     "metadata": {},
     "output_type": "execute_result"
    }
   ],
   "source": [
    "data={'Bahubali part 1':[4,2,3,5,1],\n",
    "     'Bahubali part 2':[3,4,2,5,3]}\n",
    "import pandas as pd\n",
    "d1=pd.DataFrame(data)\n",
    "d1"
   ]
  },
  {
   "cell_type": "code",
   "execution_count": 21,
   "id": "48df1f7b",
   "metadata": {},
   "outputs": [],
   "source": [
    "#importing library for regression\n",
    "from sklearn.linear_model import LinearRegression\n",
    "#create object of algorithm\n",
    "lr=LinearRegression()"
   ]
  },
  {
   "cell_type": "code",
   "execution_count": 22,
   "id": "90e1b492",
   "metadata": {},
   "outputs": [
    {
     "data": {
      "text/plain": [
       "LinearRegression()"
      ]
     },
     "execution_count": 22,
     "metadata": {},
     "output_type": "execute_result"
    }
   ],
   "source": [
    "#fit() method\n",
    "x=d1[['Bahubali part 1']]\n",
    "y=d1[['Bahubali part 2']]\n",
    "lr.fit(x,y)"
   ]
  },
  {
   "cell_type": "code",
   "execution_count": 23,
   "id": "5bec26d9",
   "metadata": {},
   "outputs": [
    {
     "data": {
      "text/plain": [
       "array([2.5])"
      ]
     },
     "execution_count": 23,
     "metadata": {},
     "output_type": "execute_result"
    }
   ],
   "source": [
    "lr.intercept_"
   ]
  },
  {
   "cell_type": "code",
   "execution_count": 24,
   "id": "e4f5ffa1",
   "metadata": {},
   "outputs": [
    {
     "data": {
      "text/plain": [
       "array([[0.3]])"
      ]
     },
     "execution_count": 24,
     "metadata": {},
     "output_type": "execute_result"
    }
   ],
   "source": [
    "lr.coef_ #slope"
   ]
  },
  {
   "cell_type": "code",
   "execution_count": 25,
   "id": "82843cbd",
   "metadata": {},
   "outputs": [
    {
     "data": {
      "text/plain": [
       "3.4"
      ]
     },
     "execution_count": 25,
     "metadata": {},
     "output_type": "execute_result"
    }
   ],
   "source": [
    "2.5+(0.3)*3"
   ]
  },
  {
   "cell_type": "code",
   "execution_count": 26,
   "id": "4b559a23",
   "metadata": {},
   "outputs": [
    {
     "name": "stderr",
     "output_type": "stream",
     "text": [
      "C:\\Users\\Administrator\\anaconda3\\lib\\site-packages\\sklearn\\base.py:450: UserWarning: X does not have valid feature names, but LinearRegression was fitted with feature names\n",
      "  warnings.warn(\n"
     ]
    },
    {
     "data": {
      "text/plain": [
       "array([[3.4]])"
      ]
     },
     "execution_count": 26,
     "metadata": {},
     "output_type": "execute_result"
    }
   ],
   "source": [
    "lr.predict([[3]])"
   ]
  },
  {
   "cell_type": "code",
   "execution_count": 27,
   "id": "7c4339f9",
   "metadata": {},
   "outputs": [
    {
     "data": {
      "text/plain": [
       "array([[3.7],\n",
       "       [3.1],\n",
       "       [3.4],\n",
       "       [4. ],\n",
       "       [2.8]])"
      ]
     },
     "execution_count": 27,
     "metadata": {},
     "output_type": "execute_result"
    }
   ],
   "source": [
    "y_pred=lr.predict(x)\n",
    "y_pred"
   ]
  },
  {
   "cell_type": "markdown",
   "id": "8df8a541",
   "metadata": {},
   "source": [
    "Linear regression is used to find best straight line equation"
   ]
  },
  {
   "cell_type": "code",
   "execution_count": 28,
   "id": "c6c30c6c",
   "metadata": {},
   "outputs": [
    {
     "data": {
      "text/plain": [
       "2.5"
      ]
     },
     "execution_count": 28,
     "metadata": {},
     "output_type": "execute_result"
    }
   ],
   "source": [
    "2.5+(0.3)*0"
   ]
  },
  {
   "cell_type": "code",
   "execution_count": 29,
   "id": "84af18f6",
   "metadata": {},
   "outputs": [
    {
     "data": {
      "text/plain": [
       "LinregressResult(slope=0.30000000000000004, intercept=2.5, rvalue=0.41602514716892186, pvalue=0.4860036297301701, stderr=0.37859388972001823, intercept_stderr=1.2556538801224908)"
      ]
     },
     "execution_count": 29,
     "metadata": {},
     "output_type": "execute_result"
    }
   ],
   "source": [
    "import matplotlib.pyplot as plt\n",
    "from scipy import stats\n",
    "x=[4,2,3,5,1]\n",
    "y=[3,4,2,5,3]\n",
    "stats.linregress(x,y)"
   ]
  },
  {
   "cell_type": "code",
   "execution_count": 30,
   "id": "327a8604",
   "metadata": {},
   "outputs": [
    {
     "name": "stdout",
     "output_type": "stream",
     "text": [
      "0.3 2.5\n"
     ]
    }
   ],
   "source": [
    "slope=0.3\n",
    "intercept=2.5\n",
    "print(slope,intercept)"
   ]
  },
  {
   "cell_type": "code",
   "execution_count": 34,
   "id": "3fdda79e",
   "metadata": {},
   "outputs": [
    {
     "data": {
      "text/plain": [
       "[<matplotlib.lines.Line2D at 0x299897a5fd0>]"
      ]
     },
     "execution_count": 34,
     "metadata": {},
     "output_type": "execute_result"
    },
    {
     "data": {
      "image/png": "[encoded data removed]",
      "text/plain": [
       "<Figure size 432x288 with 1 Axes>"
      ]
     },
     "metadata": {
      "needs_background": "light"
     },
     "output_type": "display_data"
    }
   ],
   "source": [
    "plt.scatter(x,y)\n",
    "plt.title(\"Bahubali Part vs Bahubali Part 2\")\n",
    "plt.xlabel('Bahubali Part 1')\n",
    "plt.ylabel('Bahubali Part 2')\n",
    "plt.plot(x,y_pred)"
   ]
  },
  {
   "cell_type": "code",
   "execution_count": 45,
   "id": "88136329",
   "metadata": {},
   "outputs": [
    {
     "data": {
      "text/plain": [
       "[<matplotlib.lines.Line2D at 0x2998d2114c0>]"
      ]
     },
     "execution_count": 45,
     "metadata": {},
     "output_type": "execute_result"
    },
    {
     "data": {
      "image/png": "[encoded data removed]",
      "text/plain": [
       "<Figure size 432x288 with 1 Axes>"
      ]
     },
     "metadata": {
      "needs_background": "light"
     },
     "output_type": "display_data"
    }
   ],
   "source": [
    "import matplotlib.pyplot as plt\n",
    "x=[4,2,3,5,1] #input\n",
    "y=[3,4,2,5,3] #actual output\n",
    "y_pred=[3.7,3.1,3.4,4,2.8] #predicted output\n",
    "plt.title(\"Bahubali Part vs Bahubali Part 2\")\n",
    "plt.xlabel('Bahubali Part 1')\n",
    "plt.ylabel('Bahubali Part 2')\n",
    "plt.scatter(x,y,color='r',marker='*',s=50) #input +actual output\n",
    "plt.scatter(x,y_pred,color='b')#input+predicted output\n",
    "plt.plot(x,y_pred)"
   ]
  },
  {
   "cell_type": "code",
   "execution_count": 2,
   "id": "3b8d4e17",
   "metadata": {},
   "outputs": [
    {
     "data": {
      "text/html": [
       "<div>\n",
       "<style scoped>\n",
       "    .dataframe tbody tr th:only-of-type {\n",
       "        vertical-align: middle;\n",
       "    }\n",
       "\n",
       "    .dataframe tbody tr th {\n",
       "        vertical-align: top;\n",
       "    }\n",
       "\n",
       "    .dataframe thead th {\n",
       "        text-align: right;\n",
       "    }\n",
       "</style>\n",
       "<table border=\"1\" class=\"dataframe\">\n",
       "  <thead>\n",
       "    <tr style=\"text-align: right;\">\n",
       "      <th></th>\n",
       "      <th>Product</th>\n",
       "      <th>Age</th>\n",
       "      <th>Gender</th>\n",
       "      <th>Education</th>\n",
       "      <th>MaritalStatus</th>\n",
       "      <th>Usage</th>\n",
       "      <th>Fitness</th>\n",
       "      <th>Income</th>\n",
       "      <th>Miles</th>\n",
       "    </tr>\n",
       "  </thead>\n",
       "  <tbody>\n",
       "    <tr>\n",
       "      <th>0</th>\n",
       "      <td>TM195</td>\n",
       "      <td>18</td>\n",
       "      <td>Male</td>\n",
       "      <td>14</td>\n",
       "      <td>Single</td>\n",
       "      <td>3</td>\n",
       "      <td>4</td>\n",
       "      <td>29562</td>\n",
       "      <td>112</td>\n",
       "    </tr>\n",
       "    <tr>\n",
       "      <th>1</th>\n",
       "      <td>TM195</td>\n",
       "      <td>19</td>\n",
       "      <td>Male</td>\n",
       "      <td>15</td>\n",
       "      <td>Single</td>\n",
       "      <td>2</td>\n",
       "      <td>3</td>\n",
       "      <td>31836</td>\n",
       "      <td>75</td>\n",
       "    </tr>\n",
       "    <tr>\n",
       "      <th>2</th>\n",
       "      <td>TM195</td>\n",
       "      <td>19</td>\n",
       "      <td>Female</td>\n",
       "      <td>14</td>\n",
       "      <td>Partnered</td>\n",
       "      <td>4</td>\n",
       "      <td>3</td>\n",
       "      <td>30699</td>\n",
       "      <td>66</td>\n",
       "    </tr>\n",
       "    <tr>\n",
       "      <th>3</th>\n",
       "      <td>TM195</td>\n",
       "      <td>19</td>\n",
       "      <td>Male</td>\n",
       "      <td>12</td>\n",
       "      <td>Single</td>\n",
       "      <td>3</td>\n",
       "      <td>3</td>\n",
       "      <td>32973</td>\n",
       "      <td>85</td>\n",
       "    </tr>\n",
       "    <tr>\n",
       "      <th>4</th>\n",
       "      <td>TM195</td>\n",
       "      <td>20</td>\n",
       "      <td>Male</td>\n",
       "      <td>13</td>\n",
       "      <td>Partnered</td>\n",
       "      <td>4</td>\n",
       "      <td>2</td>\n",
       "      <td>35247</td>\n",
       "      <td>47</td>\n",
       "    </tr>\n",
       "    <tr>\n",
       "      <th>...</th>\n",
       "      <td>...</td>\n",
       "      <td>...</td>\n",
       "      <td>...</td>\n",
       "      <td>...</td>\n",
       "      <td>...</td>\n",
       "      <td>...</td>\n",
       "      <td>...</td>\n",
       "      <td>...</td>\n",
       "      <td>...</td>\n",
       "    </tr>\n",
       "    <tr>\n",
       "      <th>175</th>\n",
       "      <td>TM798</td>\n",
       "      <td>40</td>\n",
       "      <td>Male</td>\n",
       "      <td>21</td>\n",
       "      <td>Single</td>\n",
       "      <td>6</td>\n",
       "      <td>5</td>\n",
       "      <td>83416</td>\n",
       "      <td>200</td>\n",
       "    </tr>\n",
       "    <tr>\n",
       "      <th>176</th>\n",
       "      <td>TM798</td>\n",
       "      <td>42</td>\n",
       "      <td>Male</td>\n",
       "      <td>18</td>\n",
       "      <td>Single</td>\n",
       "      <td>5</td>\n",
       "      <td>4</td>\n",
       "      <td>89641</td>\n",
       "      <td>200</td>\n",
       "    </tr>\n",
       "    <tr>\n",
       "      <th>177</th>\n",
       "      <td>TM798</td>\n",
       "      <td>45</td>\n",
       "      <td>Male</td>\n",
       "      <td>16</td>\n",
       "      <td>Single</td>\n",
       "      <td>5</td>\n",
       "      <td>5</td>\n",
       "      <td>90886</td>\n",
       "      <td>160</td>\n",
       "    </tr>\n",
       "    <tr>\n",
       "      <th>178</th>\n",
       "      <td>TM798</td>\n",
       "      <td>47</td>\n",
       "      <td>Male</td>\n",
       "      <td>18</td>\n",
       "      <td>Partnered</td>\n",
       "      <td>4</td>\n",
       "      <td>5</td>\n",
       "      <td>104581</td>\n",
       "      <td>120</td>\n",
       "    </tr>\n",
       "    <tr>\n",
       "      <th>179</th>\n",
       "      <td>TM798</td>\n",
       "      <td>48</td>\n",
       "      <td>Male</td>\n",
       "      <td>18</td>\n",
       "      <td>Partnered</td>\n",
       "      <td>4</td>\n",
       "      <td>5</td>\n",
       "      <td>95508</td>\n",
       "      <td>180</td>\n",
       "    </tr>\n",
       "  </tbody>\n",
       "</table>\n",
       "<p>180 rows × 9 columns</p>\n",
       "</div>"
      ],
      "text/plain": [
       "    Product  Age  Gender  Education MaritalStatus  Usage  Fitness  Income  \\\n",
       "0     TM195   18    Male         14        Single      3        4   29562   \n",
       "1     TM195   19    Male         15        Single      2        3   31836   \n",
       "2     TM195   19  Female         14     Partnered      4        3   30699   \n",
       "3     TM195   19    Male         12        Single      3        3   32973   \n",
       "4     TM195   20    Male         13     Partnered      4        2   35247   \n",
       "..      ...  ...     ...        ...           ...    ...      ...     ...   \n",
       "175   TM798   40    Male         21        Single      6        5   83416   \n",
       "176   TM798   42    Male         18        Single      5        4   89641   \n",
       "177   TM798   45    Male         16        Single      5        5   90886   \n",
       "178   TM798   47    Male         18     Partnered      4        5  104581   \n",
       "179   TM798   48    Male         18     Partnered      4        5   95508   \n",
       "\n",
       "     Miles  \n",
       "0      112  \n",
       "1       75  \n",
       "2       66  \n",
       "3       85  \n",
       "4       47  \n",
       "..     ...  \n",
       "175    200  \n",
       "176    200  \n",
       "177    160  \n",
       "178    120  \n",
       "179    180  \n",
       "\n",
       "[180 rows x 9 columns]"
      ]
     },
     "execution_count": 2,
     "metadata": {},
     "output_type": "execute_result"
    }
   ],
   "source": [
    "import pandas as pd\n",
    "#convert csv file into pandas dataframe\n",
    "data=pd.read_csv(r\"E:\\Backup\\Datasets\\CardioGoodFitness.csv\")\n",
    "data"
   ]
  },
  {
   "cell_type": "code",
   "execution_count": 3,
   "id": "613fffe3",
   "metadata": {},
   "outputs": [
    {
     "name": "stdout",
     "output_type": "stream",
     "text": [
      "<class 'pandas.core.frame.DataFrame'>\n",
      "RangeIndex: 180 entries, 0 to 179\n",
      "Data columns (total 9 columns):\n",
      " #   Column         Non-Null Count  Dtype \n",
      "---  ------         --------------  ----- \n",
      " 0   Product        180 non-null    object\n",
      " 1   Age            180 non-null    int64 \n",
      " 2   Gender         180 non-null    object\n",
      " 3   Education      180 non-null    int64 \n",
      " 4   MaritalStatus  180 non-null    object\n",
      " 5   Usage          180 non-null    int64 \n",
      " 6   Fitness        180 non-null    int64 \n",
      " 7   Income         180 non-null    int64 \n",
      " 8   Miles          180 non-null    int64 \n",
      "dtypes: int64(6), object(3)\n",
      "memory usage: 12.8+ KB\n"
     ]
    }
   ],
   "source": [
    "data.info()"
   ]
  },
  {
   "cell_type": "code",
   "execution_count": 5,
   "id": "2354297c",
   "metadata": {},
   "outputs": [
    {
     "data": {
      "text/plain": [
       "Index(['Product', 'Age', 'Gender', 'Education', 'MaritalStatus', 'Usage',\n",
       "       'Fitness', 'Income', 'Miles'],\n",
       "      dtype='object')"
      ]
     },
     "execution_count": 5,
     "metadata": {},
     "output_type": "execute_result"
    }
   ],
   "source": [
    "data.columns"
   ]
  },
  {
   "cell_type": "code",
   "execution_count": null,
   "id": "317eed66",
   "metadata": {},
   "outputs": [],
   "source": [
    "data=data[['Age','Education','Usage','Fitness','Income','Miles']]"
   ]
  },
  {
   "cell_type": "code",
   "execution_count": 6,
   "id": "e3b4996e",
   "metadata": {},
   "outputs": [
    {
     "data": {
      "text/html": [
       "<div>\n",
       "<style scoped>\n",
       "    .dataframe tbody tr th:only-of-type {\n",
       "        vertical-align: middle;\n",
       "    }\n",
       "\n",
       "    .dataframe tbody tr th {\n",
       "        vertical-align: top;\n",
       "    }\n",
       "\n",
       "    .dataframe thead th {\n",
       "        text-align: right;\n",
       "    }\n",
       "</style>\n",
       "<table border=\"1\" class=\"dataframe\">\n",
       "  <thead>\n",
       "    <tr style=\"text-align: right;\">\n",
       "      <th></th>\n",
       "      <th>Age</th>\n",
       "      <th>Education</th>\n",
       "      <th>Usage</th>\n",
       "      <th>Fitness</th>\n",
       "      <th>Income</th>\n",
       "      <th>Miles</th>\n",
       "    </tr>\n",
       "  </thead>\n",
       "  <tbody>\n",
       "    <tr>\n",
       "      <th>Age</th>\n",
       "      <td>1.000000</td>\n",
       "      <td>0.280496</td>\n",
       "      <td>0.015064</td>\n",
       "      <td>0.061105</td>\n",
       "      <td>0.513414</td>\n",
       "      <td>0.036618</td>\n",
       "    </tr>\n",
       "    <tr>\n",
       "      <th>Education</th>\n",
       "      <td>0.280496</td>\n",
       "      <td>1.000000</td>\n",
       "      <td>0.395155</td>\n",
       "      <td>0.410581</td>\n",
       "      <td>0.625827</td>\n",
       "      <td>0.307284</td>\n",
       "    </tr>\n",
       "    <tr>\n",
       "      <th>Usage</th>\n",
       "      <td>0.015064</td>\n",
       "      <td>0.395155</td>\n",
       "      <td>1.000000</td>\n",
       "      <td>0.668606</td>\n",
       "      <td>0.519537</td>\n",
       "      <td>0.759130</td>\n",
       "    </tr>\n",
       "    <tr>\n",
       "      <th>Fitness</th>\n",
       "      <td>0.061105</td>\n",
       "      <td>0.410581</td>\n",
       "      <td>0.668606</td>\n",
       "      <td>1.000000</td>\n",
       "      <td>0.535005</td>\n",
       "      <td>0.785702</td>\n",
       "    </tr>\n",
       "    <tr>\n",
       "      <th>Income</th>\n",
       "      <td>0.513414</td>\n",
       "      <td>0.625827</td>\n",
       "      <td>0.519537</td>\n",
       "      <td>0.535005</td>\n",
       "      <td>1.000000</td>\n",
       "      <td>0.543473</td>\n",
       "    </tr>\n",
       "    <tr>\n",
       "      <th>Miles</th>\n",
       "      <td>0.036618</td>\n",
       "      <td>0.307284</td>\n",
       "      <td>0.759130</td>\n",
       "      <td>0.785702</td>\n",
       "      <td>0.543473</td>\n",
       "      <td>1.000000</td>\n",
       "    </tr>\n",
       "  </tbody>\n",
       "</table>\n",
       "</div>"
      ],
      "text/plain": [
       "                Age  Education     Usage   Fitness    Income     Miles\n",
       "Age        1.000000   0.280496  0.015064  0.061105  0.513414  0.036618\n",
       "Education  0.280496   1.000000  0.395155  0.410581  0.625827  0.307284\n",
       "Usage      0.015064   0.395155  1.000000  0.668606  0.519537  0.759130\n",
       "Fitness    0.061105   0.410581  0.668606  1.000000  0.535005  0.785702\n",
       "Income     0.513414   0.625827  0.519537  0.535005  1.000000  0.543473\n",
       "Miles      0.036618   0.307284  0.759130  0.785702  0.543473  1.000000"
      ]
     },
     "execution_count": 6,
     "metadata": {},
     "output_type": "execute_result"
    }
   ],
   "source": [
    "c1=data.corr()\n",
    "c1"
   ]
  },
  {
   "cell_type": "code",
   "execution_count": 8,
   "id": "1ed4fa5c",
   "metadata": {},
   "outputs": [
    {
     "data": {
      "text/plain": [
       "<AxesSubplot:>"
      ]
     },
     "execution_count": 8,
     "metadata": {},
     "output_type": "execute_result"
    },
    {
     "data": {
      "image/png": "[encoded data removed]",
      "text/plain": [
       "<Figure size 432x288 with 2 Axes>"
      ]
     },
     "metadata": {
      "needs_background": "light"
     },
     "output_type": "display_data"
    }
   ],
   "source": [
    "import seaborn as sns\n",
    "sns.heatmap(c1,annot=True)"
   ]
  },
  {
   "cell_type": "code",
   "execution_count": 9,
   "id": "c0a6234b",
   "metadata": {},
   "outputs": [],
   "source": [
    "#multiple linear regression\n",
    "#two inputs=>Usage,Fitness\n",
    "#one output=>Miles\n",
    "x=data[['Usage','Fitness']]\n",
    "y=data['Miles']"
   ]
  },
  {
   "cell_type": "code",
   "execution_count": 10,
   "id": "6b46f4ce",
   "metadata": {},
   "outputs": [
    {
     "data": {
      "text/plain": [
       "LinearRegression()"
      ]
     },
     "execution_count": 10,
     "metadata": {},
     "output_type": "execute_result"
    }
   ],
   "source": [
    "#linear regression\n",
    "#importing library\n",
    "from sklearn.linear_model import LinearRegression\n",
    "lr=LinearRegression()\n",
    "lr.fit(x,y)"
   ]
  },
  {
   "cell_type": "code",
   "execution_count": 11,
   "id": "845854ea",
   "metadata": {},
   "outputs": [
    {
     "data": {
      "text/plain": [
       "-56.74288178464862"
      ]
     },
     "execution_count": 11,
     "metadata": {},
     "output_type": "execute_result"
    }
   ],
   "source": [
    "lr.intercept_"
   ]
  },
  {
   "cell_type": "code",
   "execution_count": 12,
   "id": "bc5b2810",
   "metadata": {},
   "outputs": [
    {
     "data": {
      "text/plain": [
       "array([20.21486334, 27.20649954])"
      ]
     },
     "execution_count": 12,
     "metadata": {},
     "output_type": "execute_result"
    }
   ],
   "source": [
    "lr.coef_"
   ]
  },
  {
   "cell_type": "code",
   "execution_count": 13,
   "id": "29ff57a0",
   "metadata": {},
   "outputs": [
    {
     "data": {
      "text/html": [
       "<div>\n",
       "<style scoped>\n",
       "    .dataframe tbody tr th:only-of-type {\n",
       "        vertical-align: middle;\n",
       "    }\n",
       "\n",
       "    .dataframe tbody tr th {\n",
       "        vertical-align: top;\n",
       "    }\n",
       "\n",
       "    .dataframe thead th {\n",
       "        text-align: right;\n",
       "    }\n",
       "</style>\n",
       "<table border=\"1\" class=\"dataframe\">\n",
       "  <thead>\n",
       "    <tr style=\"text-align: right;\">\n",
       "      <th></th>\n",
       "      <th>Product</th>\n",
       "      <th>Age</th>\n",
       "      <th>Gender</th>\n",
       "      <th>Education</th>\n",
       "      <th>MaritalStatus</th>\n",
       "      <th>Usage</th>\n",
       "      <th>Fitness</th>\n",
       "      <th>Income</th>\n",
       "      <th>Miles</th>\n",
       "    </tr>\n",
       "  </thead>\n",
       "  <tbody>\n",
       "    <tr>\n",
       "      <th>174</th>\n",
       "      <td>TM798</td>\n",
       "      <td>38</td>\n",
       "      <td>Male</td>\n",
       "      <td>18</td>\n",
       "      <td>Partnered</td>\n",
       "      <td>5</td>\n",
       "      <td>5</td>\n",
       "      <td>104581</td>\n",
       "      <td>150</td>\n",
       "    </tr>\n",
       "  </tbody>\n",
       "</table>\n",
       "</div>"
      ],
      "text/plain": [
       "    Product  Age Gender  Education MaritalStatus  Usage  Fitness  Income  \\\n",
       "174   TM798   38   Male         18     Partnered      5        5  104581   \n",
       "\n",
       "     Miles  \n",
       "174    150  "
      ]
     },
     "execution_count": 13,
     "metadata": {},
     "output_type": "execute_result"
    }
   ],
   "source": [
    "data.sample()"
   ]
  },
  {
   "cell_type": "code",
   "execution_count": 15,
   "id": "9f6c5f44",
   "metadata": {},
   "outputs": [
    {
     "data": {
      "text/plain": [
       "180.36681438272475"
      ]
     },
     "execution_count": 15,
     "metadata": {},
     "output_type": "execute_result"
    }
   ],
   "source": [
    "#usage=>5\n",
    "#Fitness=>5\n",
    "#Miles=>?\n",
    "#y=a+b1x1+b2x2\n",
    "#a=>intercept\n",
    "#b1 and b2=>slopes\n",
    "(-56.74)+(lr.coef_[0]*5)+(lr.coef_[1]*5)"
   ]
  },
  {
   "cell_type": "code",
   "execution_count": 16,
   "id": "6320f808",
   "metadata": {},
   "outputs": [
    {
     "name": "stderr",
     "output_type": "stream",
     "text": [
      "C:\\Users\\Administrator\\anaconda3\\lib\\site-packages\\sklearn\\base.py:450: UserWarning: X does not have valid feature names, but LinearRegression was fitted with feature names\n",
      "  warnings.warn(\n"
     ]
    },
    {
     "data": {
      "text/plain": [
       "array([180.3639326])"
      ]
     },
     "execution_count": 16,
     "metadata": {},
     "output_type": "execute_result"
    }
   ],
   "source": [
    "lr.predict([[5,5]])"
   ]
  },
  {
   "cell_type": "code",
   "execution_count": 20,
   "id": "b53b56b6",
   "metadata": {},
   "outputs": [
    {
     "data": {
      "text/plain": [
       "[<matplotlib.lines.Line2D at 0x1a78d7575e0>]"
      ]
     },
     "execution_count": 20,
     "metadata": {},
     "output_type": "execute_result"
    },
    {
     "data": {
      "image/png": "[encoded data removed]",
      "text/plain": [
       "<Figure size 432x288 with 2 Axes>"
      ]
     },
     "metadata": {
      "needs_background": "light"
     },
     "output_type": "display_data"
    }
   ],
   "source": [
    "#Matplotlib library\n",
    "import matplotlib.pyplot as plt\n",
    "x=[2,3,6,7,9,10]\n",
    "y=[12,16,17,19,20,22]\n",
    "y1=[8,10,12,14,16,18]\n",
    "plt.title(\"Seperate two scatter plots\")\n",
    "plt.subplot(1,2,1)\n",
    "plt.scatter(x,y,marker='*',color='red',s=50)\n",
    "plt.plot(x,y,linestyle='-.')\n",
    "plt.xlabel(\"X-axis\")\n",
    "plt.ylabel(\"Y-axis\")\n",
    "plt.subplot(1,2,2)\n",
    "plt.scatter(x,y1,marker='o',color='green',s=50)\n",
    "plt.xlabel(\"X-axis\")\n",
    "plt.ylabel(\"Y-axis\")\n",
    "plt.plot(x,y1,linestyle=':')"
   ]
  },
  {
   "cell_type": "code",
   "execution_count": 21,
   "id": "df7c0801",
   "metadata": {},
   "outputs": [
    {
     "data": {
      "text/plain": [
       "<BarContainer object of 5 artists>"
      ]
     },
     "execution_count": 21,
     "metadata": {},
     "output_type": "execute_result"
    },
    {
     "data": {
      "image/png": "[encoded data removed]",
      "text/plain": [
       "<Figure size 432x288 with 1 Axes>"
      ]
     },
     "metadata": {
      "needs_background": "light"
     },
     "output_type": "display_data"
    }
   ],
   "source": [
    "stud_name=['Shweta','Pranali','Riddhi','Bhakti','Abhijeet']\n",
    "marks=[89,90,93,96,94]\n",
    "plt.bar(stud_name,marks)"
   ]
  },
  {
   "cell_type": "code",
   "execution_count": 10,
   "id": "c6aad631",
   "metadata": {},
   "outputs": [
    {
     "data": {
      "image/png": "[encoded data removed]",
      "text/plain": [
       "<Figure size 432x288 with 1 Axes>"
      ]
     },
     "metadata": {
      "needs_background": "light"
     },
     "output_type": "display_data"
    }
   ],
   "source": [
    "import matplotlib.pyplot as plt\n",
    "stud_name=['Shweta','Pranali','Riddhi','Bhakti','Abhijeet']\n",
    "marks=[89,90,93,96,94]\n",
    "plt.bar(stud_name,marks,color='cyan',edgecolor='r')\n",
    "plt.title(\"Bar graph for student performance\")\n",
    "plt.xlabel(\"Student Name\")\n",
    "plt.ylabel(\"Marks\")\n",
    "for i,g in enumerate(marks):\n",
    "    plt.text(i,g,f'{g}')\n",
    "plt.grid()"
   ]
  },
  {
   "cell_type": "code",
   "execution_count": 13,
   "id": "54806fbe",
   "metadata": {},
   "outputs": [
    {
     "name": "stdout",
     "output_type": "stream",
     "text": [
      "[35, 40, 45, 50, 70, 78, 89, 90, 93, 94, 96]\n"
     ]
    },
    {
     "data": {
      "text/plain": [
       "(array([4., 1., 6.]),\n",
       " array([35.        , 55.33333333, 75.66666667, 96.        ]),\n",
       " <BarContainer object of 3 artists>)"
      ]
     },
     "execution_count": 13,
     "metadata": {},
     "output_type": "execute_result"
    },
    {
     "data": {
      "image/png": "[encoded data removed]",
      "text/plain": [
       "<Figure size 432x288 with 1 Axes>"
      ]
     },
     "metadata": {
      "needs_background": "light"
     },
     "output_type": "display_data"
    }
   ],
   "source": [
    "#histogram graph\n",
    "marks=[50,70,45,78,35,40,89,90,93,96,94]\n",
    "marks.sort()\n",
    "print(marks)\n",
    "plt.hist(marks,bins=3)"
   ]
  },
  {
   "cell_type": "code",
   "execution_count": 18,
   "id": "e32a04bc",
   "metadata": {},
   "outputs": [
    {
     "data": {
      "image/png": "[encoded data removed]",
      "text/plain": [
       "<Figure size 432x288 with 1 Axes>"
      ]
     },
     "metadata": {},
     "output_type": "display_data"
    }
   ],
   "source": [
    "#pie chart\n",
    "language=['C','C++','JAVA','PYTHON','PHP']\n",
    "x=[25,35,60,75,80]\n",
    "#25+35+60+75+80=275\n",
    "#c=>2500/275=>9.09%\n",
    "plt.pie(x,labels=language,autopct=\"%1.2f%%\")\n",
    "plt.show()"
   ]
  },
  {
   "cell_type": "code",
   "execution_count": 44,
   "id": "d7c5bcdd",
   "metadata": {},
   "outputs": [
    {
     "name": "stdout",
     "output_type": "stream",
     "text": [
      "[0.76, 0.52, 0.35, 0.93, 1.0, 0.0, 0.22, 0.74, 0.46, 0.41]\n"
     ]
    }
   ],
   "source": [
    "from scipy.stats import norm\n",
    "import numpy as np\n",
    "import matplotlib.pyplot as plt\n",
    "stud_marks=np.array([78,65,56,87,91,37,49,77,62,59])\n",
    "max_marks=stud_marks.max()\n",
    "min_marks=stud_marks.min()\n",
    "prob_marks_list=[]\n",
    "for i in stud_marks:\n",
    "    prob_marks=(i-min_marks)/(max_marks-min_marks)\n",
    "    prob_marks=float(\"%.2f\" %prob_marks)\n",
    "    prob_marks_list.append(prob_marks)    \n",
    "print(prob_marks_list)    "
   ]
  },
  {
   "cell_type": "code",
   "execution_count": 80,
   "id": "1f669388",
   "metadata": {},
   "outputs": [
    {
     "name": "stdout",
     "output_type": "stream",
     "text": [
      "Mean of student marks 66.1\n",
      "Standard deviation of student marks 16.21\n"
     ]
    },
    {
     "ename": "ValueError",
     "evalue": "The truth value of an array with more than one element is ambiguous. Use a.any() or a.all()",
     "output_type": "error",
     "traceback": [
      "\u001b[1;31m---------------------------------------------------------------------------\u001b[0m",
      "\u001b[1;31mValueError\u001b[0m                                Traceback (most recent call last)",
      "Input \u001b[1;32mIn [80]\u001b[0m, in \u001b[0;36m<cell line: 11>\u001b[1;34m()\u001b[0m\n\u001b[0;32m      9\u001b[0m std_marks\u001b[38;5;241m=\u001b[39mstud_marks\u001b[38;5;241m.\u001b[39mstd()\n\u001b[0;32m     10\u001b[0m \u001b[38;5;28mprint\u001b[39m(\u001b[38;5;124m\"\u001b[39m\u001b[38;5;124mStandard deviation of student marks \u001b[39m\u001b[38;5;132;01m%.2f\u001b[39;00m\u001b[38;5;124m\"\u001b[39m \u001b[38;5;241m%\u001b[39mstd_marks)\n\u001b[1;32m---> 11\u001b[0m norm_stud_marks\u001b[38;5;241m=\u001b[39m\u001b[43mnorm\u001b[49m\u001b[38;5;241;43m.\u001b[39;49m\u001b[43mpdf\u001b[49m\u001b[43m(\u001b[49m\u001b[43m[\u001b[49m\u001b[43mstud_marks\u001b[49m\u001b[43m,\u001b[49m\u001b[43mmean_marks\u001b[49m\u001b[43m,\u001b[49m\u001b[43mstd_marks\u001b[49m\u001b[43m]\u001b[49m\u001b[43m)\u001b[49m\n\u001b[0;32m     12\u001b[0m \u001b[38;5;28mprint\u001b[39m(\u001b[38;5;124m\"\u001b[39m\u001b[38;5;124mAfter normalization a student marks \u001b[39m\u001b[38;5;124m\"\u001b[39m ,norm_stud_marks)\n\u001b[0;32m     13\u001b[0m stud_marks1\u001b[38;5;241m=\u001b[39mnp\u001b[38;5;241m.\u001b[39marange(min_marks,max_marks,\u001b[38;5;241m10\u001b[39m)\n",
      "File \u001b[1;32m~\\anaconda3\\lib\\site-packages\\scipy\\stats\\_distn_infrastructure.py:1872\u001b[0m, in \u001b[0;36mrv_continuous.pdf\u001b[1;34m(self, x, *args, **kwds)\u001b[0m\n\u001b[0;32m   1870\u001b[0m x \u001b[38;5;241m=\u001b[39m np\u001b[38;5;241m.\u001b[39masarray((x \u001b[38;5;241m-\u001b[39m loc)\u001b[38;5;241m/\u001b[39mscale, dtype\u001b[38;5;241m=\u001b[39mdtyp)\n\u001b[0;32m   1871\u001b[0m cond0 \u001b[38;5;241m=\u001b[39m \u001b[38;5;28mself\u001b[39m\u001b[38;5;241m.\u001b[39m_argcheck(\u001b[38;5;241m*\u001b[39margs) \u001b[38;5;241m&\u001b[39m (scale \u001b[38;5;241m>\u001b[39m \u001b[38;5;241m0\u001b[39m)\n\u001b[1;32m-> 1872\u001b[0m cond1 \u001b[38;5;241m=\u001b[39m \u001b[38;5;28;43mself\u001b[39;49m\u001b[38;5;241;43m.\u001b[39;49m\u001b[43m_support_mask\u001b[49m\u001b[43m(\u001b[49m\u001b[43mx\u001b[49m\u001b[43m,\u001b[49m\u001b[43m \u001b[49m\u001b[38;5;241;43m*\u001b[39;49m\u001b[43margs\u001b[49m\u001b[43m)\u001b[49m \u001b[38;5;241m&\u001b[39m (scale \u001b[38;5;241m>\u001b[39m \u001b[38;5;241m0\u001b[39m)\n\u001b[0;32m   1873\u001b[0m cond \u001b[38;5;241m=\u001b[39m cond0 \u001b[38;5;241m&\u001b[39m cond1\n\u001b[0;32m   1874\u001b[0m output \u001b[38;5;241m=\u001b[39m zeros(shape(cond), dtyp)\n",
      "File \u001b[1;32m~\\anaconda3\\lib\\site-packages\\scipy\\stats\\_distn_infrastructure.py:995\u001b[0m, in \u001b[0;36mrv_generic._support_mask\u001b[1;34m(self, x, *args)\u001b[0m\n\u001b[0;32m    993\u001b[0m a, b \u001b[38;5;241m=\u001b[39m \u001b[38;5;28mself\u001b[39m\u001b[38;5;241m.\u001b[39m_get_support(\u001b[38;5;241m*\u001b[39margs)\n\u001b[0;32m    994\u001b[0m \u001b[38;5;28;01mwith\u001b[39;00m np\u001b[38;5;241m.\u001b[39merrstate(invalid\u001b[38;5;241m=\u001b[39m\u001b[38;5;124m'\u001b[39m\u001b[38;5;124mignore\u001b[39m\u001b[38;5;124m'\u001b[39m):\n\u001b[1;32m--> 995\u001b[0m     \u001b[38;5;28;01mreturn\u001b[39;00m (\u001b[43ma\u001b[49m\u001b[43m \u001b[49m\u001b[38;5;241;43m<\u001b[39;49m\u001b[38;5;241;43m=\u001b[39;49m\u001b[43m \u001b[49m\u001b[43mx\u001b[49m) \u001b[38;5;241m&\u001b[39m (x \u001b[38;5;241m<\u001b[39m\u001b[38;5;241m=\u001b[39m b)\n",
      "\u001b[1;31mValueError\u001b[0m: The truth value of an array with more than one element is ambiguous. Use a.any() or a.all()"
     ]
    }
   ],
   "source": [
    "from scipy.stats import norm\n",
    "import numpy as np\n",
    "import matplotlib.pyplot as plt\n",
    "stud_marks=np.array([78,65,56,87,91,37,49,77,62,59])\n",
    "max_marks=stud_marks.max()\n",
    "min_marks=stud_marks.min()\n",
    "mean_marks=stud_marks.mean()\n",
    "print(\"Mean of student marks\",mean_marks)\n",
    "std_marks=stud_marks.std()\n",
    "print(\"Standard deviation of student marks %.2f\" %std_marks)\n",
    "norm_stud_marks=norm.pdf([stud_marks,mean_marks,std_marks])\n",
    "print(\"After normalization a student marks \" ,norm_stud_marks)\n",
    "stud_marks1=np.arange(min_marks,max_marks,10)\n",
    "print(stud_marks1)\n",
    "plt.hist(stud_marks,rwidth=0.5,bins=10,density=True)\n",
    "plt.plot(stud_marks,norm.pdf(stud_marks,mean_marks,std_marks))\n",
    "plt.show()"
   ]
  },
  {
   "cell_type": "code",
   "execution_count": 17,
   "id": "0b224378",
   "metadata": {},
   "outputs": [
    {
     "data": {
      "text/html": [
       "<div>\n",
       "<style scoped>\n",
       "    .dataframe tbody tr th:only-of-type {\n",
       "        vertical-align: middle;\n",
       "    }\n",
       "\n",
       "    .dataframe tbody tr th {\n",
       "        vertical-align: top;\n",
       "    }\n",
       "\n",
       "    .dataframe thead th {\n",
       "        text-align: right;\n",
       "    }\n",
       "</style>\n",
       "<table border=\"1\" class=\"dataframe\">\n",
       "  <thead>\n",
       "    <tr style=\"text-align: right;\">\n",
       "      <th></th>\n",
       "      <th>Gender</th>\n",
       "      <th>Height</th>\n",
       "      <th>Weight</th>\n",
       "    </tr>\n",
       "  </thead>\n",
       "  <tbody>\n",
       "    <tr>\n",
       "      <th>0</th>\n",
       "      <td>Male</td>\n",
       "      <td>73.847017</td>\n",
       "      <td>241.893563</td>\n",
       "    </tr>\n",
       "    <tr>\n",
       "      <th>1</th>\n",
       "      <td>Male</td>\n",
       "      <td>68.781904</td>\n",
       "      <td>162.310473</td>\n",
       "    </tr>\n",
       "    <tr>\n",
       "      <th>2</th>\n",
       "      <td>Male</td>\n",
       "      <td>74.110105</td>\n",
       "      <td>212.740856</td>\n",
       "    </tr>\n",
       "    <tr>\n",
       "      <th>3</th>\n",
       "      <td>Male</td>\n",
       "      <td>71.730978</td>\n",
       "      <td>220.042470</td>\n",
       "    </tr>\n",
       "    <tr>\n",
       "      <th>4</th>\n",
       "      <td>Male</td>\n",
       "      <td>69.881796</td>\n",
       "      <td>206.349801</td>\n",
       "    </tr>\n",
       "    <tr>\n",
       "      <th>...</th>\n",
       "      <td>...</td>\n",
       "      <td>...</td>\n",
       "      <td>...</td>\n",
       "    </tr>\n",
       "    <tr>\n",
       "      <th>9995</th>\n",
       "      <td>Female</td>\n",
       "      <td>66.172652</td>\n",
       "      <td>136.777454</td>\n",
       "    </tr>\n",
       "    <tr>\n",
       "      <th>9996</th>\n",
       "      <td>Female</td>\n",
       "      <td>67.067155</td>\n",
       "      <td>170.867906</td>\n",
       "    </tr>\n",
       "    <tr>\n",
       "      <th>9997</th>\n",
       "      <td>Female</td>\n",
       "      <td>63.867992</td>\n",
       "      <td>128.475319</td>\n",
       "    </tr>\n",
       "    <tr>\n",
       "      <th>9998</th>\n",
       "      <td>Female</td>\n",
       "      <td>69.034243</td>\n",
       "      <td>163.852461</td>\n",
       "    </tr>\n",
       "    <tr>\n",
       "      <th>9999</th>\n",
       "      <td>Female</td>\n",
       "      <td>61.944246</td>\n",
       "      <td>113.649103</td>\n",
       "    </tr>\n",
       "  </tbody>\n",
       "</table>\n",
       "<p>10000 rows × 3 columns</p>\n",
       "</div>"
      ],
      "text/plain": [
       "      Gender     Height      Weight\n",
       "0       Male  73.847017  241.893563\n",
       "1       Male  68.781904  162.310473\n",
       "2       Male  74.110105  212.740856\n",
       "3       Male  71.730978  220.042470\n",
       "4       Male  69.881796  206.349801\n",
       "...      ...        ...         ...\n",
       "9995  Female  66.172652  136.777454\n",
       "9996  Female  67.067155  170.867906\n",
       "9997  Female  63.867992  128.475319\n",
       "9998  Female  69.034243  163.852461\n",
       "9999  Female  61.944246  113.649103\n",
       "\n",
       "[10000 rows x 3 columns]"
      ]
     },
     "execution_count": 17,
     "metadata": {},
     "output_type": "execute_result"
    }
   ],
   "source": [
    "import pandas as pd\n",
    "data=pd.read_csv(r\"E:\\Backup\\Datasets\\weight-height.csv\")\n",
    "data"
   ]
  },
  {
   "cell_type": "code",
   "execution_count": 2,
   "id": "d65b0c7f",
   "metadata": {},
   "outputs": [
    {
     "data": {
      "text/plain": [
       "Gender\n",
       "Male      5000\n",
       "Female    5000\n",
       "Name: count, dtype: int64"
      ]
     },
     "execution_count": 2,
     "metadata": {},
     "output_type": "execute_result"
    }
   ],
   "source": [
    "data['Gender'].value_counts()"
   ]
  },
  {
   "cell_type": "code",
   "execution_count": 5,
   "id": "a4aac770",
   "metadata": {},
   "outputs": [
    {
     "data": {
      "text/plain": [
       "Text(0, 0.5, 'Count')"
      ]
     },
     "execution_count": 5,
     "metadata": {},
     "output_type": "execute_result"
    },
    {
     "data": {
      "image/png": "[encoded data removed]",
      "text/plain": [
       "<Figure size 640x480 with 1 Axes>"
      ]
     },
     "metadata": {},
     "output_type": "display_data"
    }
   ],
   "source": [
    "import matplotlib.pyplot as plt\n",
    "plt.hist(data.Gender,bins=2,rwidth=0.3)\n",
    "plt.xticks(['Male','Female'])\n",
    "plt.xlabel('Gender')\n",
    "plt.ylabel('Count')"
   ]
  },
  {
   "cell_type": "code",
   "execution_count": 8,
   "id": "ecffce0f",
   "metadata": {},
   "outputs": [
    {
     "name": "stdout",
     "output_type": "stream",
     "text": [
      "[16, 20, 27, 29, 35, 40, 45]\n"
     ]
    },
    {
     "data": {
      "text/plain": [
       "Text(0, 0.5, 'Count')"
      ]
     },
     "execution_count": 8,
     "metadata": {},
     "output_type": "execute_result"
    },
    {
     "data": {
      "image/png": "[encoded data removed]",
      "text/plain": [
       "<Figure size 640x480 with 1 Axes>"
      ]
     },
     "metadata": {},
     "output_type": "display_data"
    }
   ],
   "source": [
    "import matplotlib.pyplot as plt\n",
    "marks=[20,35,45,27,16,29,40]\n",
    "marks.sort()\n",
    "print(marks)\n",
    "plt.hist(marks,bins=4,rwidth=0.5)\n",
    "plt.xlabel('Marks')\n",
    "plt.ylabel('Count')"
   ]
  },
  {
   "cell_type": "code",
   "execution_count": 19,
   "id": "a1bb277b",
   "metadata": {},
   "outputs": [
    {
     "data": {
      "text/plain": [
       "Text(0, 0.5, 'Count')"
      ]
     },
     "execution_count": 19,
     "metadata": {},
     "output_type": "execute_result"
    },
    {
     "data": {
      "image/png": "[encoded data removed]",
      "text/plain": [
       "<Figure size 640x480 with 1 Axes>"
      ]
     },
     "metadata": {},
     "output_type": "display_data"
    }
   ],
   "source": [
    "import matplotlib.pyplot as plt\n",
    "plt.hist(data.Weight,bins=20,rwidth=0.5)\n",
    "plt.xlabel('Height')\n",
    "plt.ylabel('Count')"
   ]
  },
  {
   "cell_type": "code",
   "execution_count": 20,
   "id": "7263fe59",
   "metadata": {},
   "outputs": [
    {
     "data": {
      "text/plain": [
       "269.989698505106"
      ]
     },
     "execution_count": 20,
     "metadata": {},
     "output_type": "execute_result"
    }
   ],
   "source": [
    "data['Weight'].max() #HEIGHT"
   ]
  },
  {
   "cell_type": "code",
   "execution_count": 21,
   "id": "78038cb8",
   "metadata": {},
   "outputs": [
    {
     "data": {
      "text/plain": [
       "64.700126712753"
      ]
     },
     "execution_count": 21,
     "metadata": {},
     "output_type": "execute_result"
    }
   ],
   "source": [
    "data['Weight'].min() #HEIGHT"
   ]
  },
  {
   "cell_type": "code",
   "execution_count": 29,
   "id": "c06b8fcc",
   "metadata": {},
   "outputs": [
    {
     "name": "stdout",
     "output_type": "stream",
     "text": [
      "103\n"
     ]
    },
    {
     "data": {
      "text/plain": [
       "[<matplotlib.lines.Line2D at 0x21d4acf1cc0>]"
      ]
     },
     "execution_count": 29,
     "metadata": {},
     "output_type": "execute_result"
    },
    {
     "data": {
      "image/png": "[encoded data removed]",
      "text/plain": [
       "<Figure size 640x480 with 1 Axes>"
      ]
     },
     "metadata": {},
     "output_type": "display_data"
    }
   ],
   "source": [
    "from scipy.stats import norm\n",
    "import numpy as np\n",
    "import matplotlib.pyplot as plt\n",
    "plt.hist(data.Weight,bins=20,rwidth=0.5,density=True)\n",
    "plt.xlabel('Weight')\n",
    "plt.ylabel('Count')\n",
    "weight_data=np.arange(data['Weight'].min(),data['Weight'].max(),2)\n",
    "print(len(weight_data))\n",
    "plt.plot(weight_data,norm.pdf(weight_data,data['Weight'].mean(),\n",
    "                              data['Weight'].std()))"
   ]
  },
  {
   "cell_type": "code",
   "execution_count": 24,
   "id": "88c80602",
   "metadata": {},
   "outputs": [
    {
     "name": "stdout",
     "output_type": "stream",
     "text": [
      "Collecting scipy\n",
      "  Obtaining dependency information for scipy from https://files.pythonhosted.org/packages/f8/ec/b46756f80e3f4c5f0989f6e4492c2851f156d9c239d554754a3c8cffd4e2/scipy-1.11.4-cp310-cp310-win_amd64.whl.metadata\n",
      "  Downloading scipy-1.11.4-cp310-cp310-win_amd64.whl.metadata (60 kB)\n",
      "     ---------------------------------------- 0.0/60.4 kB ? eta -:--:--\n",
      "     ---------------------------------------- 60.4/60.4 kB 3.1 MB/s eta 0:00:00\n",
      "Requirement already satisfied: numpy<1.28.0,>=1.21.6 in c:\\users\\administrator\\appdata\\local\\programs\\python\\python310\\lib\\site-packages (from scipy) (1.25.2)\n",
      "Downloading scipy-1.11.4-cp310-cp310-win_amd64.whl (44.1 MB)\n",
      "   ---------------------------------------- 0.0/44.1 MB ? eta -:--:--\n",
      "   ---------------------------------------- 0.5/44.1 MB 15.9 MB/s eta 0:00:03\n",
      "   - -------------------------------------- 1.9/44.1 MB 24.3 MB/s eta 0:00:02\n",
      "   --- ------------------------------------ 3.7/44.1 MB 29.3 MB/s eta 0:00:02\n",
      "   ---- ----------------------------------- 5.4/44.1 MB 31.6 MB/s eta 0:00:02\n",
      "   ------ --------------------------------- 7.0/44.1 MB 32.1 MB/s eta 0:00:02\n",
      "   ------- -------------------------------- 8.1/44.1 MB 32.4 MB/s eta 0:00:02\n",
      "   -------- ------------------------------- 9.2/44.1 MB 30.9 MB/s eta 0:00:02\n",
      "   -------- ------------------------------- 9.2/44.1 MB 30.9 MB/s eta 0:00:02\n",
      "   --------- ------------------------------ 10.7/44.1 MB 27.3 MB/s eta 0:00:02\n",
      "   ----------- ---------------------------- 12.2/44.1 MB 28.5 MB/s eta 0:00:02\n",
      "   ------------ --------------------------- 13.7/44.1 MB 28.5 MB/s eta 0:00:02\n",
      "   ------------- -------------------------- 15.2/44.1 MB 27.3 MB/s eta 0:00:02\n",
      "   --------------- ------------------------ 16.8/44.1 MB 27.3 MB/s eta 0:00:02\n",
      "   ---------------- ----------------------- 18.2/44.1 MB 27.3 MB/s eta 0:00:01\n",
      "   ----------------- ---------------------- 19.8/44.1 MB 34.6 MB/s eta 0:00:01\n",
      "   ------------------- -------------------- 21.2/44.1 MB 32.8 MB/s eta 0:00:01\n",
      "   -------------------- ------------------- 22.9/44.1 MB 34.4 MB/s eta 0:00:01\n",
      "   ---------------------- ----------------- 24.5/44.1 MB 32.8 MB/s eta 0:00:01\n",
      "   ----------------------- ---------------- 26.3/44.1 MB 34.4 MB/s eta 0:00:01\n",
      "   ------------------------- -------------- 28.1/44.1 MB 34.4 MB/s eta 0:00:01\n",
      "   -------------------------- ------------- 29.7/44.1 MB 36.3 MB/s eta 0:00:01\n",
      "   ---------------------------- ----------- 31.0/44.1 MB 34.4 MB/s eta 0:00:01\n",
      "   ----------------------------- ---------- 32.5/44.1 MB 34.6 MB/s eta 0:00:01\n",
      "   ------------------------------ --------- 34.1/44.1 MB 34.4 MB/s eta 0:00:01\n",
      "   -------------------------------- ------- 35.9/44.1 MB 34.4 MB/s eta 0:00:01\n",
      "   ---------------------------------- ----- 37.5/44.1 MB 34.4 MB/s eta 0:00:01\n",
      "   ----------------------------------- ---- 39.2/44.1 MB 34.4 MB/s eta 0:00:01\n",
      "   ------------------------------------- -- 41.0/44.1 MB 34.4 MB/s eta 0:00:01\n",
      "   -------------------------------------- - 42.6/44.1 MB 38.5 MB/s eta 0:00:01\n",
      "   ---------------------------------------  43.8/44.1 MB 38.6 MB/s eta 0:00:01\n",
      "   ---------------------------------------  44.1/44.1 MB 34.4 MB/s eta 0:00:01\n",
      "   ---------------------------------------  44.1/44.1 MB 34.4 MB/s eta 0:00:01\n",
      "   ---------------------------------------  44.1/44.1 MB 34.4 MB/s eta 0:00:01\n",
      "   ---------------------------------------  44.1/44.1 MB 34.4 MB/s eta 0:00:01\n",
      "   ---------------------------------------  44.1/44.1 MB 34.4 MB/s eta 0:00:01\n",
      "   ---------------------------------------  44.1/44.1 MB 34.4 MB/s eta 0:00:01\n",
      "   ---------------------------------------  44.1/44.1 MB 34.4 MB/s eta 0:00:01\n",
      "   ---------------------------------------  44.1/44.1 MB 34.4 MB/s eta 0:00:01\n",
      "   ---------------------------------------  44.1/44.1 MB 34.4 MB/s eta 0:00:01\n",
      "   ---------------------------------------  44.1/44.1 MB 34.4 MB/s eta 0:00:01\n",
      "   ---------------------------------------  44.1/44.1 MB 34.4 MB/s eta 0:00:01\n",
      "   ---------------------------------------  44.1/44.1 MB 34.4 MB/s eta 0:00:01\n",
      "   ---------------------------------------  44.1/44.1 MB 34.4 MB/s eta 0:00:01\n",
      "   ---------------------------------------  44.1/44.1 MB 34.4 MB/s eta 0:00:01\n",
      "   ---------------------------------------  44.1/44.1 MB 34.4 MB/s eta 0:00:01\n",
      "   ---------------------------------------  44.1/44.1 MB 34.4 MB/s eta 0:00:01\n",
      "   ---------------------------------------  44.1/44.1 MB 34.4 MB/s eta 0:00:01\n",
      "   ---------------------------------------  44.1/44.1 MB 34.4 MB/s eta 0:00:01\n",
      "   ---------------------------------------  44.1/44.1 MB 34.4 MB/s eta 0:00:01\n",
      "   ---------------------------------------  44.1/44.1 MB 34.4 MB/s eta 0:00:01\n",
      "   ---------------------------------------  44.1/44.1 MB 34.4 MB/s eta 0:00:01\n",
      "   ---------------------------------------  44.1/44.1 MB 34.4 MB/s eta 0:00:01\n",
      "   ---------------------------------------  44.1/44.1 MB 34.4 MB/s eta 0:00:01\n",
      "   ---------------------------------------- 44.1/44.1 MB 6.9 MB/s eta 0:00:00\n",
      "Installing collected packages: scipy\n",
      "Successfully installed scipy-1.11.4\n",
      "Note: you may need to restart the kernel to use updated packages.\n"
     ]
    },
    {
     "name": "stderr",
     "output_type": "stream",
     "text": [
      "\n",
      "[notice] A new release of pip is available: 23.2.1 -> 23.3.1\n",
      "[notice] To update, run: python.exe -m pip install --upgrade pip\n"
     ]
    }
   ],
   "source": [
    "pip install scipy"
   ]
  },
  {
   "cell_type": "code",
   "execution_count": 30,
   "id": "98583b44",
   "metadata": {},
   "outputs": [
    {
     "name": "stdout",
     "output_type": "stream",
     "text": [
      "65.11503981327198\n"
     ]
    }
   ],
   "source": [
    "#standard normalization\n",
    "#mean=0\n",
    "#std=1\n",
    "#range -3 to +3\n",
    "lower_limit=data['Weight'].mean()-3*data['Weight'].std()\n",
    "print(lower_limit)"
   ]
  },
  {
   "cell_type": "code",
   "execution_count": 31,
   "id": "a0167a73",
   "metadata": {},
   "outputs": [
    {
     "name": "stdout",
     "output_type": "stream",
     "text": [
      "257.76567385238957\n"
     ]
    }
   ],
   "source": [
    "upper_limit=data['Weight'].mean()+3*data['Weight'].std()\n",
    "print(upper_limit)"
   ]
  },
  {
   "cell_type": "code",
   "execution_count": 32,
   "id": "96b65d6f",
   "metadata": {},
   "outputs": [
    {
     "data": {
      "text/html": [
       "<div>\n",
       "<style scoped>\n",
       "    .dataframe tbody tr th:only-of-type {\n",
       "        vertical-align: middle;\n",
       "    }\n",
       "\n",
       "    .dataframe tbody tr th {\n",
       "        vertical-align: top;\n",
       "    }\n",
       "\n",
       "    .dataframe thead th {\n",
       "        text-align: right;\n",
       "    }\n",
       "</style>\n",
       "<table border=\"1\" class=\"dataframe\">\n",
       "  <thead>\n",
       "    <tr style=\"text-align: right;\">\n",
       "      <th></th>\n",
       "      <th>Gender</th>\n",
       "      <th>Height</th>\n",
       "      <th>Weight</th>\n",
       "    </tr>\n",
       "  </thead>\n",
       "  <tbody>\n",
       "    <tr>\n",
       "      <th>0</th>\n",
       "      <td>Male</td>\n",
       "      <td>73.847017</td>\n",
       "      <td>241.893563</td>\n",
       "    </tr>\n",
       "    <tr>\n",
       "      <th>1</th>\n",
       "      <td>Male</td>\n",
       "      <td>68.781904</td>\n",
       "      <td>162.310473</td>\n",
       "    </tr>\n",
       "    <tr>\n",
       "      <th>2</th>\n",
       "      <td>Male</td>\n",
       "      <td>74.110105</td>\n",
       "      <td>212.740856</td>\n",
       "    </tr>\n",
       "    <tr>\n",
       "      <th>3</th>\n",
       "      <td>Male</td>\n",
       "      <td>71.730978</td>\n",
       "      <td>220.042470</td>\n",
       "    </tr>\n",
       "    <tr>\n",
       "      <th>4</th>\n",
       "      <td>Male</td>\n",
       "      <td>69.881796</td>\n",
       "      <td>206.349801</td>\n",
       "    </tr>\n",
       "    <tr>\n",
       "      <th>...</th>\n",
       "      <td>...</td>\n",
       "      <td>...</td>\n",
       "      <td>...</td>\n",
       "    </tr>\n",
       "    <tr>\n",
       "      <th>9995</th>\n",
       "      <td>Female</td>\n",
       "      <td>66.172652</td>\n",
       "      <td>136.777454</td>\n",
       "    </tr>\n",
       "    <tr>\n",
       "      <th>9996</th>\n",
       "      <td>Female</td>\n",
       "      <td>67.067155</td>\n",
       "      <td>170.867906</td>\n",
       "    </tr>\n",
       "    <tr>\n",
       "      <th>9997</th>\n",
       "      <td>Female</td>\n",
       "      <td>63.867992</td>\n",
       "      <td>128.475319</td>\n",
       "    </tr>\n",
       "    <tr>\n",
       "      <th>9998</th>\n",
       "      <td>Female</td>\n",
       "      <td>69.034243</td>\n",
       "      <td>163.852461</td>\n",
       "    </tr>\n",
       "    <tr>\n",
       "      <th>9999</th>\n",
       "      <td>Female</td>\n",
       "      <td>61.944246</td>\n",
       "      <td>113.649103</td>\n",
       "    </tr>\n",
       "  </tbody>\n",
       "</table>\n",
       "<p>9998 rows × 3 columns</p>\n",
       "</div>"
      ],
      "text/plain": [
       "      Gender     Height      Weight\n",
       "0       Male  73.847017  241.893563\n",
       "1       Male  68.781904  162.310473\n",
       "2       Male  74.110105  212.740856\n",
       "3       Male  71.730978  220.042470\n",
       "4       Male  69.881796  206.349801\n",
       "...      ...        ...         ...\n",
       "9995  Female  66.172652  136.777454\n",
       "9996  Female  67.067155  170.867906\n",
       "9997  Female  63.867992  128.475319\n",
       "9998  Female  69.034243  163.852461\n",
       "9999  Female  61.944246  113.649103\n",
       "\n",
       "[9998 rows x 3 columns]"
      ]
     },
     "execution_count": 32,
     "metadata": {},
     "output_type": "execute_result"
    }
   ],
   "source": [
    "new_data=data[(data['Weight']<upper_limit) & (data['Weight']>lower_limit)]\n",
    "new_data"
   ]
  },
  {
   "cell_type": "markdown",
   "id": "a9106e71",
   "metadata": {},
   "source": [
    "Above the heights on higher end is 78 inch which is around 6 ft 6 inch. Now that is quite unusual height. There are people who have this height but it is very uncommon and it is ok if you remove those data points. Similarly on lower end it is 54 inch which is around 4 ft 6 inch. While this is also a legitimate height you don't find many people having this height so it is safe to consider both of these cases as outliers"
   ]
  },
  {
   "cell_type": "markdown",
   "id": "a7e08e2d",
   "metadata": {},
   "source": [
    "# One way ANOVA Test"
   ]
  },
  {
   "cell_type": "code",
   "execution_count": 3,
   "id": "c1e5036b",
   "metadata": {},
   "outputs": [
    {
     "name": "stdout",
     "output_type": "stream",
     "text": [
      "F statistics is 4.625000000000002\n",
      "P value is 0.016336459839780215\n",
      "Reject null hypothesis\n"
     ]
    }
   ],
   "source": [
    "from scipy.stats import f_oneway\n",
    "# Performance when each of the engine\n",
    "# oil is applied\n",
    "performance1 = [89, 89, 88, 78, 79]\n",
    "performance2 = [93, 92, 94, 89, 88]\n",
    "performance3 = [89, 88, 89, 93, 90]\n",
    "performance4 = [81, 78, 81, 92, 82]\n",
    "f_stat,pvalue=f_oneway(performance1,performance2,performance3,performance4)\n",
    "print(\"F statistics is\",f_stat)\n",
    "print(\"P value is\",pvalue)\n",
    "if(pvalue<0.05):\n",
    "    print(\"Reject null hypothesis\")\n",
    "else:\n",
    "    print(\"Null hypothesis is accepted\")"
   ]
  },
  {
   "cell_type": "code",
   "execution_count": 8,
   "id": "92542749",
   "metadata": {},
   "outputs": [
    {
     "name": "stdout",
     "output_type": "stream",
     "text": [
      "F statistics is 0.09642857142857143\n",
      "P value is 0.908386059683445\n",
      "Null hypothesis is accepted\n"
     ]
    }
   ],
   "source": [
    "from scipy.stats import f_oneway\n",
    "#study methods\n",
    "methodA=[10,9,8,7.5,8.5,9,10,8,8,9]\n",
    "methodB=[8,9,10,8,8.5,7,9.5,9,7,10]\n",
    "methodC=[9,8,7,10,9,8,7,10,9,8]\n",
    "f_stat,pvalue=f_oneway(methodA,methodB,methodC)\n",
    "print(\"F statistics is\",f_stat) #3.35\n",
    "print(\"P value is\",pvalue) #0.0071\n",
    "if(pvalue<0.05):\n",
    "    print(\"Reject null hypothesis\")\n",
    "else:\n",
    "    print(\"Null hypothesis is accepted\")\n"
   ]
  },
  {
   "cell_type": "code",
   "execution_count": 2,
   "id": "65e201a1",
   "metadata": {},
   "outputs": [
    {
     "name": "stdout",
     "output_type": "stream",
     "text": [
      "F statistics 3.8453857725970124\n",
      "Probability 0.04988304516839146\n",
      "No of degree of freedom 1\n",
      "Expected value table\n",
      " [[222.64241164 266.35758836]\n",
      " [215.35758836 257.64241164]]\n",
      "Critical statistics value is  5.96\n",
      "Null hypothesis is accepted\n"
     ]
    }
   ],
   "source": [
    "#chi square test\n",
    "from scipy.stats import chi2_contingency\n",
    "data=[[207,282],[231,242]]\n",
    "stat,p,dof,expected=chi2_contingency(data)\n",
    "print(\"F statistics\",stat)\n",
    "print(\"Probability\",p)\n",
    "print(\"No of degree of freedom\",dof)\n",
    "print(\"Expected value table\\n\",expected)\n",
    "f_critical=5.96\n",
    "print(\"Critical statistics value is \",f_critical)\n",
    "if(stat>f_critical):\n",
    "    print(\"Null hypothesis is rejected\")\n",
    "else:\n",
    "    print(\"Null hypothesis is accepted\")"
   ]
  },
  {
   "cell_type": "markdown",
   "id": "69f88950",
   "metadata": {},
   "source": [
    "# z test"
   ]
  },
  {
   "cell_type": "markdown",
   "id": "79ed5884",
   "metadata": {},
   "source": [
    "Example:A principal at a school claims that the students in his school are above avreage intelligence.A random sample of 30students IQ score have a mean score of 112.5.If there sufficient eveidence to support the principal claim?The mean polpulation IQ is 100 with standard deviation of 15."
   ]
  },
  {
   "cell_type": "code",
   "execution_count": 35,
   "id": "abe17816",
   "metadata": {},
   "outputs": [
    {
     "name": "stdout",
     "output_type": "stream",
     "text": [
      "112.53333333333333\n",
      "Z statistics 17.83862951258594\n",
      "P value 3.5427891223705364e-71\n",
      "Null hypothesis is rejected\n"
     ]
    }
   ],
   "source": [
    "#one sample z test\n",
    "from statsmodels.stats.weightstats import ztest \n",
    "import numpy as np\n",
    "\n",
    "#enter IQ levels for 30 students\n",
    "data =np.array([110, 110, 112, 112, 118, 110, 112, 112, 115, 114,\n",
    "        105, 105, 105, 109, 110, 112, 112, 113, 114, 115,\n",
    "       116,117,119,120,115,118,110, 112, 112,112])\n",
    "print(data.mean())\n",
    "zstat,pvalue=ztest(data,value=100)\n",
    "print(\"Z statistics\",zstat)\n",
    "print(\"P value\",pvalue)\n",
    "if(pvalue<0.05):\n",
    "    print(\"Null hypothesis is rejected\")\n",
    "else:\n",
    "    print(\"Null hypothesis is accepted\")"
   ]
  },
  {
   "cell_type": "markdown",
   "id": "ffb69131",
   "metadata": {},
   "source": [
    "Two sample z-test"
   ]
  },
  {
   "cell_type": "markdown",
   "id": "446b4e9c",
   "metadata": {},
   "source": [
    "Suppose the IQ levels among individuals in two different cities are known to be normally distributed with known standard deviations.\n",
    "\n",
    "A researcher wants to know if the mean IQ level between individuals in city A and city B are different, so she selects a simple random sample of 20 individuals from each city and records their IQ levels."
   ]
  },
  {
   "cell_type": "code",
   "execution_count": 8,
   "id": "ccef962f",
   "metadata": {},
   "outputs": [
    {
     "name": "stdout",
     "output_type": "stream",
     "text": [
      "Collecting statsmodels\n",
      "  Using cached statsmodels-0.14.0-cp310-cp310-win_amd64.whl (9.2 MB)\n",
      "Requirement already satisfied: numpy>=1.18 in c:\\users\\administrator\\appdata\\local\\programs\\python\\python310\\lib\\site-packages (from statsmodels) (1.25.2)\n",
      "Requirement already satisfied: scipy!=1.9.2,>=1.4 in c:\\users\\administrator\\appdata\\local\\programs\\python\\python310\\lib\\site-packages (from statsmodels) (1.11.4)\n",
      "Requirement already satisfied: pandas>=1.0 in c:\\users\\administrator\\appdata\\local\\programs\\python\\python310\\lib\\site-packages (from statsmodels) (2.1.0)\n",
      "Collecting patsy>=0.5.2 (from statsmodels)\n",
      "  Using cached patsy-0.5.3-py2.py3-none-any.whl (233 kB)\n",
      "Requirement already satisfied: packaging>=21.3 in c:\\users\\administrator\\appdata\\roaming\\python\\python310\\site-packages (from statsmodels) (23.1)\n",
      "Requirement already satisfied: python-dateutil>=2.8.2 in c:\\users\\administrator\\appdata\\roaming\\python\\python310\\site-packages (from pandas>=1.0->statsmodels) (2.8.2)\n",
      "Requirement already satisfied: pytz>=2020.1 in c:\\users\\administrator\\appdata\\local\\programs\\python\\python310\\lib\\site-packages (from pandas>=1.0->statsmodels) (2023.3.post1)\n",
      "Requirement already satisfied: tzdata>=2022.1 in c:\\users\\administrator\\appdata\\local\\programs\\python\\python310\\lib\\site-packages (from pandas>=1.0->statsmodels) (2023.3)\n",
      "Requirement already satisfied: six in c:\\users\\administrator\\appdata\\roaming\\python\\python310\\site-packages (from patsy>=0.5.2->statsmodels) (1.16.0)\n",
      "Installing collected packages: patsy, statsmodels\n",
      "Successfully installed patsy-0.5.3 statsmodels-0.14.0\n",
      "Note: you may need to restart the kernel to use updated packages.\n"
     ]
    },
    {
     "name": "stderr",
     "output_type": "stream",
     "text": [
      "\n",
      "[notice] A new release of pip is available: 23.2.1 -> 23.3.1\n",
      "[notice] To update, run: python.exe -m pip install --upgrade pip\n"
     ]
    }
   ],
   "source": [
    "pip install statsmodels"
   ]
  },
  {
   "cell_type": "code",
   "execution_count": 9,
   "id": "a0c716d1",
   "metadata": {},
   "outputs": [
    {
     "name": "stdout",
     "output_type": "stream",
     "text": [
      "Null hyphothesis is True/accepted\n"
     ]
    }
   ],
   "source": [
    "from statsmodels.stats.weightstats import ztest \n",
    "#enter IQ levels for 20 individuals from each city\n",
    "cityA = [82, 84, 85, 89, 91, 91, 92, 94, 99, 99,\n",
    "         105, 109, 109, 109, 110, 112, 112, 113, 114, 114]\n",
    "cityB = [90, 91, 91, 91, 95, 95, 99, 99, 108, 109,\n",
    "         109, 114, 115, 116, 117, 117, 128, 129, 130, 133]\n",
    "z_statics,p_value=ztest(cityA,cityB)\n",
    "if(p_value<=0.05):\n",
    "    print(\"Null hyphothesis is True/accepted\")\n",
    "else:\n",
    "    print(\"Null hyphothesis is False/rejected\")"
   ]
  },
  {
   "cell_type": "markdown",
   "id": "114044b3",
   "metadata": {},
   "source": [
    "One sample ttest"
   ]
  },
  {
   "cell_type": "markdown",
   "id": "c00cbc52",
   "metadata": {},
   "source": [
    "1.assumption:There is no difference between sample mean and population. It is called null hypothesis.Here p=0.05. 2.Alternate hypothesis:There is difference between sample mean and population.\n",
    "\n",
    "Syntax:ttest_1samp(sample_records,random_mean)"
   ]
  },
  {
   "cell_type": "code",
   "execution_count": 28,
   "id": "f4851292",
   "metadata": {},
   "outputs": [
    {
     "name": "stdout",
     "output_type": "stream",
     "text": [
      "Mean value of age is 41.7\n",
      "0.4055540364455623\n",
      "T statistics value is  0.8726102294669137\n",
      "P value is  0.04055540364455623\n",
      "Null hyphothesis is True\n"
     ]
    }
   ],
   "source": [
    "from scipy.stats import ttest_1samp\n",
    "import numpy as np\n",
    "age=np.array([45,32,22,56,34,67,43,38,30,50])\n",
    "mean_age=age.mean()\n",
    "print(\"Mean value of age is\",mean_age)\n",
    "t_stats,pvalue=ttest_1samp(age,38)\n",
    "print(pvalue)\n",
    "print(\"T statistics value is \",t_stats)\n",
    "pvalue=pvalue/10\n",
    "print(\"P value is \",pvalue)\n",
    "if(pvalue<=0.05):\n",
    "    print(\"Null hyphothesis is True\")\n",
    "else:\n",
    "    print(\"Null hyphothesis is Reject\")"
   ]
  },
  {
   "cell_type": "markdown",
   "id": "55a31c32",
   "metadata": {},
   "source": [
    "Two sample ttest"
   ]
  },
  {
   "cell_type": "markdown",
   "id": "dd6bec3f",
   "metadata": {},
   "source": [
    "Python program to implement Independent T-Test on the two independent samples"
   ]
  },
  {
   "cell_type": "markdown",
   "id": "19dfe7a8",
   "metadata": {},
   "source": [
    "Assumption:Null Hypothesis:Two samples are not dependent.\n",
    "        Alternate Hypothesis:Two samples are dependent."
   ]
  },
  {
   "cell_type": "code",
   "execution_count": 12,
   "id": "c109d995",
   "metadata": {},
   "outputs": [
    {
     "name": "stdout",
     "output_type": "stream",
     "text": [
      "Group 1 mean value is 16.25\n",
      "Group 2 mean value is 20.85\n",
      "T statistics value is  -0.07075218076758687\n",
      "P value is  0.012117171124028792\n",
      "Null hyphothesis is True\n"
     ]
    }
   ],
   "source": [
    "from scipy.stats import ttest_ind\n",
    "import  numpy as np\n",
    "# Creating the data groups  \n",
    "data_group1 = np.array([12, 18, 12, 13, 15, 1, 7,  \n",
    "                        20, 21, 25, 19, 31, 21, 17,  \n",
    "                        17, 15, 19, 15, 12, 15])  \n",
    "data_group2 = np.array([23, 22, 24, 25, 21, 26, 21,  \n",
    "                        21, 25, 30, 24, 21, 23, 19,  \n",
    "                        14, 18, 14, 12, 19, 15]) \n",
    "print(\"Group 1 mean value is\",data_group1.mean())\n",
    "print(\"Group 2 mean value is\",data_group2.mean())\n",
    "tstats,pvalue=ttest_ind(data_group1,data_group2)\n",
    "print(\"T statistics value is \",t_stats)\n",
    "print(\"P value is \",pvalue)\n",
    "if(pvalue<=0.05):\n",
    "    print(\"Null hyphothesis is True\")\n",
    "else:\n",
    "    print(\"Null hyphothesis is Reject\")\n"
   ]
  },
  {
   "cell_type": "code",
   "execution_count": null,
   "id": "79386ece",
   "metadata": {},
   "outputs": [],
   "source": []
  }
 ],
 "metadata": {
  "kernelspec": {
   "display_name": "Python 3",
   "language": "python",
   "name": "python3"
  },
  "language_info": {
   "codemirror_mode": {
    "name": "ipython",
    "version": 3
   },
   "file_extension": ".py",
   "mimetype": "text/x-python",
   "name": "python",
   "nbconvert_exporter": "python",
   "pygments_lexer": "ipython3",
   "version": "3.10.6 (tags/v3.10.6:9c7b4bd, Aug  1 2022, 21:53:49) [MSC v.1932 64 bit (AMD64)]"
  },
  "vscode": {
   "interpreter": {
    "hash": "3196968d684371006099b3d55edeef8ed90365227a30deaef86e5d4aa8519be0"
   }
  }
 },
 "nbformat": 4,
 "nbformat_minor": 5
}
